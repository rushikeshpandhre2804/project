{
 "cells": [
  {
   "cell_type": "markdown",
   "id": "32b1c7ba",
   "metadata": {
    "papermill": {
     "duration": 0.024627,
     "end_time": "2023-07-08T09:05:13.696862",
     "exception": false,
     "start_time": "2023-07-08T09:05:13.672235",
     "status": "completed"
    },
    "tags": []
   },
   "source": [
    " ## SkyInsight: ML Weather Forecasting System\n",
    "\n",
    "SkyInsight is a powerful system designed to accurately classify weather conditions as Overcast, Clear, or Foggy. This classifier employs advanced techniques from machine learning domains to achieve precise weather predictions.\n"
   ]
  },
  {
   "cell_type": "code",
   "execution_count": 1,
   "id": "8b4907a1",
   "metadata": {
    "execution": {
     "iopub.execute_input": "2023-07-08T09:05:13.749820Z",
     "iopub.status.busy": "2023-07-08T09:05:13.748945Z",
     "iopub.status.idle": "2023-07-08T09:05:24.160489Z",
     "shell.execute_reply": "2023-07-08T09:05:24.159261Z"
    },
    "papermill": {
     "duration": 10.441346,
     "end_time": "2023-07-08T09:05:24.163227",
     "exception": false,
     "start_time": "2023-07-08T09:05:13.721881",
     "status": "completed"
    },
    "tags": []
   },
   "outputs": [],
   "source": [
    "# Importing Libraries\n",
    "import pandas as pd\n",
    "import matplotlib.pyplot as plt\n",
    "import seaborn as sns\n",
    "import numpy as np\n",
    "from datetime import datetime\n",
    "import joblib\n",
    "from sklearn.preprocessing import StandardScaler, LabelEncoder\n",
    "from sklearn.linear_model import LogisticRegression, SGDClassifier\n",
    "from sklearn.svm import SVC\n",
    "from sklearn.tree import DecisionTreeClassifier\n",
    "from sklearn.naive_bayes import GaussianNB\n",
    "from sklearn.neighbors import KNeighborsClassifier\n",
    "from sklearn.model_selection import train_test_split\n",
    "from sklearn.model_selection import GridSearchCV\n",
    "from sklearn.metrics import accuracy_score, precision_score, recall_score, f1_score, confusion_matrix\n",
    "from sklearn.ensemble import RandomForestClassifier, ExtraTreesClassifier, GradientBoostingClassifier, BaggingClassifier\n",
    "import warnings\n",
    "warnings.simplefilter('ignore')\n",
    "sns.set_theme(style=\"dark\")\n",
    "from sklearn.cluster import KMeans"
   ]
  },
  {
   "cell_type": "code",
   "execution_count": 3,
   "id": "df161833",
   "metadata": {},
   "outputs": [
    {
     "data": {
      "text/plain": [
       "Formatted Date              96453\n",
       "Summary                     96453\n",
       "Precip Type                 95936\n",
       "Temperature (C)             96453\n",
       "Apparent Temperature (C)    96453\n",
       "Humidity                    96453\n",
       "Wind Speed (km/h)           96453\n",
       "Wind Bearing (degrees)      96453\n",
       "Visibility (km)             96453\n",
       "Loud Cover                  96453\n",
       "Pressure (millibars)        96453\n",
       "Daily Summary               96453\n",
       "dtype: int64"
      ]
     },
     "execution_count": 3,
     "metadata": {},
     "output_type": "execute_result"
    }
   ],
   "source": [
    "data1.count()"
   ]
  },
  {
   "cell_type": "code",
   "execution_count": 2,
   "id": "e2553f8d",
   "metadata": {
    "execution": {
     "iopub.execute_input": "2023-07-08T09:05:24.413182Z",
     "iopub.status.busy": "2023-07-08T09:05:24.412779Z",
     "iopub.status.idle": "2023-07-08T09:05:25.015271Z",
     "shell.execute_reply": "2023-07-08T09:05:25.013969Z"
    },
    "papermill": {
     "duration": 0.632414,
     "end_time": "2023-07-08T09:05:25.017869",
     "exception": false,
     "start_time": "2023-07-08T09:05:24.385455",
     "status": "completed"
    },
    "scrolled": true,
    "tags": []
   },
   "outputs": [
    {
     "data": {
      "text/html": [
       "<div>\n",
       "<style scoped>\n",
       "    .dataframe tbody tr th:only-of-type {\n",
       "        vertical-align: middle;\n",
       "    }\n",
       "\n",
       "    .dataframe tbody tr th {\n",
       "        vertical-align: top;\n",
       "    }\n",
       "\n",
       "    .dataframe thead th {\n",
       "        text-align: right;\n",
       "    }\n",
       "</style>\n",
       "<table border=\"1\" class=\"dataframe\">\n",
       "  <thead>\n",
       "    <tr style=\"text-align: right;\">\n",
       "      <th></th>\n",
       "      <th>Formatted Date</th>\n",
       "      <th>Summary</th>\n",
       "      <th>Precip Type</th>\n",
       "      <th>Temperature (C)</th>\n",
       "      <th>Apparent Temperature (C)</th>\n",
       "      <th>Humidity</th>\n",
       "      <th>Wind Speed (km/h)</th>\n",
       "      <th>Wind Bearing (degrees)</th>\n",
       "      <th>Visibility (km)</th>\n",
       "      <th>Loud Cover</th>\n",
       "      <th>Pressure (millibars)</th>\n",
       "      <th>Daily Summary</th>\n",
       "    </tr>\n",
       "  </thead>\n",
       "  <tbody>\n",
       "    <tr>\n",
       "      <th>0</th>\n",
       "      <td>2006-04-01 00:00:00.000 +0200</td>\n",
       "      <td>Partly Cloudy</td>\n",
       "      <td>rain</td>\n",
       "      <td>9.472222</td>\n",
       "      <td>7.388889</td>\n",
       "      <td>0.89</td>\n",
       "      <td>14.1197</td>\n",
       "      <td>251.0</td>\n",
       "      <td>15.8263</td>\n",
       "      <td>0.0</td>\n",
       "      <td>1015.13</td>\n",
       "      <td>Partly cloudy throughout the day.</td>\n",
       "    </tr>\n",
       "    <tr>\n",
       "      <th>1</th>\n",
       "      <td>2006-04-01 01:00:00.000 +0200</td>\n",
       "      <td>Partly Cloudy</td>\n",
       "      <td>rain</td>\n",
       "      <td>9.355556</td>\n",
       "      <td>7.227778</td>\n",
       "      <td>0.86</td>\n",
       "      <td>14.2646</td>\n",
       "      <td>259.0</td>\n",
       "      <td>15.8263</td>\n",
       "      <td>0.0</td>\n",
       "      <td>1015.63</td>\n",
       "      <td>Partly cloudy throughout the day.</td>\n",
       "    </tr>\n",
       "    <tr>\n",
       "      <th>2</th>\n",
       "      <td>2006-04-01 02:00:00.000 +0200</td>\n",
       "      <td>Mostly Cloudy</td>\n",
       "      <td>rain</td>\n",
       "      <td>9.377778</td>\n",
       "      <td>9.377778</td>\n",
       "      <td>0.89</td>\n",
       "      <td>3.9284</td>\n",
       "      <td>204.0</td>\n",
       "      <td>14.9569</td>\n",
       "      <td>0.0</td>\n",
       "      <td>1015.94</td>\n",
       "      <td>Partly cloudy throughout the day.</td>\n",
       "    </tr>\n",
       "    <tr>\n",
       "      <th>3</th>\n",
       "      <td>2006-04-01 03:00:00.000 +0200</td>\n",
       "      <td>Partly Cloudy</td>\n",
       "      <td>rain</td>\n",
       "      <td>8.288889</td>\n",
       "      <td>5.944444</td>\n",
       "      <td>0.83</td>\n",
       "      <td>14.1036</td>\n",
       "      <td>269.0</td>\n",
       "      <td>15.8263</td>\n",
       "      <td>0.0</td>\n",
       "      <td>1016.41</td>\n",
       "      <td>Partly cloudy throughout the day.</td>\n",
       "    </tr>\n",
       "    <tr>\n",
       "      <th>4</th>\n",
       "      <td>2006-04-01 04:00:00.000 +0200</td>\n",
       "      <td>Mostly Cloudy</td>\n",
       "      <td>rain</td>\n",
       "      <td>8.755556</td>\n",
       "      <td>6.977778</td>\n",
       "      <td>0.83</td>\n",
       "      <td>11.0446</td>\n",
       "      <td>259.0</td>\n",
       "      <td>15.8263</td>\n",
       "      <td>0.0</td>\n",
       "      <td>1016.51</td>\n",
       "      <td>Partly cloudy throughout the day.</td>\n",
       "    </tr>\n",
       "  </tbody>\n",
       "</table>\n",
       "</div>"
      ],
      "text/plain": [
       "                  Formatted Date        Summary Precip Type  Temperature (C)  \\\n",
       "0  2006-04-01 00:00:00.000 +0200  Partly Cloudy        rain         9.472222   \n",
       "1  2006-04-01 01:00:00.000 +0200  Partly Cloudy        rain         9.355556   \n",
       "2  2006-04-01 02:00:00.000 +0200  Mostly Cloudy        rain         9.377778   \n",
       "3  2006-04-01 03:00:00.000 +0200  Partly Cloudy        rain         8.288889   \n",
       "4  2006-04-01 04:00:00.000 +0200  Mostly Cloudy        rain         8.755556   \n",
       "\n",
       "   Apparent Temperature (C)  Humidity  Wind Speed (km/h)  \\\n",
       "0                  7.388889      0.89            14.1197   \n",
       "1                  7.227778      0.86            14.2646   \n",
       "2                  9.377778      0.89             3.9284   \n",
       "3                  5.944444      0.83            14.1036   \n",
       "4                  6.977778      0.83            11.0446   \n",
       "\n",
       "   Wind Bearing (degrees)  Visibility (km)  Loud Cover  Pressure (millibars)  \\\n",
       "0                   251.0          15.8263         0.0               1015.13   \n",
       "1                   259.0          15.8263         0.0               1015.63   \n",
       "2                   204.0          14.9569         0.0               1015.94   \n",
       "3                   269.0          15.8263         0.0               1016.41   \n",
       "4                   259.0          15.8263         0.0               1016.51   \n",
       "\n",
       "                       Daily Summary  \n",
       "0  Partly cloudy throughout the day.  \n",
       "1  Partly cloudy throughout the day.  \n",
       "2  Partly cloudy throughout the day.  \n",
       "3  Partly cloudy throughout the day.  \n",
       "4  Partly cloudy throughout the day.  "
      ]
     },
     "execution_count": 2,
     "metadata": {},
     "output_type": "execute_result"
    }
   ],
   "source": [
    "# Fetching data\n",
    "data1 = pd.read_csv(r\"C:\\Users\\Rushkesh\\OneDrive\\Desktop\\Project\\weatherHistory.csv\")\n",
    "data1.head()"
   ]
  },
  {
   "cell_type": "code",
   "execution_count": 81,
   "id": "40307dfe",
   "metadata": {
    "execution": {
     "iopub.execute_input": "2023-07-08T09:05:25.070884Z",
     "iopub.status.busy": "2023-07-08T09:05:25.070493Z",
     "iopub.status.idle": "2023-07-08T09:05:25.219973Z",
     "shell.execute_reply": "2023-07-08T09:05:25.219206Z"
    },
    "papermill": {
     "duration": 0.17861,
     "end_time": "2023-07-08T09:05:25.222416",
     "exception": false,
     "start_time": "2023-07-08T09:05:25.043806",
     "status": "completed"
    },
    "tags": []
   },
   "outputs": [
    {
     "name": "stdout",
     "output_type": "stream",
     "text": [
      "<class 'pandas.core.frame.DataFrame'>\n",
      "RangeIndex: 96453 entries, 0 to 96452\n",
      "Data columns (total 12 columns):\n",
      " #   Column                    Non-Null Count  Dtype  \n",
      "---  ------                    --------------  -----  \n",
      " 0   Formatted Date            96453 non-null  object \n",
      " 1   Summary                   96453 non-null  object \n",
      " 2   Precip Type               95936 non-null  object \n",
      " 3   Temperature (C)           96453 non-null  float64\n",
      " 4   Apparent Temperature (C)  96453 non-null  float64\n",
      " 5   Humidity                  96453 non-null  float64\n",
      " 6   Wind Speed (km/h)         96453 non-null  float64\n",
      " 7   Wind Bearing (degrees)    96453 non-null  float64\n",
      " 8   Visibility (km)           96453 non-null  float64\n",
      " 9   Loud Cover                96453 non-null  float64\n",
      " 10  Pressure (millibars)      96453 non-null  float64\n",
      " 11  Daily Summary             96453 non-null  object \n",
      "dtypes: float64(8), object(4)\n",
      "memory usage: 8.8+ MB\n"
     ]
    }
   ],
   "source": [
    "# Analyzing the Data types and Exploring the number of entities in a feature\n",
    "data1.info()"
   ]
  },
  {
   "cell_type": "code",
   "execution_count": 82,
   "id": "a9f622db",
   "metadata": {
    "execution": {
     "iopub.execute_input": "2023-07-08T09:05:25.276921Z",
     "iopub.status.busy": "2023-07-08T09:05:25.275939Z",
     "iopub.status.idle": "2023-07-08T09:05:25.346454Z",
     "shell.execute_reply": "2023-07-08T09:05:25.345298Z"
    },
    "papermill": {
     "duration": 0.100839,
     "end_time": "2023-07-08T09:05:25.349157",
     "exception": false,
     "start_time": "2023-07-08T09:05:25.248318",
     "status": "completed"
    },
    "scrolled": true,
    "tags": []
   },
   "outputs": [
    {
     "data": {
      "text/html": [
       "<div>\n",
       "<style scoped>\n",
       "    .dataframe tbody tr th:only-of-type {\n",
       "        vertical-align: middle;\n",
       "    }\n",
       "\n",
       "    .dataframe tbody tr th {\n",
       "        vertical-align: top;\n",
       "    }\n",
       "\n",
       "    .dataframe thead th {\n",
       "        text-align: right;\n",
       "    }\n",
       "</style>\n",
       "<table border=\"1\" class=\"dataframe\">\n",
       "  <thead>\n",
       "    <tr style=\"text-align: right;\">\n",
       "      <th></th>\n",
       "      <th>Temperature (C)</th>\n",
       "      <th>Apparent Temperature (C)</th>\n",
       "      <th>Humidity</th>\n",
       "      <th>Wind Speed (km/h)</th>\n",
       "      <th>Wind Bearing (degrees)</th>\n",
       "      <th>Visibility (km)</th>\n",
       "      <th>Loud Cover</th>\n",
       "      <th>Pressure (millibars)</th>\n",
       "    </tr>\n",
       "  </thead>\n",
       "  <tbody>\n",
       "    <tr>\n",
       "      <th>count</th>\n",
       "      <td>96453.000000</td>\n",
       "      <td>96453.000000</td>\n",
       "      <td>96453.000000</td>\n",
       "      <td>96453.000000</td>\n",
       "      <td>96453.000000</td>\n",
       "      <td>96453.000000</td>\n",
       "      <td>96453.0</td>\n",
       "      <td>96453.000000</td>\n",
       "    </tr>\n",
       "    <tr>\n",
       "      <th>mean</th>\n",
       "      <td>11.932678</td>\n",
       "      <td>10.855029</td>\n",
       "      <td>0.734899</td>\n",
       "      <td>10.810640</td>\n",
       "      <td>187.509232</td>\n",
       "      <td>10.347325</td>\n",
       "      <td>0.0</td>\n",
       "      <td>1003.235956</td>\n",
       "    </tr>\n",
       "    <tr>\n",
       "      <th>std</th>\n",
       "      <td>9.551546</td>\n",
       "      <td>10.696847</td>\n",
       "      <td>0.195473</td>\n",
       "      <td>6.913571</td>\n",
       "      <td>107.383428</td>\n",
       "      <td>4.192123</td>\n",
       "      <td>0.0</td>\n",
       "      <td>116.969906</td>\n",
       "    </tr>\n",
       "    <tr>\n",
       "      <th>min</th>\n",
       "      <td>-21.822222</td>\n",
       "      <td>-27.716667</td>\n",
       "      <td>0.000000</td>\n",
       "      <td>0.000000</td>\n",
       "      <td>0.000000</td>\n",
       "      <td>0.000000</td>\n",
       "      <td>0.0</td>\n",
       "      <td>0.000000</td>\n",
       "    </tr>\n",
       "    <tr>\n",
       "      <th>25%</th>\n",
       "      <td>4.688889</td>\n",
       "      <td>2.311111</td>\n",
       "      <td>0.600000</td>\n",
       "      <td>5.828200</td>\n",
       "      <td>116.000000</td>\n",
       "      <td>8.339800</td>\n",
       "      <td>0.0</td>\n",
       "      <td>1011.900000</td>\n",
       "    </tr>\n",
       "    <tr>\n",
       "      <th>50%</th>\n",
       "      <td>12.000000</td>\n",
       "      <td>12.000000</td>\n",
       "      <td>0.780000</td>\n",
       "      <td>9.965900</td>\n",
       "      <td>180.000000</td>\n",
       "      <td>10.046400</td>\n",
       "      <td>0.0</td>\n",
       "      <td>1016.450000</td>\n",
       "    </tr>\n",
       "    <tr>\n",
       "      <th>75%</th>\n",
       "      <td>18.838889</td>\n",
       "      <td>18.838889</td>\n",
       "      <td>0.890000</td>\n",
       "      <td>14.135800</td>\n",
       "      <td>290.000000</td>\n",
       "      <td>14.812000</td>\n",
       "      <td>0.0</td>\n",
       "      <td>1021.090000</td>\n",
       "    </tr>\n",
       "    <tr>\n",
       "      <th>max</th>\n",
       "      <td>39.905556</td>\n",
       "      <td>39.344444</td>\n",
       "      <td>1.000000</td>\n",
       "      <td>63.852600</td>\n",
       "      <td>359.000000</td>\n",
       "      <td>16.100000</td>\n",
       "      <td>0.0</td>\n",
       "      <td>1046.380000</td>\n",
       "    </tr>\n",
       "  </tbody>\n",
       "</table>\n",
       "</div>"
      ],
      "text/plain": [
       "       Temperature (C)  Apparent Temperature (C)      Humidity  \\\n",
       "count     96453.000000              96453.000000  96453.000000   \n",
       "mean         11.932678                 10.855029      0.734899   \n",
       "std           9.551546                 10.696847      0.195473   \n",
       "min         -21.822222                -27.716667      0.000000   \n",
       "25%           4.688889                  2.311111      0.600000   \n",
       "50%          12.000000                 12.000000      0.780000   \n",
       "75%          18.838889                 18.838889      0.890000   \n",
       "max          39.905556                 39.344444      1.000000   \n",
       "\n",
       "       Wind Speed (km/h)  Wind Bearing (degrees)  Visibility (km)  Loud Cover  \\\n",
       "count       96453.000000            96453.000000     96453.000000     96453.0   \n",
       "mean           10.810640              187.509232        10.347325         0.0   \n",
       "std             6.913571              107.383428         4.192123         0.0   \n",
       "min             0.000000                0.000000         0.000000         0.0   \n",
       "25%             5.828200              116.000000         8.339800         0.0   \n",
       "50%             9.965900              180.000000        10.046400         0.0   \n",
       "75%            14.135800              290.000000        14.812000         0.0   \n",
       "max            63.852600              359.000000        16.100000         0.0   \n",
       "\n",
       "       Pressure (millibars)  \n",
       "count          96453.000000  \n",
       "mean            1003.235956  \n",
       "std              116.969906  \n",
       "min                0.000000  \n",
       "25%             1011.900000  \n",
       "50%             1016.450000  \n",
       "75%             1021.090000  \n",
       "max             1046.380000  "
      ]
     },
     "execution_count": 82,
     "metadata": {},
     "output_type": "execute_result"
    }
   ],
   "source": [
    "# Checking Statistical Summary\n",
    "data1.describe()"
   ]
  },
  {
   "cell_type": "markdown",
   "id": "0e485f73",
   "metadata": {},
   "source": [
    "count: This column tells you the number of non-null values in each numerical column. It is important because missing data can affect your analysis.\n",
    "\n",
    "mean: The mean (average) value of each column provides a measure of central tendency. In this coloum we see that the mean of all numerical data and it.\n",
    "\n",
    "std: The standard deviation measures the dispersion or spread of data around the mean. A higher standard deviation suggests greater variability in the data. In this coloum we see the all data are deviation of the in our coloum.\n",
    "\n",
    "min: This is the minimum value observed in each column. It gives you the lowest data point in the dataset. In this coloum we see the all data minimum value and it is as.\n",
    "\n",
    "25%, 50%, and 75%: These values represent the quartiles of the data. The 25th percentile (Q1) is the value below which 25% of the data falls. The 50th percentile (Q2), also known as the median, is the value below which 50% of the data falls. The 75th percentile (Q3) is the value below which 75% of the data falls. These values help you understand the distribution of the data.\n",
    "\n",
    "max: This is the maximum value observed in each column. It gives you the highest data point in the dataset. This coloum represent the maximum value of our data is coloum vise."
   ]
  },
  {
   "cell_type": "code",
   "execution_count": 83,
   "id": "cb9f099a",
   "metadata": {
    "execution": {
     "iopub.execute_input": "2023-07-08T09:05:25.404576Z",
     "iopub.status.busy": "2023-07-08T09:05:25.404144Z",
     "iopub.status.idle": "2023-07-08T09:05:25.425514Z",
     "shell.execute_reply": "2023-07-08T09:05:25.424328Z"
    },
    "papermill": {
     "duration": 0.052734,
     "end_time": "2023-07-08T09:05:25.428133",
     "exception": false,
     "start_time": "2023-07-08T09:05:25.375399",
     "status": "completed"
    },
    "tags": []
   },
   "outputs": [
    {
     "name": "stdout",
     "output_type": "stream",
     "text": [
      "Partly Cloudy                          31733\n",
      "Mostly Cloudy                          28094\n",
      "Overcast                               16597\n",
      "Clear                                  10890\n",
      "Foggy                                   7148\n",
      "Breezy and Overcast                      528\n",
      "Breezy and Mostly Cloudy                 516\n",
      "Breezy and Partly Cloudy                 386\n",
      "Dry and Partly Cloudy                     86\n",
      "Windy and Partly Cloudy                   67\n",
      "Light Rain                                63\n",
      "Breezy                                    54\n",
      "Windy and Overcast                        45\n",
      "Humid and Mostly Cloudy                   40\n",
      "Drizzle                                   39\n",
      "Breezy and Foggy                          35\n",
      "Windy and Mostly Cloudy                   35\n",
      "Dry                                       34\n",
      "Humid and Partly Cloudy                   17\n",
      "Dry and Mostly Cloudy                     14\n",
      "Rain                                      10\n",
      "Windy                                      8\n",
      "Humid and Overcast                         7\n",
      "Windy and Foggy                            4\n",
      "Windy and Dry                              1\n",
      "Dangerously Windy and Partly Cloudy        1\n",
      "Breezy and Dry                             1\n",
      "Name: Summary, dtype: int64\n"
     ]
    }
   ],
   "source": [
    "# Checking Target Variable\n",
    "print(data1[\"Summary\"].value_counts())"
   ]
  },
  {
   "cell_type": "code",
   "execution_count": 84,
   "id": "f154026b",
   "metadata": {
    "execution": {
     "iopub.execute_input": "2023-07-08T09:05:25.483819Z",
     "iopub.status.busy": "2023-07-08T09:05:25.483342Z",
     "iopub.status.idle": "2023-07-08T09:05:25.595910Z",
     "shell.execute_reply": "2023-07-08T09:05:25.594629Z"
    },
    "papermill": {
     "duration": 0.14362,
     "end_time": "2023-07-08T09:05:25.598412",
     "exception": false,
     "start_time": "2023-07-08T09:05:25.454792",
     "status": "completed"
    },
    "tags": []
   },
   "outputs": [
    {
     "name": "stdout",
     "output_type": "stream",
     "text": [
      "<class 'pandas.core.frame.DataFrame'>\n",
      "Int64Index: 34635 entries, 46 to 96436\n",
      "Data columns (total 12 columns):\n",
      " #   Column                    Non-Null Count  Dtype  \n",
      "---  ------                    --------------  -----  \n",
      " 0   Formatted Date            34635 non-null  object \n",
      " 1   Summary                   34635 non-null  object \n",
      " 2   Precip Type               34396 non-null  object \n",
      " 3   Temperature (C)           34635 non-null  float64\n",
      " 4   Apparent Temperature (C)  34635 non-null  float64\n",
      " 5   Humidity                  34635 non-null  float64\n",
      " 6   Wind Speed (km/h)         34635 non-null  float64\n",
      " 7   Wind Bearing (degrees)    34635 non-null  float64\n",
      " 8   Visibility (km)           34635 non-null  float64\n",
      " 9   Loud Cover                34635 non-null  float64\n",
      " 10  Pressure (millibars)      34635 non-null  float64\n",
      " 11  Daily Summary             34635 non-null  object \n",
      "dtypes: float64(8), object(4)\n",
      "memory usage: 3.4+ MB\n"
     ]
    }
   ],
   "source": [
    "# Reduced Data (Using only 3 classes)\n",
    "data = data1[(data1[\"Summary\"] == \"Overcast\") | (data1[\"Summary\"] == \"Clear\") | (data1[\"Summary\"] == \"Foggy\")]\n",
    "data.info()"
   ]
  },
  {
   "cell_type": "code",
   "execution_count": 85,
   "id": "cedfcff6",
   "metadata": {
    "execution": {
     "iopub.execute_input": "2023-07-08T09:05:25.813227Z",
     "iopub.status.busy": "2023-07-08T09:05:25.812533Z",
     "iopub.status.idle": "2023-07-08T09:05:25.866804Z",
     "shell.execute_reply": "2023-07-08T09:05:25.865874Z"
    },
    "papermill": {
     "duration": 0.085229,
     "end_time": "2023-07-08T09:05:25.869744",
     "exception": false,
     "start_time": "2023-07-08T09:05:25.784515",
     "status": "completed"
    },
    "tags": []
   },
   "outputs": [
    {
     "data": {
      "text/plain": [
       "Formatted Date                0\n",
       "Summary                       0\n",
       "Precip Type                 239\n",
       "Temperature (C)               0\n",
       "Apparent Temperature (C)      0\n",
       "Humidity                      0\n",
       "Wind Speed (km/h)             0\n",
       "Wind Bearing (degrees)        0\n",
       "Visibility (km)               0\n",
       "Loud Cover                    0\n",
       "Pressure (millibars)          0\n",
       "Daily Summary                 0\n",
       "dtype: int64"
      ]
     },
     "execution_count": 85,
     "metadata": {},
     "output_type": "execute_result"
    }
   ],
   "source": [
    "# Calculating Missing Values\n",
    "missing_values_count = data.isnull().sum()\n",
    "missing_values_count"
   ]
  },
  {
   "cell_type": "code",
   "execution_count": 86,
   "id": "697282a1",
   "metadata": {
    "execution": {
     "iopub.execute_input": "2023-07-08T09:05:25.927041Z",
     "iopub.status.busy": "2023-07-08T09:05:25.925990Z",
     "iopub.status.idle": "2023-07-08T09:05:26.027836Z",
     "shell.execute_reply": "2023-07-08T09:05:26.027006Z"
    },
    "papermill": {
     "duration": 0.132821,
     "end_time": "2023-07-08T09:05:26.030047",
     "exception": false,
     "start_time": "2023-07-08T09:05:25.897226",
     "status": "completed"
    },
    "tags": []
   },
   "outputs": [
    {
     "data": {
      "text/plain": [
       "Formatted Date              0\n",
       "Summary                     0\n",
       "Precip Type                 0\n",
       "Temperature (C)             0\n",
       "Apparent Temperature (C)    0\n",
       "Humidity                    0\n",
       "Wind Speed (km/h)           0\n",
       "Wind Bearing (degrees)      0\n",
       "Visibility (km)             0\n",
       "Loud Cover                  0\n",
       "Pressure (millibars)        0\n",
       "Daily Summary               0\n",
       "dtype: int64"
      ]
     },
     "execution_count": 86,
     "metadata": {},
     "output_type": "execute_result"
    }
   ],
   "source": [
    "# Since 359 is a reasonable count. Dropping the respective rows. If the count were smaller we would've filled it up with dummy values\n",
    "data.dropna(inplace=True) \n",
    "# Again checking for values\n",
    "missing_values_count = data.isnull().sum()\n",
    "missing_values_count"
   ]
  },
  {
   "cell_type": "code",
   "execution_count": 87,
   "id": "5dbd6d16",
   "metadata": {
    "execution": {
     "iopub.execute_input": "2023-07-08T09:05:26.141685Z",
     "iopub.status.busy": "2023-07-08T09:05:26.141267Z",
     "iopub.status.idle": "2023-07-08T09:05:26.181860Z",
     "shell.execute_reply": "2023-07-08T09:05:26.180541Z"
    },
    "papermill": {
     "duration": 0.072003,
     "end_time": "2023-07-08T09:05:26.184628",
     "exception": false,
     "start_time": "2023-07-08T09:05:26.112625",
     "status": "completed"
    },
    "tags": []
   },
   "outputs": [
    {
     "name": "stdout",
     "output_type": "stream",
     "text": [
      "Duplicated Values:  17\n"
     ]
    }
   ],
   "source": [
    "# Calculating number of duplicated values\n",
    "print(\"Duplicated Values: \",data.duplicated().sum())"
   ]
  },
  {
   "cell_type": "code",
   "execution_count": 88,
   "id": "cdab9894",
   "metadata": {
    "execution": {
     "iopub.execute_input": "2023-07-08T09:05:26.241378Z",
     "iopub.status.busy": "2023-07-08T09:05:26.240979Z",
     "iopub.status.idle": "2023-07-08T09:05:26.310280Z",
     "shell.execute_reply": "2023-07-08T09:05:26.308506Z"
    },
    "papermill": {
     "duration": 0.102551,
     "end_time": "2023-07-08T09:05:26.314897",
     "exception": false,
     "start_time": "2023-07-08T09:05:26.212346",
     "status": "completed"
    },
    "tags": []
   },
   "outputs": [
    {
     "name": "stdout",
     "output_type": "stream",
     "text": [
      "Duplicated Values:  0\n"
     ]
    }
   ],
   "source": [
    "# Removing duplicated values\n",
    "data.drop_duplicates(inplace=True)\n",
    "# Again checking for duplicated values\n",
    "print(\"Duplicated Values: \", data.duplicated().sum())"
   ]
  },
  {
   "cell_type": "code",
   "execution_count": 89,
   "id": "3ef25498",
   "metadata": {
    "execution": {
     "iopub.execute_input": "2023-07-08T09:05:26.437723Z",
     "iopub.status.busy": "2023-07-08T09:05:26.437309Z",
     "iopub.status.idle": "2023-07-08T09:05:26.476243Z",
     "shell.execute_reply": "2023-07-08T09:05:26.475272Z"
    },
    "papermill": {
     "duration": 0.071533,
     "end_time": "2023-07-08T09:05:26.479401",
     "exception": false,
     "start_time": "2023-07-08T09:05:26.407868",
     "status": "completed"
    },
    "tags": []
   },
   "outputs": [
    {
     "data": {
      "text/html": [
       "<div>\n",
       "<style scoped>\n",
       "    .dataframe tbody tr th:only-of-type {\n",
       "        vertical-align: middle;\n",
       "    }\n",
       "\n",
       "    .dataframe tbody tr th {\n",
       "        vertical-align: top;\n",
       "    }\n",
       "\n",
       "    .dataframe thead th {\n",
       "        text-align: right;\n",
       "    }\n",
       "</style>\n",
       "<table border=\"1\" class=\"dataframe\">\n",
       "  <thead>\n",
       "    <tr style=\"text-align: right;\">\n",
       "      <th></th>\n",
       "      <th>Formatted Date</th>\n",
       "      <th>Summary</th>\n",
       "      <th>Precip Type</th>\n",
       "      <th>Temperature (C)</th>\n",
       "      <th>Apparent Temperature (C)</th>\n",
       "      <th>Humidity</th>\n",
       "      <th>Wind Speed (km/h)</th>\n",
       "      <th>Wind Bearing (degrees)</th>\n",
       "      <th>Visibility (km)</th>\n",
       "      <th>Loud Cover</th>\n",
       "      <th>Pressure (millibars)</th>\n",
       "      <th>Daily Summary</th>\n",
       "    </tr>\n",
       "  </thead>\n",
       "  <tbody>\n",
       "    <tr>\n",
       "      <th>46</th>\n",
       "      <td>2006-04-10 22:00:00.000 +0200</td>\n",
       "      <td>Overcast</td>\n",
       "      <td>rain</td>\n",
       "      <td>14.42</td>\n",
       "      <td>14.42</td>\n",
       "      <td>0.58</td>\n",
       "      <td>20.01</td>\n",
       "      <td>159.0</td>\n",
       "      <td>15.83</td>\n",
       "      <td>0.0</td>\n",
       "      <td>1007.85</td>\n",
       "      <td>Mostly cloudy throughout the day.</td>\n",
       "    </tr>\n",
       "    <tr>\n",
       "      <th>47</th>\n",
       "      <td>2006-04-10 23:00:00.000 +0200</td>\n",
       "      <td>Overcast</td>\n",
       "      <td>rain</td>\n",
       "      <td>14.26</td>\n",
       "      <td>14.26</td>\n",
       "      <td>0.59</td>\n",
       "      <td>16.50</td>\n",
       "      <td>168.0</td>\n",
       "      <td>14.96</td>\n",
       "      <td>0.0</td>\n",
       "      <td>1007.89</td>\n",
       "      <td>Mostly cloudy throughout the day.</td>\n",
       "    </tr>\n",
       "    <tr>\n",
       "      <th>48</th>\n",
       "      <td>2006-04-11 00:00:00.000 +0200</td>\n",
       "      <td>Overcast</td>\n",
       "      <td>rain</td>\n",
       "      <td>13.77</td>\n",
       "      <td>13.77</td>\n",
       "      <td>0.60</td>\n",
       "      <td>17.10</td>\n",
       "      <td>160.0</td>\n",
       "      <td>15.83</td>\n",
       "      <td>0.0</td>\n",
       "      <td>1007.36</td>\n",
       "      <td>Foggy in the evening.</td>\n",
       "    </tr>\n",
       "    <tr>\n",
       "      <th>49</th>\n",
       "      <td>2006-04-11 01:00:00.000 +0200</td>\n",
       "      <td>Overcast</td>\n",
       "      <td>rain</td>\n",
       "      <td>13.28</td>\n",
       "      <td>13.28</td>\n",
       "      <td>0.63</td>\n",
       "      <td>14.36</td>\n",
       "      <td>160.0</td>\n",
       "      <td>15.83</td>\n",
       "      <td>0.0</td>\n",
       "      <td>1007.26</td>\n",
       "      <td>Foggy in the evening.</td>\n",
       "    </tr>\n",
       "    <tr>\n",
       "      <th>50</th>\n",
       "      <td>2006-04-11 02:00:00.000 +0200</td>\n",
       "      <td>Overcast</td>\n",
       "      <td>rain</td>\n",
       "      <td>8.63</td>\n",
       "      <td>5.47</td>\n",
       "      <td>0.87</td>\n",
       "      <td>22.04</td>\n",
       "      <td>32.0</td>\n",
       "      <td>6.70</td>\n",
       "      <td>0.0</td>\n",
       "      <td>1005.10</td>\n",
       "      <td>Foggy in the evening.</td>\n",
       "    </tr>\n",
       "  </tbody>\n",
       "</table>\n",
       "</div>"
      ],
      "text/plain": [
       "                   Formatted Date   Summary Precip Type  Temperature (C)  \\\n",
       "46  2006-04-10 22:00:00.000 +0200  Overcast        rain            14.42   \n",
       "47  2006-04-10 23:00:00.000 +0200  Overcast        rain            14.26   \n",
       "48  2006-04-11 00:00:00.000 +0200  Overcast        rain            13.77   \n",
       "49  2006-04-11 01:00:00.000 +0200  Overcast        rain            13.28   \n",
       "50  2006-04-11 02:00:00.000 +0200  Overcast        rain             8.63   \n",
       "\n",
       "    Apparent Temperature (C)  Humidity  Wind Speed (km/h)  \\\n",
       "46                     14.42      0.58              20.01   \n",
       "47                     14.26      0.59              16.50   \n",
       "48                     13.77      0.60              17.10   \n",
       "49                     13.28      0.63              14.36   \n",
       "50                      5.47      0.87              22.04   \n",
       "\n",
       "    Wind Bearing (degrees)  Visibility (km)  Loud Cover  Pressure (millibars)  \\\n",
       "46                   159.0            15.83         0.0               1007.85   \n",
       "47                   168.0            14.96         0.0               1007.89   \n",
       "48                   160.0            15.83         0.0               1007.36   \n",
       "49                   160.0            15.83         0.0               1007.26   \n",
       "50                    32.0             6.70         0.0               1005.10   \n",
       "\n",
       "                        Daily Summary  \n",
       "46  Mostly cloudy throughout the day.  \n",
       "47  Mostly cloudy throughout the day.  \n",
       "48              Foggy in the evening.  \n",
       "49              Foggy in the evening.  \n",
       "50              Foggy in the evening.  "
      ]
     },
     "execution_count": 89,
     "metadata": {},
     "output_type": "execute_result"
    }
   ],
   "source": [
    "# Rounding up the float64 data upto 2 decimals.\n",
    "float_cols = data.select_dtypes(include='float')\n",
    "data[float_cols.columns] = float_cols.round(2)\n",
    "data.head()"
   ]
  },
  {
   "cell_type": "code",
   "execution_count": 90,
   "id": "db8b5074",
   "metadata": {
    "execution": {
     "iopub.execute_input": "2023-07-08T09:05:26.543028Z",
     "iopub.status.busy": "2023-07-08T09:05:26.542037Z",
     "iopub.status.idle": "2023-07-08T09:05:33.336651Z",
     "shell.execute_reply": "2023-07-08T09:05:33.335571Z"
    },
    "papermill": {
     "duration": 6.828139,
     "end_time": "2023-07-08T09:05:33.339647",
     "exception": false,
     "start_time": "2023-07-08T09:05:26.511508",
     "status": "completed"
    },
    "tags": []
   },
   "outputs": [],
   "source": [
    "# Formatting Date Column. This can be used to identify any seasonality and trends\n",
    "data['Formatted Date'] = pd.to_datetime(data['Formatted Date'], errors='coerce')\n",
    "# Extracting the relevant components\n",
    "data[\"Time\"] = [d.time() for d in data['Formatted Date']]\n",
    "data[\"Time\"] = data[\"Time\"].astype(str)\n",
    "data[\"Time\"] = data[\"Time\"].str.split(':').str[0].astype(int)\n",
    "data[\"Date\"] = [d.date() for d in data['Formatted Date']]\n",
    "data[\"Date\"]= data[\"Date\"].astype(str)\n",
    "data[\"Year\"] = data[\"Date\"].str.split('-').str[0].astype(int)\n",
    "data[\"Month\"] = data[\"Date\"].str.split('-').str[1].astype(int)\n",
    "data[\"Day\"] = data[\"Date\"].str.split('-').str[2].astype(int)\n",
    "# Dropping the original column \n",
    "data = data.drop(columns=['Formatted Date','Date'], axis=1)"
   ]
  },
  {
   "cell_type": "markdown",
   "id": "90749f1a",
   "metadata": {
    "papermill": {
     "duration": 0.027343,
     "end_time": "2023-07-08T09:05:33.395461",
     "exception": false,
     "start_time": "2023-07-08T09:05:33.368118",
     "status": "completed"
    },
    "tags": []
   },
   "source": [
    "* #### Redundant Columns Treatment"
   ]
  },
  {
   "cell_type": "code",
   "execution_count": 91,
   "id": "8c90c796",
   "metadata": {
    "execution": {
     "iopub.execute_input": "2023-07-08T09:05:33.453316Z",
     "iopub.status.busy": "2023-07-08T09:05:33.452934Z",
     "iopub.status.idle": "2023-07-08T09:05:33.461545Z",
     "shell.execute_reply": "2023-07-08T09:05:33.460466Z"
    },
    "papermill": {
     "duration": 0.040487,
     "end_time": "2023-07-08T09:05:33.463687",
     "exception": false,
     "start_time": "2023-07-08T09:05:33.423200",
     "status": "completed"
    },
    "tags": []
   },
   "outputs": [
    {
     "data": {
      "text/plain": [
       "0.0    34379\n",
       "Name: Loud Cover, dtype: int64"
      ]
     },
     "execution_count": 91,
     "metadata": {},
     "output_type": "execute_result"
    }
   ],
   "source": [
    "# It can be seen that the feature \"Loud Cover\" have only value '0' and mean and other statistical overview also support the deduction. Hence, it is the redundant column\n",
    "data[\"Loud Cover\"].value_counts()"
   ]
  },
  {
   "cell_type": "code",
   "execution_count": 92,
   "id": "5273252a",
   "metadata": {
    "execution": {
     "iopub.execute_input": "2023-07-08T09:05:33.521582Z",
     "iopub.status.busy": "2023-07-08T09:05:33.521134Z",
     "iopub.status.idle": "2023-07-08T09:05:33.547212Z",
     "shell.execute_reply": "2023-07-08T09:05:33.546111Z"
    },
    "papermill": {
     "duration": 0.058181,
     "end_time": "2023-07-08T09:05:33.549741",
     "exception": false,
     "start_time": "2023-07-08T09:05:33.491560",
     "status": "completed"
    },
    "tags": []
   },
   "outputs": [
    {
     "data": {
      "text/html": [
       "<div>\n",
       "<style scoped>\n",
       "    .dataframe tbody tr th:only-of-type {\n",
       "        vertical-align: middle;\n",
       "    }\n",
       "\n",
       "    .dataframe tbody tr th {\n",
       "        vertical-align: top;\n",
       "    }\n",
       "\n",
       "    .dataframe thead th {\n",
       "        text-align: right;\n",
       "    }\n",
       "</style>\n",
       "<table border=\"1\" class=\"dataframe\">\n",
       "  <thead>\n",
       "    <tr style=\"text-align: right;\">\n",
       "      <th></th>\n",
       "      <th>Summary</th>\n",
       "      <th>Precip Type</th>\n",
       "      <th>Temperature (C)</th>\n",
       "      <th>Apparent Temperature (C)</th>\n",
       "      <th>Humidity</th>\n",
       "      <th>Wind Speed (km/h)</th>\n",
       "      <th>Wind Bearing (degrees)</th>\n",
       "      <th>Visibility (km)</th>\n",
       "      <th>Pressure (millibars)</th>\n",
       "      <th>Daily Summary</th>\n",
       "      <th>Time</th>\n",
       "      <th>Year</th>\n",
       "      <th>Month</th>\n",
       "      <th>Day</th>\n",
       "    </tr>\n",
       "  </thead>\n",
       "  <tbody>\n",
       "    <tr>\n",
       "      <th>46</th>\n",
       "      <td>Overcast</td>\n",
       "      <td>rain</td>\n",
       "      <td>14.42</td>\n",
       "      <td>14.42</td>\n",
       "      <td>0.58</td>\n",
       "      <td>20.01</td>\n",
       "      <td>159.0</td>\n",
       "      <td>15.83</td>\n",
       "      <td>1007.85</td>\n",
       "      <td>Mostly cloudy throughout the day.</td>\n",
       "      <td>22</td>\n",
       "      <td>2006</td>\n",
       "      <td>4</td>\n",
       "      <td>10</td>\n",
       "    </tr>\n",
       "    <tr>\n",
       "      <th>47</th>\n",
       "      <td>Overcast</td>\n",
       "      <td>rain</td>\n",
       "      <td>14.26</td>\n",
       "      <td>14.26</td>\n",
       "      <td>0.59</td>\n",
       "      <td>16.50</td>\n",
       "      <td>168.0</td>\n",
       "      <td>14.96</td>\n",
       "      <td>1007.89</td>\n",
       "      <td>Mostly cloudy throughout the day.</td>\n",
       "      <td>23</td>\n",
       "      <td>2006</td>\n",
       "      <td>4</td>\n",
       "      <td>10</td>\n",
       "    </tr>\n",
       "    <tr>\n",
       "      <th>48</th>\n",
       "      <td>Overcast</td>\n",
       "      <td>rain</td>\n",
       "      <td>13.77</td>\n",
       "      <td>13.77</td>\n",
       "      <td>0.60</td>\n",
       "      <td>17.10</td>\n",
       "      <td>160.0</td>\n",
       "      <td>15.83</td>\n",
       "      <td>1007.36</td>\n",
       "      <td>Foggy in the evening.</td>\n",
       "      <td>0</td>\n",
       "      <td>2006</td>\n",
       "      <td>4</td>\n",
       "      <td>11</td>\n",
       "    </tr>\n",
       "    <tr>\n",
       "      <th>49</th>\n",
       "      <td>Overcast</td>\n",
       "      <td>rain</td>\n",
       "      <td>13.28</td>\n",
       "      <td>13.28</td>\n",
       "      <td>0.63</td>\n",
       "      <td>14.36</td>\n",
       "      <td>160.0</td>\n",
       "      <td>15.83</td>\n",
       "      <td>1007.26</td>\n",
       "      <td>Foggy in the evening.</td>\n",
       "      <td>1</td>\n",
       "      <td>2006</td>\n",
       "      <td>4</td>\n",
       "      <td>11</td>\n",
       "    </tr>\n",
       "    <tr>\n",
       "      <th>50</th>\n",
       "      <td>Overcast</td>\n",
       "      <td>rain</td>\n",
       "      <td>8.63</td>\n",
       "      <td>5.47</td>\n",
       "      <td>0.87</td>\n",
       "      <td>22.04</td>\n",
       "      <td>32.0</td>\n",
       "      <td>6.70</td>\n",
       "      <td>1005.10</td>\n",
       "      <td>Foggy in the evening.</td>\n",
       "      <td>2</td>\n",
       "      <td>2006</td>\n",
       "      <td>4</td>\n",
       "      <td>11</td>\n",
       "    </tr>\n",
       "  </tbody>\n",
       "</table>\n",
       "</div>"
      ],
      "text/plain": [
       "     Summary Precip Type  Temperature (C)  Apparent Temperature (C)  Humidity  \\\n",
       "46  Overcast        rain            14.42                     14.42      0.58   \n",
       "47  Overcast        rain            14.26                     14.26      0.59   \n",
       "48  Overcast        rain            13.77                     13.77      0.60   \n",
       "49  Overcast        rain            13.28                     13.28      0.63   \n",
       "50  Overcast        rain             8.63                      5.47      0.87   \n",
       "\n",
       "    Wind Speed (km/h)  Wind Bearing (degrees)  Visibility (km)  \\\n",
       "46              20.01                   159.0            15.83   \n",
       "47              16.50                   168.0            14.96   \n",
       "48              17.10                   160.0            15.83   \n",
       "49              14.36                   160.0            15.83   \n",
       "50              22.04                    32.0             6.70   \n",
       "\n",
       "    Pressure (millibars)                      Daily Summary  Time  Year  \\\n",
       "46               1007.85  Mostly cloudy throughout the day.    22  2006   \n",
       "47               1007.89  Mostly cloudy throughout the day.    23  2006   \n",
       "48               1007.36              Foggy in the evening.     0  2006   \n",
       "49               1007.26              Foggy in the evening.     1  2006   \n",
       "50               1005.10              Foggy in the evening.     2  2006   \n",
       "\n",
       "    Month  Day  \n",
       "46      4   10  \n",
       "47      4   10  \n",
       "48      4   11  \n",
       "49      4   11  \n",
       "50      4   11  "
      ]
     },
     "execution_count": 92,
     "metadata": {},
     "output_type": "execute_result"
    }
   ],
   "source": [
    "# Removing 'Loud Cover'\n",
    "data.drop(columns=[\"Loud Cover\"], axis=1, inplace=True)\n",
    "data.head()"
   ]
  },
  {
   "cell_type": "markdown",
   "id": "aae07295",
   "metadata": {
    "papermill": {
     "duration": 0.027876,
     "end_time": "2023-07-08T09:05:33.606342",
     "exception": false,
     "start_time": "2023-07-08T09:05:33.578466",
     "status": "completed"
    },
    "tags": []
   },
   "source": [
    "* #### Outlier Treatment"
   ]
  },
  {
   "cell_type": "code",
   "execution_count": 93,
   "id": "69a5e590",
   "metadata": {
    "execution": {
     "iopub.execute_input": "2023-07-08T09:05:33.664535Z",
     "iopub.status.busy": "2023-07-08T09:05:33.664119Z",
     "iopub.status.idle": "2023-07-08T09:05:33.693213Z",
     "shell.execute_reply": "2023-07-08T09:05:33.691491Z"
    },
    "papermill": {
     "duration": 0.061424,
     "end_time": "2023-07-08T09:05:33.695804",
     "exception": false,
     "start_time": "2023-07-08T09:05:33.634380",
     "status": "completed"
    },
    "tags": []
   },
   "outputs": [
    {
     "name": "stdout",
     "output_type": "stream",
     "text": [
      "Numerical Columns:  ['Temperature (C)', 'Apparent Temperature (C)', 'Humidity', 'Wind Speed (km/h)', 'Wind Bearing (degrees)', 'Visibility (km)', 'Pressure (millibars)']\n",
      "\n",
      "Categorical Columns:  ['Summary', 'Precip Type', 'Daily Summary']\n",
      "\n",
      "Continuous Columns:  ['Temperature (C)', 'Apparent Temperature (C)', 'Humidity', 'Wind Speed (km/h)', 'Wind Bearing (degrees)', 'Visibility (km)', 'Pressure (millibars)']\n",
      "\n",
      "Discrete Columns:  []\n"
     ]
    }
   ],
   "source": [
    "# Different types of columns\n",
    "numeric_columns = list(data.select_dtypes(include=['float64', 'int64']).columns)\n",
    "categorical_columns = list(data.select_dtypes(include=['object']).columns)\n",
    "continuous_columns = [i for i in numeric_columns if len(list(data[i].unique()))>=25]\n",
    "discrete_columns = [i for i in numeric_columns if len(list(data[i].unique()))<25]\n",
    "print(\"Numerical Columns: \", numeric_columns)\n",
    "print()\n",
    "print(\"Categorical Columns: \", categorical_columns)\n",
    "print()\n",
    "print(\"Continuous Columns: \", continuous_columns)\n",
    "print()\n",
    "print(\"Discrete Columns: \", discrete_columns)"
   ]
  },
  {
   "cell_type": "code",
   "execution_count": 94,
   "id": "9d260d2e",
   "metadata": {},
   "outputs": [
    {
     "data": {
      "text/plain": [
       "<AxesSubplot:xlabel='Summary', ylabel='Temperature (C)'>"
      ]
     },
     "execution_count": 94,
     "metadata": {},
     "output_type": "execute_result"
    },
    {
     "data": {
      "image/png": "[encoded data removed]",
      "text/plain": [
       "<Figure size 864x504 with 1 Axes>"
      ]
     },
     "metadata": {},
     "output_type": "display_data"
    }
   ],
   "source": [
    "plt.figure(figsize=(12,7))\n",
    "plt.xticks(rotation=90)\n",
    "sns.barplot(data=data1, x=\"Summary\", y=\"Temperature (C)\",hue=\"Precip Type\")"
   ]
  },
  {
   "cell_type": "code",
   "execution_count": 95,
   "id": "c286dfb8",
   "metadata": {},
   "outputs": [
    {
     "data": {
      "text/html": [
       "<div>\n",
       "<style scoped>\n",
       "    .dataframe tbody tr th:only-of-type {\n",
       "        vertical-align: middle;\n",
       "    }\n",
       "\n",
       "    .dataframe tbody tr th {\n",
       "        vertical-align: top;\n",
       "    }\n",
       "\n",
       "    .dataframe thead th {\n",
       "        text-align: right;\n",
       "    }\n",
       "</style>\n",
       "<table border=\"1\" class=\"dataframe\">\n",
       "  <thead>\n",
       "    <tr style=\"text-align: right;\">\n",
       "      <th></th>\n",
       "      <th>Summary</th>\n",
       "      <th>Precip Type</th>\n",
       "      <th>Temperature (C)</th>\n",
       "      <th>Apparent Temperature (C)</th>\n",
       "      <th>Humidity</th>\n",
       "      <th>Wind Speed (km/h)</th>\n",
       "      <th>Wind Bearing (degrees)</th>\n",
       "      <th>Visibility (km)</th>\n",
       "      <th>Loud Cover</th>\n",
       "      <th>Pressure (millibars)</th>\n",
       "      <th>Daily Summary</th>\n",
       "      <th>Date-Time</th>\n",
       "      <th>TZ</th>\n",
       "    </tr>\n",
       "  </thead>\n",
       "  <tbody>\n",
       "    <tr>\n",
       "      <th>0</th>\n",
       "      <td>Partly Cloudy</td>\n",
       "      <td>rain</td>\n",
       "      <td>9.472222</td>\n",
       "      <td>7.388889</td>\n",
       "      <td>0.89</td>\n",
       "      <td>14.1197</td>\n",
       "      <td>251.0</td>\n",
       "      <td>15.8263</td>\n",
       "      <td>0.0</td>\n",
       "      <td>1015.13</td>\n",
       "      <td>Partly cloudy throughout the day.</td>\n",
       "      <td>2006-04-01 00:00:00.000</td>\n",
       "      <td>0200</td>\n",
       "    </tr>\n",
       "    <tr>\n",
       "      <th>1</th>\n",
       "      <td>Partly Cloudy</td>\n",
       "      <td>rain</td>\n",
       "      <td>9.355556</td>\n",
       "      <td>7.227778</td>\n",
       "      <td>0.86</td>\n",
       "      <td>14.2646</td>\n",
       "      <td>259.0</td>\n",
       "      <td>15.8263</td>\n",
       "      <td>0.0</td>\n",
       "      <td>1015.63</td>\n",
       "      <td>Partly cloudy throughout the day.</td>\n",
       "      <td>2006-04-01 01:00:00.000</td>\n",
       "      <td>0200</td>\n",
       "    </tr>\n",
       "    <tr>\n",
       "      <th>2</th>\n",
       "      <td>Mostly Cloudy</td>\n",
       "      <td>rain</td>\n",
       "      <td>9.377778</td>\n",
       "      <td>9.377778</td>\n",
       "      <td>0.89</td>\n",
       "      <td>3.9284</td>\n",
       "      <td>204.0</td>\n",
       "      <td>14.9569</td>\n",
       "      <td>0.0</td>\n",
       "      <td>1015.94</td>\n",
       "      <td>Partly cloudy throughout the day.</td>\n",
       "      <td>2006-04-01 02:00:00.000</td>\n",
       "      <td>0200</td>\n",
       "    </tr>\n",
       "    <tr>\n",
       "      <th>3</th>\n",
       "      <td>Partly Cloudy</td>\n",
       "      <td>rain</td>\n",
       "      <td>8.288889</td>\n",
       "      <td>5.944444</td>\n",
       "      <td>0.83</td>\n",
       "      <td>14.1036</td>\n",
       "      <td>269.0</td>\n",
       "      <td>15.8263</td>\n",
       "      <td>0.0</td>\n",
       "      <td>1016.41</td>\n",
       "      <td>Partly cloudy throughout the day.</td>\n",
       "      <td>2006-04-01 03:00:00.000</td>\n",
       "      <td>0200</td>\n",
       "    </tr>\n",
       "    <tr>\n",
       "      <th>4</th>\n",
       "      <td>Mostly Cloudy</td>\n",
       "      <td>rain</td>\n",
       "      <td>8.755556</td>\n",
       "      <td>6.977778</td>\n",
       "      <td>0.83</td>\n",
       "      <td>11.0446</td>\n",
       "      <td>259.0</td>\n",
       "      <td>15.8263</td>\n",
       "      <td>0.0</td>\n",
       "      <td>1016.51</td>\n",
       "      <td>Partly cloudy throughout the day.</td>\n",
       "      <td>2006-04-01 04:00:00.000</td>\n",
       "      <td>0200</td>\n",
       "    </tr>\n",
       "  </tbody>\n",
       "</table>\n",
       "</div>"
      ],
      "text/plain": [
       "         Summary Precip Type  Temperature (C)  Apparent Temperature (C)  \\\n",
       "0  Partly Cloudy        rain         9.472222                  7.388889   \n",
       "1  Partly Cloudy        rain         9.355556                  7.227778   \n",
       "2  Mostly Cloudy        rain         9.377778                  9.377778   \n",
       "3  Partly Cloudy        rain         8.288889                  5.944444   \n",
       "4  Mostly Cloudy        rain         8.755556                  6.977778   \n",
       "\n",
       "   Humidity  Wind Speed (km/h)  Wind Bearing (degrees)  Visibility (km)  \\\n",
       "0      0.89            14.1197                   251.0          15.8263   \n",
       "1      0.86            14.2646                   259.0          15.8263   \n",
       "2      0.89             3.9284                   204.0          14.9569   \n",
       "3      0.83            14.1036                   269.0          15.8263   \n",
       "4      0.83            11.0446                   259.0          15.8263   \n",
       "\n",
       "   Loud Cover  Pressure (millibars)                      Daily Summary  \\\n",
       "0         0.0               1015.13  Partly cloudy throughout the day.   \n",
       "1         0.0               1015.63  Partly cloudy throughout the day.   \n",
       "2         0.0               1015.94  Partly cloudy throughout the day.   \n",
       "3         0.0               1016.41  Partly cloudy throughout the day.   \n",
       "4         0.0               1016.51  Partly cloudy throughout the day.   \n",
       "\n",
       "                  Date-Time    TZ  \n",
       "0  2006-04-01 00:00:00.000   0200  \n",
       "1  2006-04-01 01:00:00.000   0200  \n",
       "2  2006-04-01 02:00:00.000   0200  \n",
       "3  2006-04-01 03:00:00.000   0200  \n",
       "4  2006-04-01 04:00:00.000   0200  "
      ]
     },
     "execution_count": 95,
     "metadata": {},
     "output_type": "execute_result"
    }
   ],
   "source": [
    "data1[[\"Date-Time\",\"TZ\"]]=data1[\"Formatted Date\"].str.split(\"+\",expand=True)\n",
    "df1=data1.drop(columns=\"Formatted Date\")\n",
    "df1.head()"
   ]
  },
  {
   "cell_type": "code",
   "execution_count": 96,
   "id": "381c7731",
   "metadata": {},
   "outputs": [
    {
     "data": {
      "text/html": [
       "<div>\n",
       "<style scoped>\n",
       "    .dataframe tbody tr th:only-of-type {\n",
       "        vertical-align: middle;\n",
       "    }\n",
       "\n",
       "    .dataframe tbody tr th {\n",
       "        vertical-align: top;\n",
       "    }\n",
       "\n",
       "    .dataframe thead th {\n",
       "        text-align: right;\n",
       "    }\n",
       "</style>\n",
       "<table border=\"1\" class=\"dataframe\">\n",
       "  <thead>\n",
       "    <tr style=\"text-align: right;\">\n",
       "      <th></th>\n",
       "      <th>Date-Time</th>\n",
       "      <th>Summary</th>\n",
       "      <th>Precip Type</th>\n",
       "      <th>Temperature (C)</th>\n",
       "      <th>Apparent Temperature (C)</th>\n",
       "      <th>Humidity</th>\n",
       "      <th>Wind Speed (km/h)</th>\n",
       "      <th>Wind Bearing (degrees)</th>\n",
       "      <th>Visibility (km)</th>\n",
       "      <th>Loud Cover</th>\n",
       "      <th>Pressure (millibars)</th>\n",
       "      <th>Daily Summary</th>\n",
       "    </tr>\n",
       "  </thead>\n",
       "  <tbody>\n",
       "    <tr>\n",
       "      <th>0</th>\n",
       "      <td>2006-04-01 00:00:00.000</td>\n",
       "      <td>Partly Cloudy</td>\n",
       "      <td>rain</td>\n",
       "      <td>9.472222</td>\n",
       "      <td>7.388889</td>\n",
       "      <td>0.89</td>\n",
       "      <td>14.1197</td>\n",
       "      <td>251.0</td>\n",
       "      <td>15.8263</td>\n",
       "      <td>0.0</td>\n",
       "      <td>1015.13</td>\n",
       "      <td>Partly cloudy throughout the day.</td>\n",
       "    </tr>\n",
       "    <tr>\n",
       "      <th>1</th>\n",
       "      <td>2006-04-01 01:00:00.000</td>\n",
       "      <td>Partly Cloudy</td>\n",
       "      <td>rain</td>\n",
       "      <td>9.355556</td>\n",
       "      <td>7.227778</td>\n",
       "      <td>0.86</td>\n",
       "      <td>14.2646</td>\n",
       "      <td>259.0</td>\n",
       "      <td>15.8263</td>\n",
       "      <td>0.0</td>\n",
       "      <td>1015.63</td>\n",
       "      <td>Partly cloudy throughout the day.</td>\n",
       "    </tr>\n",
       "    <tr>\n",
       "      <th>2</th>\n",
       "      <td>2006-04-01 02:00:00.000</td>\n",
       "      <td>Mostly Cloudy</td>\n",
       "      <td>rain</td>\n",
       "      <td>9.377778</td>\n",
       "      <td>9.377778</td>\n",
       "      <td>0.89</td>\n",
       "      <td>3.9284</td>\n",
       "      <td>204.0</td>\n",
       "      <td>14.9569</td>\n",
       "      <td>0.0</td>\n",
       "      <td>1015.94</td>\n",
       "      <td>Partly cloudy throughout the day.</td>\n",
       "    </tr>\n",
       "    <tr>\n",
       "      <th>3</th>\n",
       "      <td>2006-04-01 03:00:00.000</td>\n",
       "      <td>Partly Cloudy</td>\n",
       "      <td>rain</td>\n",
       "      <td>8.288889</td>\n",
       "      <td>5.944444</td>\n",
       "      <td>0.83</td>\n",
       "      <td>14.1036</td>\n",
       "      <td>269.0</td>\n",
       "      <td>15.8263</td>\n",
       "      <td>0.0</td>\n",
       "      <td>1016.41</td>\n",
       "      <td>Partly cloudy throughout the day.</td>\n",
       "    </tr>\n",
       "    <tr>\n",
       "      <th>4</th>\n",
       "      <td>2006-04-01 04:00:00.000</td>\n",
       "      <td>Mostly Cloudy</td>\n",
       "      <td>rain</td>\n",
       "      <td>8.755556</td>\n",
       "      <td>6.977778</td>\n",
       "      <td>0.83</td>\n",
       "      <td>11.0446</td>\n",
       "      <td>259.0</td>\n",
       "      <td>15.8263</td>\n",
       "      <td>0.0</td>\n",
       "      <td>1016.51</td>\n",
       "      <td>Partly cloudy throughout the day.</td>\n",
       "    </tr>\n",
       "  </tbody>\n",
       "</table>\n",
       "</div>"
      ],
      "text/plain": [
       "                  Date-Time        Summary Precip Type  Temperature (C)  \\\n",
       "0  2006-04-01 00:00:00.000   Partly Cloudy        rain         9.472222   \n",
       "1  2006-04-01 01:00:00.000   Partly Cloudy        rain         9.355556   \n",
       "2  2006-04-01 02:00:00.000   Mostly Cloudy        rain         9.377778   \n",
       "3  2006-04-01 03:00:00.000   Partly Cloudy        rain         8.288889   \n",
       "4  2006-04-01 04:00:00.000   Mostly Cloudy        rain         8.755556   \n",
       "\n",
       "   Apparent Temperature (C)  Humidity  Wind Speed (km/h)  \\\n",
       "0                  7.388889      0.89            14.1197   \n",
       "1                  7.227778      0.86            14.2646   \n",
       "2                  9.377778      0.89             3.9284   \n",
       "3                  5.944444      0.83            14.1036   \n",
       "4                  6.977778      0.83            11.0446   \n",
       "\n",
       "   Wind Bearing (degrees)  Visibility (km)  Loud Cover  Pressure (millibars)  \\\n",
       "0                   251.0          15.8263         0.0               1015.13   \n",
       "1                   259.0          15.8263         0.0               1015.63   \n",
       "2                   204.0          14.9569         0.0               1015.94   \n",
       "3                   269.0          15.8263         0.0               1016.41   \n",
       "4                   259.0          15.8263         0.0               1016.51   \n",
       "\n",
       "                       Daily Summary  \n",
       "0  Partly cloudy throughout the day.  \n",
       "1  Partly cloudy throughout the day.  \n",
       "2  Partly cloudy throughout the day.  \n",
       "3  Partly cloudy throughout the day.  \n",
       "4  Partly cloudy throughout the day.  "
      ]
     },
     "execution_count": 96,
     "metadata": {},
     "output_type": "execute_result"
    }
   ],
   "source": [
    "columns_order=[\"Date-Time\",\"TZ\",\"Summary\",\"Precip Type\",\"Temperature (C)\",\"Apparent Temperature (C)\",\n",
    "                \"Humidity\",\"Wind Speed (km/h)\",\"Wind Bearing (degrees)\",\"Visibility (km)\",\"Loud Cover\",\n",
    "                \"Pressure (millibars)\", \"Daily Summary\"]\n",
    "df2=df1.reindex(columns=columns_order)\n",
    "df3=df2.drop(columns=\"TZ\")\n",
    "df3.head()"
   ]
  },
  {
   "cell_type": "code",
   "execution_count": 97,
   "id": "6ca644f9",
   "metadata": {},
   "outputs": [
    {
     "name": "stdout",
     "output_type": "stream",
     "text": [
      "<class 'pandas.core.frame.DataFrame'>\n",
      "RangeIndex: 96453 entries, 0 to 96452\n",
      "Data columns (total 12 columns):\n",
      " #   Column                    Non-Null Count  Dtype         \n",
      "---  ------                    --------------  -----         \n",
      " 0   Date-Time                 96453 non-null  datetime64[ns]\n",
      " 1   Summary                   96453 non-null  object        \n",
      " 2   Precip Type               95936 non-null  object        \n",
      " 3   Temperature (C)           96453 non-null  float64       \n",
      " 4   Apparent Temperature (C)  96453 non-null  float64       \n",
      " 5   Humidity                  96453 non-null  float64       \n",
      " 6   Wind Speed (km/h)         96453 non-null  float64       \n",
      " 7   Wind Bearing (degrees)    96453 non-null  float64       \n",
      " 8   Visibility (km)           96453 non-null  float64       \n",
      " 9   Loud Cover                96453 non-null  float64       \n",
      " 10  Pressure (millibars)      96453 non-null  float64       \n",
      " 11  Daily Summary             96453 non-null  object        \n",
      "dtypes: datetime64[ns](1), float64(8), object(3)\n",
      "memory usage: 8.8+ MB\n"
     ]
    }
   ],
   "source": [
    "df3[\"Date-Time\"]=pd.to_datetime(df3[\"Date-Time\"])\n",
    "df3.info()"
   ]
  },
  {
   "cell_type": "code",
   "execution_count": 98,
   "id": "5c6c0ec9",
   "metadata": {
    "scrolled": true
   },
   "outputs": [
    {
     "data": {
      "text/html": [
       "<div>\n",
       "<style scoped>\n",
       "    .dataframe tbody tr th:only-of-type {\n",
       "        vertical-align: middle;\n",
       "    }\n",
       "\n",
       "    .dataframe tbody tr th {\n",
       "        vertical-align: top;\n",
       "    }\n",
       "\n",
       "    .dataframe thead th {\n",
       "        text-align: right;\n",
       "    }\n",
       "</style>\n",
       "<table border=\"1\" class=\"dataframe\">\n",
       "  <thead>\n",
       "    <tr style=\"text-align: right;\">\n",
       "      <th></th>\n",
       "      <th>Date-Time</th>\n",
       "      <th>Summary</th>\n",
       "      <th>Precip Type</th>\n",
       "      <th>Temperature (C)</th>\n",
       "      <th>Apparent Temperature (C)</th>\n",
       "      <th>Humidity</th>\n",
       "      <th>Wind Speed (km/h)</th>\n",
       "      <th>Wind Bearing (degrees)</th>\n",
       "      <th>Visibility (km)</th>\n",
       "      <th>Loud Cover</th>\n",
       "      <th>Pressure (millibars)</th>\n",
       "      <th>Daily Summary</th>\n",
       "      <th>Year</th>\n",
       "      <th>Month</th>\n",
       "      <th>day</th>\n",
       "    </tr>\n",
       "  </thead>\n",
       "  <tbody>\n",
       "    <tr>\n",
       "      <th>0</th>\n",
       "      <td>2006-04-01 00:00:00</td>\n",
       "      <td>Partly Cloudy</td>\n",
       "      <td>rain</td>\n",
       "      <td>9.472222</td>\n",
       "      <td>7.388889</td>\n",
       "      <td>0.89</td>\n",
       "      <td>14.1197</td>\n",
       "      <td>251.0</td>\n",
       "      <td>15.8263</td>\n",
       "      <td>0.0</td>\n",
       "      <td>1015.13</td>\n",
       "      <td>Partly cloudy throughout the day.</td>\n",
       "      <td>2006</td>\n",
       "      <td>April</td>\n",
       "      <td>1</td>\n",
       "    </tr>\n",
       "    <tr>\n",
       "      <th>1</th>\n",
       "      <td>2006-04-01 01:00:00</td>\n",
       "      <td>Partly Cloudy</td>\n",
       "      <td>rain</td>\n",
       "      <td>9.355556</td>\n",
       "      <td>7.227778</td>\n",
       "      <td>0.86</td>\n",
       "      <td>14.2646</td>\n",
       "      <td>259.0</td>\n",
       "      <td>15.8263</td>\n",
       "      <td>0.0</td>\n",
       "      <td>1015.63</td>\n",
       "      <td>Partly cloudy throughout the day.</td>\n",
       "      <td>2006</td>\n",
       "      <td>April</td>\n",
       "      <td>1</td>\n",
       "    </tr>\n",
       "    <tr>\n",
       "      <th>2</th>\n",
       "      <td>2006-04-01 02:00:00</td>\n",
       "      <td>Mostly Cloudy</td>\n",
       "      <td>rain</td>\n",
       "      <td>9.377778</td>\n",
       "      <td>9.377778</td>\n",
       "      <td>0.89</td>\n",
       "      <td>3.9284</td>\n",
       "      <td>204.0</td>\n",
       "      <td>14.9569</td>\n",
       "      <td>0.0</td>\n",
       "      <td>1015.94</td>\n",
       "      <td>Partly cloudy throughout the day.</td>\n",
       "      <td>2006</td>\n",
       "      <td>April</td>\n",
       "      <td>1</td>\n",
       "    </tr>\n",
       "    <tr>\n",
       "      <th>3</th>\n",
       "      <td>2006-04-01 03:00:00</td>\n",
       "      <td>Partly Cloudy</td>\n",
       "      <td>rain</td>\n",
       "      <td>8.288889</td>\n",
       "      <td>5.944444</td>\n",
       "      <td>0.83</td>\n",
       "      <td>14.1036</td>\n",
       "      <td>269.0</td>\n",
       "      <td>15.8263</td>\n",
       "      <td>0.0</td>\n",
       "      <td>1016.41</td>\n",
       "      <td>Partly cloudy throughout the day.</td>\n",
       "      <td>2006</td>\n",
       "      <td>April</td>\n",
       "      <td>1</td>\n",
       "    </tr>\n",
       "    <tr>\n",
       "      <th>4</th>\n",
       "      <td>2006-04-01 04:00:00</td>\n",
       "      <td>Mostly Cloudy</td>\n",
       "      <td>rain</td>\n",
       "      <td>8.755556</td>\n",
       "      <td>6.977778</td>\n",
       "      <td>0.83</td>\n",
       "      <td>11.0446</td>\n",
       "      <td>259.0</td>\n",
       "      <td>15.8263</td>\n",
       "      <td>0.0</td>\n",
       "      <td>1016.51</td>\n",
       "      <td>Partly cloudy throughout the day.</td>\n",
       "      <td>2006</td>\n",
       "      <td>April</td>\n",
       "      <td>1</td>\n",
       "    </tr>\n",
       "  </tbody>\n",
       "</table>\n",
       "</div>"
      ],
      "text/plain": [
       "            Date-Time        Summary Precip Type  Temperature (C)  \\\n",
       "0 2006-04-01 00:00:00  Partly Cloudy        rain         9.472222   \n",
       "1 2006-04-01 01:00:00  Partly Cloudy        rain         9.355556   \n",
       "2 2006-04-01 02:00:00  Mostly Cloudy        rain         9.377778   \n",
       "3 2006-04-01 03:00:00  Partly Cloudy        rain         8.288889   \n",
       "4 2006-04-01 04:00:00  Mostly Cloudy        rain         8.755556   \n",
       "\n",
       "   Apparent Temperature (C)  Humidity  Wind Speed (km/h)  \\\n",
       "0                  7.388889      0.89            14.1197   \n",
       "1                  7.227778      0.86            14.2646   \n",
       "2                  9.377778      0.89             3.9284   \n",
       "3                  5.944444      0.83            14.1036   \n",
       "4                  6.977778      0.83            11.0446   \n",
       "\n",
       "   Wind Bearing (degrees)  Visibility (km)  Loud Cover  Pressure (millibars)  \\\n",
       "0                   251.0          15.8263         0.0               1015.13   \n",
       "1                   259.0          15.8263         0.0               1015.63   \n",
       "2                   204.0          14.9569         0.0               1015.94   \n",
       "3                   269.0          15.8263         0.0               1016.41   \n",
       "4                   259.0          15.8263         0.0               1016.51   \n",
       "\n",
       "                       Daily Summary  Year  Month  day  \n",
       "0  Partly cloudy throughout the day.  2006  April    1  \n",
       "1  Partly cloudy throughout the day.  2006  April    1  \n",
       "2  Partly cloudy throughout the day.  2006  April    1  \n",
       "3  Partly cloudy throughout the day.  2006  April    1  \n",
       "4  Partly cloudy throughout the day.  2006  April    1  "
      ]
     },
     "execution_count": 98,
     "metadata": {},
     "output_type": "execute_result"
    }
   ],
   "source": [
    "df3[\"Year\"]=pd.DatetimeIndex(df3[\"Date-Time\"]).year\n",
    "df3[\"Month\"]=df3[\"Date-Time\"].dt.month_name()\n",
    "df3[\"day\"]=df3[\"Date-Time\"].dt.day\n",
    "df3.head()"
   ]
  },
  {
   "cell_type": "code",
   "execution_count": 99,
   "id": "541e1373",
   "metadata": {
    "scrolled": true
   },
   "outputs": [
    {
     "data": {
      "text/plain": [
       "count    96453.000000\n",
       "mean        10.810640\n",
       "std          6.913571\n",
       "min          0.000000\n",
       "25%          5.828200\n",
       "50%          9.965900\n",
       "75%         14.135800\n",
       "max         63.852600\n",
       "Name: Wind Speed (km/h), dtype: float64"
      ]
     },
     "execution_count": 99,
     "metadata": {},
     "output_type": "execute_result"
    }
   ],
   "source": [
    "df3[\"Wind Speed (km/h)\"].describe()"
   ]
  },
  {
   "cell_type": "markdown",
   "id": "294ae2d1",
   "metadata": {},
   "source": [
    "In this Data we see that the Average of the Wind Speed is nearly 11 Km/h.\n",
    "\n",
    "The minimum wind speed 0 km/h and the maximum wind speed 63.85 Km/h"
   ]
  },
  {
   "cell_type": "code",
   "execution_count": 100,
   "id": "826a0fc6",
   "metadata": {
    "scrolled": false
   },
   "outputs": [
    {
     "data": {
      "text/html": [
       "<div>\n",
       "<style scoped>\n",
       "    .dataframe tbody tr th:only-of-type {\n",
       "        vertical-align: middle;\n",
       "    }\n",
       "\n",
       "    .dataframe tbody tr th {\n",
       "        vertical-align: top;\n",
       "    }\n",
       "\n",
       "    .dataframe thead th {\n",
       "        text-align: right;\n",
       "    }\n",
       "</style>\n",
       "<table border=\"1\" class=\"dataframe\">\n",
       "  <thead>\n",
       "    <tr style=\"text-align: right;\">\n",
       "      <th></th>\n",
       "      <th>Wind Speed (km/h)</th>\n",
       "    </tr>\n",
       "    <tr>\n",
       "      <th>Year</th>\n",
       "      <th></th>\n",
       "    </tr>\n",
       "  </thead>\n",
       "  <tbody>\n",
       "    <tr>\n",
       "      <th>2006</th>\n",
       "      <td>10.189852</td>\n",
       "    </tr>\n",
       "    <tr>\n",
       "      <th>2007</th>\n",
       "      <td>10.825392</td>\n",
       "    </tr>\n",
       "    <tr>\n",
       "      <th>2008</th>\n",
       "      <td>11.303897</td>\n",
       "    </tr>\n",
       "    <tr>\n",
       "      <th>2009</th>\n",
       "      <td>11.505948</td>\n",
       "    </tr>\n",
       "    <tr>\n",
       "      <th>2010</th>\n",
       "      <td>11.015628</td>\n",
       "    </tr>\n",
       "    <tr>\n",
       "      <th>2011</th>\n",
       "      <td>9.898262</td>\n",
       "    </tr>\n",
       "    <tr>\n",
       "      <th>2012</th>\n",
       "      <td>11.264545</td>\n",
       "    </tr>\n",
       "    <tr>\n",
       "      <th>2013</th>\n",
       "      <td>10.969389</td>\n",
       "    </tr>\n",
       "    <tr>\n",
       "      <th>2014</th>\n",
       "      <td>10.502473</td>\n",
       "    </tr>\n",
       "    <tr>\n",
       "      <th>2015</th>\n",
       "      <td>10.735247</td>\n",
       "    </tr>\n",
       "    <tr>\n",
       "      <th>2016</th>\n",
       "      <td>10.703441</td>\n",
       "    </tr>\n",
       "  </tbody>\n",
       "</table>\n",
       "</div>"
      ],
      "text/plain": [
       "      Wind Speed (km/h)\n",
       "Year                   \n",
       "2006          10.189852\n",
       "2007          10.825392\n",
       "2008          11.303897\n",
       "2009          11.505948\n",
       "2010          11.015628\n",
       "2011           9.898262\n",
       "2012          11.264545\n",
       "2013          10.969389\n",
       "2014          10.502473\n",
       "2015          10.735247\n",
       "2016          10.703441"
      ]
     },
     "execution_count": 100,
     "metadata": {},
     "output_type": "execute_result"
    }
   ],
   "source": [
    "avg_wind_Speed=pd.DataFrame(df3.groupby(\"Year\")[\"Wind Speed (km/h)\"].mean())\n",
    "avg_wind_Speed\n",
    "#=[\"Year\",\"AVG. Wind Speed (km/hr\"]"
   ]
  },
  {
   "cell_type": "markdown",
   "id": "b40a60ed",
   "metadata": {},
   "source": [
    "Also we see that the Average of the Wind Speed yearwise & the highest Wind speed yearwise is 11.50 km/h."
   ]
  },
  {
   "cell_type": "code",
   "execution_count": 101,
   "id": "61ca3f40",
   "metadata": {
    "scrolled": false
   },
   "outputs": [
    {
     "data": {
      "text/plain": [
       "Text(0.5, 1.0, 'Average wind speed over the years')"
      ]
     },
     "execution_count": 101,
     "metadata": {},
     "output_type": "execute_result"
    },
    {
     "data": {
      "image/png": "[encoded data removed]",
      "text/plain": [
       "<Figure size 720x576 with 1 Axes>"
      ]
     },
     "metadata": {},
     "output_type": "display_data"
    }
   ],
   "source": [
    "fig,ax=plt.subplots(figsize=(10,8))\n",
    "sns.lineplot(x=avg_wind_Speed.index,y=avg_wind_Speed[\"Wind Speed (km/h)\"])\n",
    "plt.title(\"Average wind speed over the years\")"
   ]
  },
  {
   "cell_type": "markdown",
   "id": "200e4ee4",
   "metadata": {},
   "source": [
    "In this lineplot we see the Average of the Wind Speed as compare to Year."
   ]
  },
  {
   "cell_type": "code",
   "execution_count": 102,
   "id": "853a7811",
   "metadata": {},
   "outputs": [
    {
     "data": {
      "text/html": [
       "<div>\n",
       "<style scoped>\n",
       "    .dataframe tbody tr th:only-of-type {\n",
       "        vertical-align: middle;\n",
       "    }\n",
       "\n",
       "    .dataframe tbody tr th {\n",
       "        vertical-align: top;\n",
       "    }\n",
       "\n",
       "    .dataframe thead th {\n",
       "        text-align: right;\n",
       "    }\n",
       "</style>\n",
       "<table border=\"1\" class=\"dataframe\">\n",
       "  <thead>\n",
       "    <tr style=\"text-align: right;\">\n",
       "      <th></th>\n",
       "      <th>Wind Speed (km/h)</th>\n",
       "    </tr>\n",
       "    <tr>\n",
       "      <th>Month</th>\n",
       "      <th></th>\n",
       "    </tr>\n",
       "  </thead>\n",
       "  <tbody>\n",
       "    <tr>\n",
       "      <th>January</th>\n",
       "      <td>11.512816</td>\n",
       "    </tr>\n",
       "    <tr>\n",
       "      <th>February</th>\n",
       "      <td>12.185543</td>\n",
       "    </tr>\n",
       "    <tr>\n",
       "      <th>March</th>\n",
       "      <td>13.405461</td>\n",
       "    </tr>\n",
       "    <tr>\n",
       "      <th>April</th>\n",
       "      <td>11.893094</td>\n",
       "    </tr>\n",
       "    <tr>\n",
       "      <th>May</th>\n",
       "      <td>10.959337</td>\n",
       "    </tr>\n",
       "    <tr>\n",
       "      <th>June</th>\n",
       "      <td>9.626471</td>\n",
       "    </tr>\n",
       "    <tr>\n",
       "      <th>July</th>\n",
       "      <td>9.639907</td>\n",
       "    </tr>\n",
       "    <tr>\n",
       "      <th>August</th>\n",
       "      <td>8.933431</td>\n",
       "    </tr>\n",
       "    <tr>\n",
       "      <th>September</th>\n",
       "      <td>9.621813</td>\n",
       "    </tr>\n",
       "    <tr>\n",
       "      <th>October</th>\n",
       "      <td>10.000153</td>\n",
       "    </tr>\n",
       "    <tr>\n",
       "      <th>November</th>\n",
       "      <td>10.944266</td>\n",
       "    </tr>\n",
       "    <tr>\n",
       "      <th>December</th>\n",
       "      <td>11.098682</td>\n",
       "    </tr>\n",
       "  </tbody>\n",
       "</table>\n",
       "</div>"
      ],
      "text/plain": [
       "           Wind Speed (km/h)\n",
       "Month                       \n",
       "January            11.512816\n",
       "February           12.185543\n",
       "March              13.405461\n",
       "April              11.893094\n",
       "May                10.959337\n",
       "June                9.626471\n",
       "July                9.639907\n",
       "August              8.933431\n",
       "September           9.621813\n",
       "October            10.000153\n",
       "November           10.944266\n",
       "December           11.098682"
      ]
     },
     "execution_count": 102,
     "metadata": {},
     "output_type": "execute_result"
    }
   ],
   "source": [
    "month_avg_wind_Speed=pd.DataFrame(df3.groupby(\"Month\")[\"Wind Speed (km/h)\"].mean())\n",
    "order=[\"January\",\"February\",\"March\",\"April\",\"May\",\"June\",\"July\",\"August\",\"September\",\n",
    "            \"October\",\"November\",\"December\"]\n",
    "monthly_wind_speed=month_avg_wind_Speed.reindex(index=order)\n",
    "monthly_wind_speed"
   ]
  },
  {
   "cell_type": "code",
   "execution_count": 103,
   "id": "5bf00c97",
   "metadata": {
    "scrolled": false
   },
   "outputs": [
    {
     "data": {
      "text/plain": [
       "Text(0.5, 1.0, 'Monthly Average wind speed over the years')"
      ]
     },
     "execution_count": 103,
     "metadata": {},
     "output_type": "execute_result"
    },
    {
     "data": {
      "image/png": "[encoded data removed]",
      "text/plain": [
       "<Figure size 1008x576 with 1 Axes>"
      ]
     },
     "metadata": {},
     "output_type": "display_data"
    }
   ],
   "source": [
    "fig,ax=plt.subplots(figsize=(14,8))\n",
    "sns.lineplot(x=monthly_wind_speed.index,y=monthly_wind_speed[\"Wind Speed (km/h)\"])\n",
    "plt.title(\"Monthly Average wind speed over the years\")\n"
   ]
  },
  {
   "cell_type": "markdown",
   "id": "8c33ee36",
   "metadata": {},
   "source": [
    "In this line plot we see Monthly Average wind speed over the years"
   ]
  },
  {
   "cell_type": "code",
   "execution_count": 104,
   "id": "44a91a27",
   "metadata": {},
   "outputs": [
    {
     "data": {
      "text/plain": [
       "Partly Cloudy                          31733\n",
       "Mostly Cloudy                          28094\n",
       "Overcast                               16597\n",
       "Clear                                  10890\n",
       "Foggy                                   7148\n",
       "Breezy and Overcast                      528\n",
       "Breezy and Mostly Cloudy                 516\n",
       "Breezy and Partly Cloudy                 386\n",
       "Dry and Partly Cloudy                     86\n",
       "Windy and Partly Cloudy                   67\n",
       "Light Rain                                63\n",
       "Breezy                                    54\n",
       "Windy and Overcast                        45\n",
       "Humid and Mostly Cloudy                   40\n",
       "Drizzle                                   39\n",
       "Breezy and Foggy                          35\n",
       "Windy and Mostly Cloudy                   35\n",
       "Dry                                       34\n",
       "Humid and Partly Cloudy                   17\n",
       "Dry and Mostly Cloudy                     14\n",
       "Rain                                      10\n",
       "Windy                                      8\n",
       "Humid and Overcast                         7\n",
       "Windy and Foggy                            4\n",
       "Windy and Dry                              1\n",
       "Dangerously Windy and Partly Cloudy        1\n",
       "Breezy and Dry                             1\n",
       "Name: Summary, dtype: int64"
      ]
     },
     "execution_count": 104,
     "metadata": {},
     "output_type": "execute_result"
    }
   ],
   "source": [
    "df3[\"Summary\"].value_counts()"
   ]
  },
  {
   "cell_type": "code",
   "execution_count": 105,
   "id": "58b5582d",
   "metadata": {
    "scrolled": false
   },
   "outputs": [
    {
     "data": {
      "text/html": [
       "<div>\n",
       "<style scoped>\n",
       "    .dataframe tbody tr th:only-of-type {\n",
       "        vertical-align: middle;\n",
       "    }\n",
       "\n",
       "    .dataframe tbody tr th {\n",
       "        vertical-align: top;\n",
       "    }\n",
       "\n",
       "    .dataframe thead th {\n",
       "        text-align: right;\n",
       "    }\n",
       "</style>\n",
       "<table border=\"1\" class=\"dataframe\">\n",
       "  <thead>\n",
       "    <tr style=\"text-align: right;\">\n",
       "      <th></th>\n",
       "      <th>most frequent weather</th>\n",
       "    </tr>\n",
       "    <tr>\n",
       "      <th>Year</th>\n",
       "      <th></th>\n",
       "    </tr>\n",
       "  </thead>\n",
       "  <tbody>\n",
       "    <tr>\n",
       "      <th>2006</th>\n",
       "      <td>Partly Cloudy</td>\n",
       "    </tr>\n",
       "    <tr>\n",
       "      <th>2007</th>\n",
       "      <td>Partly Cloudy</td>\n",
       "    </tr>\n",
       "    <tr>\n",
       "      <th>2008</th>\n",
       "      <td>Partly Cloudy</td>\n",
       "    </tr>\n",
       "    <tr>\n",
       "      <th>2009</th>\n",
       "      <td>Partly Cloudy</td>\n",
       "    </tr>\n",
       "    <tr>\n",
       "      <th>2010</th>\n",
       "      <td>Partly Cloudy</td>\n",
       "    </tr>\n",
       "    <tr>\n",
       "      <th>2011</th>\n",
       "      <td>Partly Cloudy</td>\n",
       "    </tr>\n",
       "    <tr>\n",
       "      <th>2012</th>\n",
       "      <td>Partly Cloudy</td>\n",
       "    </tr>\n",
       "    <tr>\n",
       "      <th>2013</th>\n",
       "      <td>Partly Cloudy</td>\n",
       "    </tr>\n",
       "    <tr>\n",
       "      <th>2014</th>\n",
       "      <td>Mostly Cloudy</td>\n",
       "    </tr>\n",
       "    <tr>\n",
       "      <th>2015</th>\n",
       "      <td>Partly Cloudy</td>\n",
       "    </tr>\n",
       "    <tr>\n",
       "      <th>2016</th>\n",
       "      <td>Mostly Cloudy</td>\n",
       "    </tr>\n",
       "  </tbody>\n",
       "</table>\n",
       "</div>"
      ],
      "text/plain": [
       "     most frequent weather\n",
       "Year                      \n",
       "2006         Partly Cloudy\n",
       "2007         Partly Cloudy\n",
       "2008         Partly Cloudy\n",
       "2009         Partly Cloudy\n",
       "2010         Partly Cloudy\n",
       "2011         Partly Cloudy\n",
       "2012         Partly Cloudy\n",
       "2013         Partly Cloudy\n",
       "2014         Mostly Cloudy\n",
       "2015         Partly Cloudy\n",
       "2016         Mostly Cloudy"
      ]
     },
     "execution_count": 105,
     "metadata": {},
     "output_type": "execute_result"
    }
   ],
   "source": [
    "weather_cond=pd.DataFrame(df3.groupby(\"Year\")[\"Summary\"].describe(include=\"O\").top)\n",
    "\n",
    "weather_cond.rename(columns={\"top\":\"most frequent weather\"})"
   ]
  },
  {
   "cell_type": "code",
   "execution_count": 106,
   "id": "dcbfa8ca",
   "metadata": {},
   "outputs": [
    {
     "data": {
      "text/html": [
       "<div>\n",
       "<style scoped>\n",
       "    .dataframe tbody tr th:only-of-type {\n",
       "        vertical-align: middle;\n",
       "    }\n",
       "\n",
       "    .dataframe tbody tr th {\n",
       "        vertical-align: top;\n",
       "    }\n",
       "\n",
       "    .dataframe thead th {\n",
       "        text-align: right;\n",
       "    }\n",
       "</style>\n",
       "<table border=\"1\" class=\"dataframe\">\n",
       "  <thead>\n",
       "    <tr style=\"text-align: right;\">\n",
       "      <th></th>\n",
       "      <th>top</th>\n",
       "    </tr>\n",
       "    <tr>\n",
       "      <th>Month</th>\n",
       "      <th></th>\n",
       "    </tr>\n",
       "  </thead>\n",
       "  <tbody>\n",
       "    <tr>\n",
       "      <th>January</th>\n",
       "      <td>Overcast</td>\n",
       "    </tr>\n",
       "    <tr>\n",
       "      <th>February</th>\n",
       "      <td>Overcast</td>\n",
       "    </tr>\n",
       "    <tr>\n",
       "      <th>March</th>\n",
       "      <td>Mostly Cloudy</td>\n",
       "    </tr>\n",
       "    <tr>\n",
       "      <th>April</th>\n",
       "      <td>Partly Cloudy</td>\n",
       "    </tr>\n",
       "    <tr>\n",
       "      <th>May</th>\n",
       "      <td>Partly Cloudy</td>\n",
       "    </tr>\n",
       "    <tr>\n",
       "      <th>June</th>\n",
       "      <td>Partly Cloudy</td>\n",
       "    </tr>\n",
       "    <tr>\n",
       "      <th>July</th>\n",
       "      <td>Partly Cloudy</td>\n",
       "    </tr>\n",
       "    <tr>\n",
       "      <th>August</th>\n",
       "      <td>Partly Cloudy</td>\n",
       "    </tr>\n",
       "    <tr>\n",
       "      <th>September</th>\n",
       "      <td>Partly Cloudy</td>\n",
       "    </tr>\n",
       "    <tr>\n",
       "      <th>October</th>\n",
       "      <td>Mostly Cloudy</td>\n",
       "    </tr>\n",
       "    <tr>\n",
       "      <th>November</th>\n",
       "      <td>Mostly Cloudy</td>\n",
       "    </tr>\n",
       "    <tr>\n",
       "      <th>December</th>\n",
       "      <td>Mostly Cloudy</td>\n",
       "    </tr>\n",
       "  </tbody>\n",
       "</table>\n",
       "</div>"
      ],
      "text/plain": [
       "                     top\n",
       "Month                   \n",
       "January         Overcast\n",
       "February        Overcast\n",
       "March      Mostly Cloudy\n",
       "April      Partly Cloudy\n",
       "May        Partly Cloudy\n",
       "June       Partly Cloudy\n",
       "July       Partly Cloudy\n",
       "August     Partly Cloudy\n",
       "September  Partly Cloudy\n",
       "October    Mostly Cloudy\n",
       "November   Mostly Cloudy\n",
       "December   Mostly Cloudy"
      ]
     },
     "execution_count": 106,
     "metadata": {},
     "output_type": "execute_result"
    }
   ],
   "source": [
    "m_weather_cond=pd.DataFrame(df3.groupby(\"Month\")[\"Summary\"].describe(include=\"O\").top)\n",
    "order=[\"January\",\"February\",\"March\",\"April\",\"May\",\"June\",\"July\",\"August\",\"September\",\n",
    "            \"October\",\"November\",\"December\"]\n",
    "m_weather_cond.rename(columns={\"top\":\"most frequent weather\"})\n",
    "monthly=m_weather_cond.reindex(index=order)\n",
    "monthly"
   ]
  },
  {
   "cell_type": "code",
   "execution_count": 107,
   "id": "30ba9cac",
   "metadata": {},
   "outputs": [
    {
     "data": {
      "text/html": [
       "<div>\n",
       "<style scoped>\n",
       "    .dataframe tbody tr th:only-of-type {\n",
       "        vertical-align: middle;\n",
       "    }\n",
       "\n",
       "    .dataframe tbody tr th {\n",
       "        vertical-align: top;\n",
       "    }\n",
       "\n",
       "    .dataframe thead th {\n",
       "        text-align: right;\n",
       "    }\n",
       "</style>\n",
       "<table border=\"1\" class=\"dataframe\">\n",
       "  <thead>\n",
       "    <tr style=\"text-align: right;\">\n",
       "      <th></th>\n",
       "      <th>Visibility (km)</th>\n",
       "    </tr>\n",
       "    <tr>\n",
       "      <th>Month</th>\n",
       "      <th></th>\n",
       "    </tr>\n",
       "  </thead>\n",
       "  <tbody>\n",
       "    <tr>\n",
       "      <th>January</th>\n",
       "      <td>7.830584</td>\n",
       "    </tr>\n",
       "    <tr>\n",
       "      <th>February</th>\n",
       "      <td>8.731368</td>\n",
       "    </tr>\n",
       "    <tr>\n",
       "      <th>March</th>\n",
       "      <td>10.910450</td>\n",
       "    </tr>\n",
       "    <tr>\n",
       "      <th>April</th>\n",
       "      <td>11.784224</td>\n",
       "    </tr>\n",
       "    <tr>\n",
       "      <th>May</th>\n",
       "      <td>11.892754</td>\n",
       "    </tr>\n",
       "    <tr>\n",
       "      <th>June</th>\n",
       "      <td>11.990266</td>\n",
       "    </tr>\n",
       "    <tr>\n",
       "      <th>July</th>\n",
       "      <td>12.187820</td>\n",
       "    </tr>\n",
       "    <tr>\n",
       "      <th>August</th>\n",
       "      <td>12.455549</td>\n",
       "    </tr>\n",
       "    <tr>\n",
       "      <th>September</th>\n",
       "      <td>11.602874</td>\n",
       "    </tr>\n",
       "    <tr>\n",
       "      <th>October</th>\n",
       "      <td>9.741691</td>\n",
       "    </tr>\n",
       "    <tr>\n",
       "      <th>November</th>\n",
       "      <td>8.191229</td>\n",
       "    </tr>\n",
       "    <tr>\n",
       "      <th>December</th>\n",
       "      <td>6.773288</td>\n",
       "    </tr>\n",
       "  </tbody>\n",
       "</table>\n",
       "</div>"
      ],
      "text/plain": [
       "           Visibility (km)\n",
       "Month                     \n",
       "January           7.830584\n",
       "February          8.731368\n",
       "March            10.910450\n",
       "April            11.784224\n",
       "May              11.892754\n",
       "June             11.990266\n",
       "July             12.187820\n",
       "August           12.455549\n",
       "September        11.602874\n",
       "October           9.741691\n",
       "November          8.191229\n",
       "December          6.773288"
      ]
     },
     "execution_count": 107,
     "metadata": {},
     "output_type": "execute_result"
    }
   ],
   "source": [
    "month_avg_visibility=pd.DataFrame(df3.groupby(\"Month\")[\"Visibility (km)\"].mean())\n",
    "order=[\"January\",\"February\",\"March\",\"April\",\"May\",\"June\",\"July\",\"August\",\"September\",\n",
    "            \"October\",\"November\",\"December\"]\n",
    "monthly_visibility=month_avg_visibility.reindex(index=order)\n",
    "monthly_visibility"
   ]
  },
  {
   "cell_type": "code",
   "execution_count": 108,
   "id": "74003f90",
   "metadata": {
    "scrolled": false
   },
   "outputs": [
    {
     "data": {
      "text/plain": [
       "Text(0.5, 1.0, 'Monthly visibility over the years')"
      ]
     },
     "execution_count": 108,
     "metadata": {},
     "output_type": "execute_result"
    },
    {
     "data": {
      "image/png": "[encoded data removed]",
      "text/plain": [
       "<Figure size 1008x576 with 1 Axes>"
      ]
     },
     "metadata": {},
     "output_type": "display_data"
    }
   ],
   "source": [
    "fig,ax=plt.subplots(figsize=(14,8))\n",
    "sns.lineplot(x=monthly_visibility.index,y=monthly_visibility[\"Visibility (km)\"])\n",
    "plt.title(\"Monthly visibility over the years\")"
   ]
  },
  {
   "cell_type": "markdown",
   "id": "4d08db85",
   "metadata": {},
   "source": [
    "In this line plot we see Monthly visibility over the years"
   ]
  },
  {
   "cell_type": "code",
   "execution_count": 109,
   "id": "4b354dc5",
   "metadata": {},
   "outputs": [
    {
     "data": {
      "text/html": [
       "<div>\n",
       "<style scoped>\n",
       "    .dataframe tbody tr th:only-of-type {\n",
       "        vertical-align: middle;\n",
       "    }\n",
       "\n",
       "    .dataframe tbody tr th {\n",
       "        vertical-align: top;\n",
       "    }\n",
       "\n",
       "    .dataframe thead th {\n",
       "        text-align: right;\n",
       "    }\n",
       "</style>\n",
       "<table border=\"1\" class=\"dataframe\">\n",
       "  <thead>\n",
       "    <tr style=\"text-align: right;\">\n",
       "      <th></th>\n",
       "      <th>Precip Type</th>\n",
       "    </tr>\n",
       "    <tr>\n",
       "      <th>Month</th>\n",
       "      <th></th>\n",
       "    </tr>\n",
       "  </thead>\n",
       "  <tbody>\n",
       "    <tr>\n",
       "      <th>January</th>\n",
       "      <td>rain</td>\n",
       "    </tr>\n",
       "    <tr>\n",
       "      <th>February</th>\n",
       "      <td>rain</td>\n",
       "    </tr>\n",
       "    <tr>\n",
       "      <th>March</th>\n",
       "      <td>rain</td>\n",
       "    </tr>\n",
       "    <tr>\n",
       "      <th>April</th>\n",
       "      <td>rain</td>\n",
       "    </tr>\n",
       "    <tr>\n",
       "      <th>May</th>\n",
       "      <td>rain</td>\n",
       "    </tr>\n",
       "    <tr>\n",
       "      <th>June</th>\n",
       "      <td>rain</td>\n",
       "    </tr>\n",
       "    <tr>\n",
       "      <th>July</th>\n",
       "      <td>rain</td>\n",
       "    </tr>\n",
       "    <tr>\n",
       "      <th>August</th>\n",
       "      <td>rain</td>\n",
       "    </tr>\n",
       "    <tr>\n",
       "      <th>September</th>\n",
       "      <td>rain</td>\n",
       "    </tr>\n",
       "    <tr>\n",
       "      <th>October</th>\n",
       "      <td>rain</td>\n",
       "    </tr>\n",
       "    <tr>\n",
       "      <th>November</th>\n",
       "      <td>rain</td>\n",
       "    </tr>\n",
       "    <tr>\n",
       "      <th>December</th>\n",
       "      <td>rain</td>\n",
       "    </tr>\n",
       "  </tbody>\n",
       "</table>\n",
       "</div>"
      ],
      "text/plain": [
       "          Precip Type\n",
       "Month                \n",
       "January          rain\n",
       "February         rain\n",
       "March            rain\n",
       "April            rain\n",
       "May              rain\n",
       "June             rain\n",
       "July             rain\n",
       "August           rain\n",
       "September        rain\n",
       "October          rain\n",
       "November         rain\n",
       "December         rain"
      ]
     },
     "execution_count": 109,
     "metadata": {},
     "output_type": "execute_result"
    }
   ],
   "source": [
    "percip=pd.DataFrame(df3.groupby(\"Month\")[\"Precip Type\"].describe(include=\"O\").top)\n",
    "order=[\"January\",\"February\",\"March\",\"April\",\"May\",\"June\",\"July\",\"August\",\"September\",\n",
    "            \"October\",\"November\",\"December\"]\n",
    "m_p=percip.rename(columns={\"top\":\"Precip Type\"})\n",
    "monthly_percip=m_p.reindex(index=order)\n",
    "monthly_percip"
   ]
  },
  {
   "cell_type": "code",
   "execution_count": 110,
   "id": "b599fc09",
   "metadata": {
    "scrolled": false
   },
   "outputs": [
    {
     "data": {
      "text/plain": [
       "Text(0, 0.5, 'freq')"
      ]
     },
     "execution_count": 110,
     "metadata": {},
     "output_type": "execute_result"
    },
    {
     "data": {
      "image/png": "[encoded data removed]",
      "text/plain": [
       "<Figure size 864x576 with 1 Axes>"
      ]
     },
     "metadata": {},
     "output_type": "display_data"
    }
   ],
   "source": [
    "fig,ax=plt.subplots(figsize=(12,8))\n",
    "plt.hist(df3[\"Temperature (C)\"],bins=10,rwidth=0.9)\n",
    "plt.xlabel(\"Temperature (C)\")\n",
    "plt.ylabel(\"freq\")"
   ]
  },
  {
   "cell_type": "markdown",
   "id": "4847c161",
   "metadata": {},
   "source": [
    "In this histogram we see the Temperature frequency is follow the normally distributed"
   ]
  },
  {
   "cell_type": "code",
   "execution_count": 111,
   "id": "0ab73483",
   "metadata": {},
   "outputs": [
    {
     "data": {
      "text/html": [
       "<div>\n",
       "<style scoped>\n",
       "    .dataframe tbody tr th:only-of-type {\n",
       "        vertical-align: middle;\n",
       "    }\n",
       "\n",
       "    .dataframe tbody tr th {\n",
       "        vertical-align: top;\n",
       "    }\n",
       "\n",
       "    .dataframe thead th {\n",
       "        text-align: right;\n",
       "    }\n",
       "</style>\n",
       "<table border=\"1\" class=\"dataframe\">\n",
       "  <thead>\n",
       "    <tr style=\"text-align: right;\">\n",
       "      <th></th>\n",
       "      <th>Temperature (C)</th>\n",
       "    </tr>\n",
       "    <tr>\n",
       "      <th>Year</th>\n",
       "      <th></th>\n",
       "    </tr>\n",
       "  </thead>\n",
       "  <tbody>\n",
       "    <tr>\n",
       "      <th>2006</th>\n",
       "      <td>11.215365</td>\n",
       "    </tr>\n",
       "    <tr>\n",
       "      <th>2007</th>\n",
       "      <td>12.135239</td>\n",
       "    </tr>\n",
       "    <tr>\n",
       "      <th>2008</th>\n",
       "      <td>12.161876</td>\n",
       "    </tr>\n",
       "    <tr>\n",
       "      <th>2009</th>\n",
       "      <td>12.267910</td>\n",
       "    </tr>\n",
       "    <tr>\n",
       "      <th>2010</th>\n",
       "      <td>11.202061</td>\n",
       "    </tr>\n",
       "    <tr>\n",
       "      <th>2011</th>\n",
       "      <td>11.524453</td>\n",
       "    </tr>\n",
       "    <tr>\n",
       "      <th>2012</th>\n",
       "      <td>11.986726</td>\n",
       "    </tr>\n",
       "    <tr>\n",
       "      <th>2013</th>\n",
       "      <td>11.940719</td>\n",
       "    </tr>\n",
       "    <tr>\n",
       "      <th>2014</th>\n",
       "      <td>12.529737</td>\n",
       "    </tr>\n",
       "    <tr>\n",
       "      <th>2015</th>\n",
       "      <td>12.311370</td>\n",
       "    </tr>\n",
       "    <tr>\n",
       "      <th>2016</th>\n",
       "      <td>11.985292</td>\n",
       "    </tr>\n",
       "  </tbody>\n",
       "</table>\n",
       "</div>"
      ],
      "text/plain": [
       "      Temperature (C)\n",
       "Year                 \n",
       "2006        11.215365\n",
       "2007        12.135239\n",
       "2008        12.161876\n",
       "2009        12.267910\n",
       "2010        11.202061\n",
       "2011        11.524453\n",
       "2012        11.986726\n",
       "2013        11.940719\n",
       "2014        12.529737\n",
       "2015        12.311370\n",
       "2016        11.985292"
      ]
     },
     "execution_count": 111,
     "metadata": {},
     "output_type": "execute_result"
    }
   ],
   "source": [
    "year_avg_temp=pd.DataFrame(df3.groupby(\"Year\")[\"Temperature (C)\"].mean())\n",
    "year_avg_temp"
   ]
  },
  {
   "cell_type": "code",
   "execution_count": 112,
   "id": "3ca8bfbf",
   "metadata": {
    "scrolled": false
   },
   "outputs": [
    {
     "data": {
      "text/plain": [
       "Text(0.5, 1.0, 'Annual avg. temperature')"
      ]
     },
     "execution_count": 112,
     "metadata": {},
     "output_type": "execute_result"
    },
    {
     "data": {
      "image/png": "[encoded data removed]",
      "text/plain": [
       "<Figure size 1008x576 with 1 Axes>"
      ]
     },
     "metadata": {},
     "output_type": "display_data"
    }
   ],
   "source": [
    "fig,ax=plt.subplots(figsize=(14,8))\n",
    "sns.lineplot(x=year_avg_temp.index,y=year_avg_temp[\"Temperature (C)\"])\n",
    "plt.title(\"Annual avg. temperature\")"
   ]
  },
  {
   "cell_type": "code",
   "execution_count": 113,
   "id": "cd07be38",
   "metadata": {},
   "outputs": [
    {
     "data": {
      "text/html": [
       "<div>\n",
       "<style scoped>\n",
       "    .dataframe tbody tr th:only-of-type {\n",
       "        vertical-align: middle;\n",
       "    }\n",
       "\n",
       "    .dataframe tbody tr th {\n",
       "        vertical-align: top;\n",
       "    }\n",
       "\n",
       "    .dataframe thead th {\n",
       "        text-align: right;\n",
       "    }\n",
       "</style>\n",
       "<table border=\"1\" class=\"dataframe\">\n",
       "  <thead>\n",
       "    <tr style=\"text-align: right;\">\n",
       "      <th></th>\n",
       "      <th>Temperature (C)</th>\n",
       "    </tr>\n",
       "    <tr>\n",
       "      <th>Month</th>\n",
       "      <th></th>\n",
       "    </tr>\n",
       "  </thead>\n",
       "  <tbody>\n",
       "    <tr>\n",
       "      <th>January</th>\n",
       "      <td>0.813890</td>\n",
       "    </tr>\n",
       "    <tr>\n",
       "      <th>February</th>\n",
       "      <td>2.159699</td>\n",
       "    </tr>\n",
       "    <tr>\n",
       "      <th>March</th>\n",
       "      <td>6.906599</td>\n",
       "    </tr>\n",
       "    <tr>\n",
       "      <th>April</th>\n",
       "      <td>12.756417</td>\n",
       "    </tr>\n",
       "    <tr>\n",
       "      <th>May</th>\n",
       "      <td>16.873692</td>\n",
       "    </tr>\n",
       "    <tr>\n",
       "      <th>June</th>\n",
       "      <td>20.715617</td>\n",
       "    </tr>\n",
       "    <tr>\n",
       "      <th>July</th>\n",
       "      <td>22.963943</td>\n",
       "    </tr>\n",
       "    <tr>\n",
       "      <th>August</th>\n",
       "      <td>22.345031</td>\n",
       "    </tr>\n",
       "    <tr>\n",
       "      <th>September</th>\n",
       "      <td>17.516790</td>\n",
       "    </tr>\n",
       "    <tr>\n",
       "      <th>October</th>\n",
       "      <td>11.342247</td>\n",
       "    </tr>\n",
       "    <tr>\n",
       "      <th>November</th>\n",
       "      <td>6.589907</td>\n",
       "    </tr>\n",
       "    <tr>\n",
       "      <th>December</th>\n",
       "      <td>1.633742</td>\n",
       "    </tr>\n",
       "  </tbody>\n",
       "</table>\n",
       "</div>"
      ],
      "text/plain": [
       "           Temperature (C)\n",
       "Month                     \n",
       "January           0.813890\n",
       "February          2.159699\n",
       "March             6.906599\n",
       "April            12.756417\n",
       "May              16.873692\n",
       "June             20.715617\n",
       "July             22.963943\n",
       "August           22.345031\n",
       "September        17.516790\n",
       "October          11.342247\n",
       "November          6.589907\n",
       "December          1.633742"
      ]
     },
     "execution_count": 113,
     "metadata": {},
     "output_type": "execute_result"
    }
   ],
   "source": [
    "month_temp=pd.DataFrame(df3.groupby(\"Month\")[\"Temperature (C)\"].mean())\n",
    "order=[\"January\",\"February\",\"March\",\"April\",\"May\",\"June\",\"July\",\"August\",\"September\",\n",
    "            \"October\",\"November\",\"December\"]\n",
    "\n",
    "monthly_avg_temp=month_temp.reindex(index=order)\n",
    "monthly_avg_temp"
   ]
  },
  {
   "cell_type": "code",
   "execution_count": 114,
   "id": "fa6f6a80",
   "metadata": {
    "scrolled": false
   },
   "outputs": [
    {
     "data": {
      "text/plain": [
       "Text(0.5, 1.0, 'monthly avg. temperature')"
      ]
     },
     "execution_count": 114,
     "metadata": {},
     "output_type": "execute_result"
    },
    {
     "data": {
      "image/png": "[encoded data removed]",
      "text/plain": [
       "<Figure size 864x576 with 1 Axes>"
      ]
     },
     "metadata": {},
     "output_type": "display_data"
    }
   ],
   "source": [
    "fig,ax=plt.subplots(figsize=(12,8))\n",
    "sns.lineplot(x=monthly_avg_temp.index,y=monthly_avg_temp[\"Temperature (C)\"])\n",
    "plt.title(\"monthly avg. temperature\")"
   ]
  },
  {
   "cell_type": "markdown",
   "id": "2d9a39d7",
   "metadata": {
    "papermill": {
     "duration": 0.054189,
     "end_time": "2023-07-08T09:06:08.409858",
     "exception": false,
     "start_time": "2023-07-08T09:06:08.355669",
     "status": "completed"
    },
    "tags": []
   },
   "source": [
    "* #### Classes Distribution"
   ]
  },
  {
   "cell_type": "code",
   "execution_count": 115,
   "id": "27b68710",
   "metadata": {
    "execution": {
     "iopub.execute_input": "2023-07-08T09:06:08.521037Z",
     "iopub.status.busy": "2023-07-08T09:06:08.520244Z",
     "iopub.status.idle": "2023-07-08T09:06:08.533832Z",
     "shell.execute_reply": "2023-07-08T09:06:08.532442Z"
    },
    "papermill": {
     "duration": 0.072626,
     "end_time": "2023-07-08T09:06:08.536071",
     "exception": false,
     "start_time": "2023-07-08T09:06:08.463445",
     "status": "completed"
    },
    "scrolled": true,
    "tags": []
   },
   "outputs": [
    {
     "name": "stdout",
     "output_type": "stream",
     "text": [
      "Overcast    48.040955\n",
      "Clear       31.257454\n",
      "Foggy       20.701591\n",
      "Name: Summary, dtype: float64\n",
      "\n",
      "The classes are satifactory balanced\n"
     ]
    }
   ],
   "source": [
    "# Checking whether the target variable is balanced or unbalanced\n",
    "counts = data[\"Summary\"].value_counts()\n",
    "total = counts.sum()\n",
    "percentages = (counts / total) * 100\n",
    "print(percentages)\n",
    "print()\n",
    "print(\"The classes are satifactory balanced\")"
   ]
  },
  {
   "cell_type": "markdown",
   "id": "eaf61391",
   "metadata": {
    "papermill": {
     "duration": 0.054134,
     "end_time": "2023-07-08T09:06:08.643980",
     "exception": false,
     "start_time": "2023-07-08T09:06:08.589846",
     "status": "completed"
    },
    "tags": []
   },
   "source": [
    "* #### Dataset Split"
   ]
  },
  {
   "cell_type": "code",
   "execution_count": 116,
   "id": "c3c30520",
   "metadata": {
    "execution": {
     "iopub.execute_input": "2023-07-08T09:06:08.755012Z",
     "iopub.status.busy": "2023-07-08T09:06:08.754313Z",
     "iopub.status.idle": "2023-07-08T09:06:08.776286Z",
     "shell.execute_reply": "2023-07-08T09:06:08.775164Z"
    },
    "papermill": {
     "duration": 0.080606,
     "end_time": "2023-07-08T09:06:08.778539",
     "exception": false,
     "start_time": "2023-07-08T09:06:08.697933",
     "status": "completed"
    },
    "tags": []
   },
   "outputs": [
    {
     "data": {
      "text/html": [
       "<div>\n",
       "<style scoped>\n",
       "    .dataframe tbody tr th:only-of-type {\n",
       "        vertical-align: middle;\n",
       "    }\n",
       "\n",
       "    .dataframe tbody tr th {\n",
       "        vertical-align: top;\n",
       "    }\n",
       "\n",
       "    .dataframe thead th {\n",
       "        text-align: right;\n",
       "    }\n",
       "</style>\n",
       "<table border=\"1\" class=\"dataframe\">\n",
       "  <thead>\n",
       "    <tr style=\"text-align: right;\">\n",
       "      <th></th>\n",
       "      <th>Precip Type</th>\n",
       "      <th>Temperature (C)</th>\n",
       "      <th>Apparent Temperature (C)</th>\n",
       "      <th>Humidity</th>\n",
       "      <th>Wind Speed (km/h)</th>\n",
       "      <th>Wind Bearing (degrees)</th>\n",
       "      <th>Visibility (km)</th>\n",
       "      <th>Pressure (millibars)</th>\n",
       "      <th>Daily Summary</th>\n",
       "      <th>Time</th>\n",
       "      <th>Year</th>\n",
       "      <th>Month</th>\n",
       "      <th>Day</th>\n",
       "    </tr>\n",
       "  </thead>\n",
       "  <tbody>\n",
       "    <tr>\n",
       "      <th>46</th>\n",
       "      <td>rain</td>\n",
       "      <td>14.42</td>\n",
       "      <td>14.42</td>\n",
       "      <td>0.58</td>\n",
       "      <td>20.01</td>\n",
       "      <td>159.0</td>\n",
       "      <td>15.83</td>\n",
       "      <td>1007.85</td>\n",
       "      <td>Mostly cloudy throughout the day.</td>\n",
       "      <td>22</td>\n",
       "      <td>2006</td>\n",
       "      <td>4</td>\n",
       "      <td>10</td>\n",
       "    </tr>\n",
       "    <tr>\n",
       "      <th>47</th>\n",
       "      <td>rain</td>\n",
       "      <td>14.26</td>\n",
       "      <td>14.26</td>\n",
       "      <td>0.59</td>\n",
       "      <td>16.50</td>\n",
       "      <td>168.0</td>\n",
       "      <td>14.96</td>\n",
       "      <td>1007.89</td>\n",
       "      <td>Mostly cloudy throughout the day.</td>\n",
       "      <td>23</td>\n",
       "      <td>2006</td>\n",
       "      <td>4</td>\n",
       "      <td>10</td>\n",
       "    </tr>\n",
       "    <tr>\n",
       "      <th>48</th>\n",
       "      <td>rain</td>\n",
       "      <td>13.77</td>\n",
       "      <td>13.77</td>\n",
       "      <td>0.60</td>\n",
       "      <td>17.10</td>\n",
       "      <td>160.0</td>\n",
       "      <td>15.83</td>\n",
       "      <td>1007.36</td>\n",
       "      <td>Foggy in the evening.</td>\n",
       "      <td>0</td>\n",
       "      <td>2006</td>\n",
       "      <td>4</td>\n",
       "      <td>11</td>\n",
       "    </tr>\n",
       "    <tr>\n",
       "      <th>49</th>\n",
       "      <td>rain</td>\n",
       "      <td>13.28</td>\n",
       "      <td>13.28</td>\n",
       "      <td>0.63</td>\n",
       "      <td>14.36</td>\n",
       "      <td>160.0</td>\n",
       "      <td>15.83</td>\n",
       "      <td>1007.26</td>\n",
       "      <td>Foggy in the evening.</td>\n",
       "      <td>1</td>\n",
       "      <td>2006</td>\n",
       "      <td>4</td>\n",
       "      <td>11</td>\n",
       "    </tr>\n",
       "    <tr>\n",
       "      <th>50</th>\n",
       "      <td>rain</td>\n",
       "      <td>8.63</td>\n",
       "      <td>5.47</td>\n",
       "      <td>0.87</td>\n",
       "      <td>22.04</td>\n",
       "      <td>32.0</td>\n",
       "      <td>6.70</td>\n",
       "      <td>1005.10</td>\n",
       "      <td>Foggy in the evening.</td>\n",
       "      <td>2</td>\n",
       "      <td>2006</td>\n",
       "      <td>4</td>\n",
       "      <td>11</td>\n",
       "    </tr>\n",
       "  </tbody>\n",
       "</table>\n",
       "</div>"
      ],
      "text/plain": [
       "   Precip Type  Temperature (C)  Apparent Temperature (C)  Humidity  \\\n",
       "46        rain            14.42                     14.42      0.58   \n",
       "47        rain            14.26                     14.26      0.59   \n",
       "48        rain            13.77                     13.77      0.60   \n",
       "49        rain            13.28                     13.28      0.63   \n",
       "50        rain             8.63                      5.47      0.87   \n",
       "\n",
       "    Wind Speed (km/h)  Wind Bearing (degrees)  Visibility (km)  \\\n",
       "46              20.01                   159.0            15.83   \n",
       "47              16.50                   168.0            14.96   \n",
       "48              17.10                   160.0            15.83   \n",
       "49              14.36                   160.0            15.83   \n",
       "50              22.04                    32.0             6.70   \n",
       "\n",
       "    Pressure (millibars)                      Daily Summary  Time  Year  \\\n",
       "46               1007.85  Mostly cloudy throughout the day.    22  2006   \n",
       "47               1007.89  Mostly cloudy throughout the day.    23  2006   \n",
       "48               1007.36              Foggy in the evening.     0  2006   \n",
       "49               1007.26              Foggy in the evening.     1  2006   \n",
       "50               1005.10              Foggy in the evening.     2  2006   \n",
       "\n",
       "    Month  Day  \n",
       "46      4   10  \n",
       "47      4   10  \n",
       "48      4   11  \n",
       "49      4   11  \n",
       "50      4   11  "
      ]
     },
     "execution_count": 116,
     "metadata": {},
     "output_type": "execute_result"
    }
   ],
   "source": [
    "# Input features dataset\n",
    "input_df = data.drop(columns=\"Summary\", axis=1)\n",
    "input_df.head()"
   ]
  },
  {
   "cell_type": "code",
   "execution_count": 117,
   "id": "9f66badd",
   "metadata": {
    "execution": {
     "iopub.execute_input": "2023-07-08T09:06:08.890206Z",
     "iopub.status.busy": "2023-07-08T09:06:08.889757Z",
     "iopub.status.idle": "2023-07-08T09:06:08.907827Z",
     "shell.execute_reply": "2023-07-08T09:06:08.906806Z"
    },
    "papermill": {
     "duration": 0.078224,
     "end_time": "2023-07-08T09:06:08.911078",
     "exception": false,
     "start_time": "2023-07-08T09:06:08.832854",
     "status": "completed"
    },
    "tags": []
   },
   "outputs": [
    {
     "name": "stdout",
     "output_type": "stream",
     "text": [
      "Class 'Clear' is labeled as 0\n",
      "Class 'Foggy' is labeled as 1\n",
      "Class 'Overcast' is labeled as 2\n"
     ]
    }
   ],
   "source": [
    "# Target variable \n",
    "# Applying mapping\n",
    "encoder = LabelEncoder()\n",
    "y = data[\"Summary\"]\n",
    "y = encoder.fit_transform(y)\n",
    "\n",
    "# Checking the mapping of the classes\n",
    "class_mapping = dict(zip(encoder.classes_, encoder.transform(encoder.classes_)))\n",
    "for class_label, class_number in class_mapping.items():\n",
    "    print(f\"Class '{class_label}' is labeled as {class_number}\")"
   ]
  },
  {
   "cell_type": "markdown",
   "id": "de4ba656",
   "metadata": {
    "papermill": {
     "duration": 0.056667,
     "end_time": "2023-07-08T09:06:09.022676",
     "exception": false,
     "start_time": "2023-07-08T09:06:08.966009",
     "status": "completed"
    },
    "tags": []
   },
   "source": [
    "* #### Categorical Features Encoding"
   ]
  },
  {
   "cell_type": "code",
   "execution_count": 118,
   "id": "09c3c0ef",
   "metadata": {
    "execution": {
     "iopub.execute_input": "2023-07-08T09:06:09.150899Z",
     "iopub.status.busy": "2023-07-08T09:06:09.150252Z",
     "iopub.status.idle": "2023-07-08T09:06:09.161869Z",
     "shell.execute_reply": "2023-07-08T09:06:09.160787Z"
    },
    "papermill": {
     "duration": 0.087956,
     "end_time": "2023-07-08T09:06:09.166667",
     "exception": false,
     "start_time": "2023-07-08T09:06:09.078711",
     "status": "completed"
    },
    "tags": []
   },
   "outputs": [],
   "source": [
    "# As \"Precip Type\" have only 2 values, hence applying binary encoding\n",
    "mapping = {'rain': 0, 'snow': 1}\n",
    "input_df['Precip Type'] = input_df['Precip Type'].map(mapping)"
   ]
  },
  {
   "cell_type": "code",
   "execution_count": 119,
   "id": "48ad65e5",
   "metadata": {
    "execution": {
     "iopub.execute_input": "2023-07-08T09:06:09.291711Z",
     "iopub.status.busy": "2023-07-08T09:06:09.290964Z",
     "iopub.status.idle": "2023-07-08T09:06:09.323737Z",
     "shell.execute_reply": "2023-07-08T09:06:09.322577Z"
    },
    "papermill": {
     "duration": 0.093469,
     "end_time": "2023-07-08T09:06:09.326137",
     "exception": false,
     "start_time": "2023-07-08T09:06:09.232668",
     "status": "completed"
    },
    "tags": []
   },
   "outputs": [
    {
     "data": {
      "text/html": [
       "<div>\n",
       "<style scoped>\n",
       "    .dataframe tbody tr th:only-of-type {\n",
       "        vertical-align: middle;\n",
       "    }\n",
       "\n",
       "    .dataframe tbody tr th {\n",
       "        vertical-align: top;\n",
       "    }\n",
       "\n",
       "    .dataframe thead th {\n",
       "        text-align: right;\n",
       "    }\n",
       "</style>\n",
       "<table border=\"1\" class=\"dataframe\">\n",
       "  <thead>\n",
       "    <tr style=\"text-align: right;\">\n",
       "      <th></th>\n",
       "      <th>Precip Type</th>\n",
       "      <th>Temperature (C)</th>\n",
       "      <th>Apparent Temperature (C)</th>\n",
       "      <th>Humidity</th>\n",
       "      <th>Wind Speed (km/h)</th>\n",
       "      <th>Wind Bearing (degrees)</th>\n",
       "      <th>Visibility (km)</th>\n",
       "      <th>Pressure (millibars)</th>\n",
       "      <th>Time</th>\n",
       "      <th>Year</th>\n",
       "      <th>Month</th>\n",
       "      <th>Day</th>\n",
       "      <th>Daily Summary Frequency</th>\n",
       "    </tr>\n",
       "  </thead>\n",
       "  <tbody>\n",
       "    <tr>\n",
       "      <th>46</th>\n",
       "      <td>0</td>\n",
       "      <td>14.42</td>\n",
       "      <td>14.42</td>\n",
       "      <td>0.58</td>\n",
       "      <td>20.01</td>\n",
       "      <td>159.0</td>\n",
       "      <td>15.83</td>\n",
       "      <td>1007.85</td>\n",
       "      <td>22</td>\n",
       "      <td>2006</td>\n",
       "      <td>4</td>\n",
       "      <td>10</td>\n",
       "      <td>0.168068</td>\n",
       "    </tr>\n",
       "    <tr>\n",
       "      <th>47</th>\n",
       "      <td>0</td>\n",
       "      <td>14.26</td>\n",
       "      <td>14.26</td>\n",
       "      <td>0.59</td>\n",
       "      <td>16.50</td>\n",
       "      <td>168.0</td>\n",
       "      <td>14.96</td>\n",
       "      <td>1007.89</td>\n",
       "      <td>23</td>\n",
       "      <td>2006</td>\n",
       "      <td>4</td>\n",
       "      <td>10</td>\n",
       "      <td>0.168068</td>\n",
       "    </tr>\n",
       "    <tr>\n",
       "      <th>48</th>\n",
       "      <td>0</td>\n",
       "      <td>13.77</td>\n",
       "      <td>13.77</td>\n",
       "      <td>0.60</td>\n",
       "      <td>17.10</td>\n",
       "      <td>160.0</td>\n",
       "      <td>15.83</td>\n",
       "      <td>1007.36</td>\n",
       "      <td>0</td>\n",
       "      <td>2006</td>\n",
       "      <td>4</td>\n",
       "      <td>11</td>\n",
       "      <td>0.004247</td>\n",
       "    </tr>\n",
       "    <tr>\n",
       "      <th>49</th>\n",
       "      <td>0</td>\n",
       "      <td>13.28</td>\n",
       "      <td>13.28</td>\n",
       "      <td>0.63</td>\n",
       "      <td>14.36</td>\n",
       "      <td>160.0</td>\n",
       "      <td>15.83</td>\n",
       "      <td>1007.26</td>\n",
       "      <td>1</td>\n",
       "      <td>2006</td>\n",
       "      <td>4</td>\n",
       "      <td>11</td>\n",
       "      <td>0.004247</td>\n",
       "    </tr>\n",
       "    <tr>\n",
       "      <th>50</th>\n",
       "      <td>0</td>\n",
       "      <td>8.63</td>\n",
       "      <td>5.47</td>\n",
       "      <td>0.87</td>\n",
       "      <td>22.04</td>\n",
       "      <td>32.0</td>\n",
       "      <td>6.70</td>\n",
       "      <td>1005.10</td>\n",
       "      <td>2</td>\n",
       "      <td>2006</td>\n",
       "      <td>4</td>\n",
       "      <td>11</td>\n",
       "      <td>0.004247</td>\n",
       "    </tr>\n",
       "  </tbody>\n",
       "</table>\n",
       "</div>"
      ],
      "text/plain": [
       "    Precip Type  Temperature (C)  Apparent Temperature (C)  Humidity  \\\n",
       "46            0            14.42                     14.42      0.58   \n",
       "47            0            14.26                     14.26      0.59   \n",
       "48            0            13.77                     13.77      0.60   \n",
       "49            0            13.28                     13.28      0.63   \n",
       "50            0             8.63                      5.47      0.87   \n",
       "\n",
       "    Wind Speed (km/h)  Wind Bearing (degrees)  Visibility (km)  \\\n",
       "46              20.01                   159.0            15.83   \n",
       "47              16.50                   168.0            14.96   \n",
       "48              17.10                   160.0            15.83   \n",
       "49              14.36                   160.0            15.83   \n",
       "50              22.04                    32.0             6.70   \n",
       "\n",
       "    Pressure (millibars)  Time  Year  Month  Day  Daily Summary Frequency  \n",
       "46               1007.85    22  2006      4   10                 0.168068  \n",
       "47               1007.89    23  2006      4   10                 0.168068  \n",
       "48               1007.36     0  2006      4   11                 0.004247  \n",
       "49               1007.26     1  2006      4   11                 0.004247  \n",
       "50               1005.10     2  2006      4   11                 0.004247  "
      ]
     },
     "execution_count": 119,
     "metadata": {},
     "output_type": "execute_result"
    }
   ],
   "source": [
    "# As \"Daily Summary\" have 221 unique values, hence applying Frequency encoding\n",
    "# Creating a new column for frequency encoding and removing previous column\n",
    "input_df['Daily Summary Frequency'] = input_df['Daily Summary'].map(input_df['Daily Summary'].value_counts(normalize=True))\n",
    "input_df.drop(columns=['Daily Summary'], axis=1, inplace=True)\n",
    "# Checking data\n",
    "input_df.head()"
   ]
  },
  {
   "cell_type": "markdown",
   "id": "322fc8bc",
   "metadata": {
    "papermill": {
     "duration": 0.054903,
     "end_time": "2023-07-08T09:06:09.437927",
     "exception": false,
     "start_time": "2023-07-08T09:06:09.383024",
     "status": "completed"
    },
    "tags": []
   },
   "source": [
    "* #### Checking Multicollinearity"
   ]
  },
  {
   "cell_type": "code",
   "execution_count": 120,
   "id": "4f674857",
   "metadata": {
    "execution": {
     "iopub.execute_input": "2023-07-08T09:06:09.550625Z",
     "iopub.status.busy": "2023-07-08T09:06:09.550174Z",
     "iopub.status.idle": "2023-07-08T09:06:10.659115Z",
     "shell.execute_reply": "2023-07-08T09:06:10.657969Z"
    },
    "papermill": {
     "duration": 1.169226,
     "end_time": "2023-07-08T09:06:10.662524",
     "exception": false,
     "start_time": "2023-07-08T09:06:09.493298",
     "status": "completed"
    },
    "scrolled": false,
    "tags": []
   },
   "outputs": [
    {
     "data": {
      "image/png": "[encoded data removed]",
      "text/plain": [
       "<Figure size 864x576 with 2 Axes>"
      ]
     },
     "metadata": {},
     "output_type": "display_data"
    }
   ],
   "source": [
    "# Confirming multicollinearity using heatmap\n",
    "sns.set(style=\"white\")\n",
    "plt.figure(figsize=(12,8))\n",
    "sns.heatmap(input_df.corr(), annot=True, cmap='coolwarm', linewidths=.5)\n",
    "plt.title('Correlation Heatmap')\n",
    "plt.show()"
   ]
  },
  {
   "cell_type": "code",
   "execution_count": 121,
   "id": "348e5b46",
   "metadata": {
    "execution": {
     "iopub.execute_input": "2023-07-08T09:06:10.784445Z",
     "iopub.status.busy": "2023-07-08T09:06:10.783939Z",
     "iopub.status.idle": "2023-07-08T09:06:10.791391Z",
     "shell.execute_reply": "2023-07-08T09:06:10.790282Z"
    },
    "papermill": {
     "duration": 0.071095,
     "end_time": "2023-07-08T09:06:10.793821",
     "exception": false,
     "start_time": "2023-07-08T09:06:10.722726",
     "status": "completed"
    },
    "tags": []
   },
   "outputs": [],
   "source": [
    "# As Daily Summary Frequency has a negligible correlation with the other features and it is apparent that the final target is not going to be affected by this, removing it.\n",
    "input_df.drop(['Daily Summary Frequency'], axis=1, inplace=True)"
   ]
  },
  {
   "cell_type": "code",
   "execution_count": 122,
   "id": "2cd0941d",
   "metadata": {
    "execution": {
     "iopub.execute_input": "2023-07-08T09:06:10.914265Z",
     "iopub.status.busy": "2023-07-08T09:06:10.913823Z",
     "iopub.status.idle": "2023-07-08T09:06:10.921366Z",
     "shell.execute_reply": "2023-07-08T09:06:10.920179Z"
    },
    "papermill": {
     "duration": 0.070782,
     "end_time": "2023-07-08T09:06:10.923534",
     "exception": false,
     "start_time": "2023-07-08T09:06:10.852752",
     "status": "completed"
    },
    "tags": []
   },
   "outputs": [],
   "source": [
    "input_df.drop(['Temperature (C)'], axis=1, inplace=True)"
   ]
  },
  {
   "cell_type": "markdown",
   "id": "639e09f9",
   "metadata": {},
   "source": [
    "* #### Checking Statistics Testing"
   ]
  },
  {
   "cell_type": "code",
   "execution_count": 123,
   "id": "45279a35",
   "metadata": {},
   "outputs": [
    {
     "data": {
      "text/plain": [
       "7.6415558916780455"
      ]
     },
     "execution_count": 123,
     "metadata": {},
     "output_type": "execute_result"
    }
   ],
   "source": [
    "# Ho : Average tem. of sample is same as Average humuduty of population\n",
    "# H1 :  average tem. of sample is not same as average humidity of population\n",
    "m1=data['Temperature (C)'].mean()\n",
    "m1"
   ]
  },
  {
   "cell_type": "code",
   "execution_count": 124,
   "id": "1fcb2ec7",
   "metadata": {},
   "outputs": [],
   "source": [
    "df1 = pd.DataFrame(data)"
   ]
  },
  {
   "cell_type": "code",
   "execution_count": 125,
   "id": "be8cd929",
   "metadata": {},
   "outputs": [],
   "source": [
    "df2=df1.sample(31)"
   ]
  },
  {
   "cell_type": "code",
   "execution_count": 126,
   "id": "b18e53a1",
   "metadata": {},
   "outputs": [
    {
     "data": {
      "text/plain": [
       "0.827151167864062"
      ]
     },
     "execution_count": 126,
     "metadata": {},
     "output_type": "execute_result"
    }
   ],
   "source": [
    "sample_t_test =data['Humidity']\n",
    "sample_t_test\n",
    "sample_t_test.mean()"
   ]
  },
  {
   "cell_type": "code",
   "execution_count": 127,
   "id": "c1f68498",
   "metadata": {},
   "outputs": [
    {
     "name": "stdout",
     "output_type": "stream",
     "text": [
      "reject NULL\n"
     ]
    }
   ],
   "source": [
    "import scipy.stats as stats\n",
    "p = stats.ttest_1samp(sample_t_test, m1)[1]\n",
    "if p < 0.05:    # alfa is equal to 0.05 i.e. 5%\n",
    "    print(\"reject NULL\")\n",
    "else:\n",
    "    print(\"accept NULL\")"
   ]
  },
  {
   "cell_type": "markdown",
   "id": "b75a5979",
   "metadata": {},
   "source": [
    "Average Tem. of sample is not same as Average Tem. of population"
   ]
  },
  {
   "cell_type": "code",
   "execution_count": 128,
   "id": "eeafcb84",
   "metadata": {},
   "outputs": [],
   "source": [
    "m11=data[data['Summary']=='Clear']['Temperature (C)']\n",
    "m21=data[data['Summary']=='Foggy']['Temperature (C)']"
   ]
  },
  {
   "cell_type": "code",
   "execution_count": 129,
   "id": "0d0fb758",
   "metadata": {},
   "outputs": [
    {
     "name": "stdout",
     "output_type": "stream",
     "text": [
      "T-Statistic: 88.63304245251355\n",
      "P-Value: 0.0\n"
     ]
    }
   ],
   "source": [
    "t_statistic, p_value = stats.ttest_ind(m11,m21, equal_var=False)\n",
    "print(\"T-Statistic:\", t_statistic)\n",
    "print(\"P-Value:\", p_value)"
   ]
  },
  {
   "cell_type": "code",
   "execution_count": 130,
   "id": "0d0721e4",
   "metadata": {},
   "outputs": [],
   "source": [
    "from s+cipy.stats import f_oneway"
   ]
  },
  {
   "cell_type": "code",
   "execution_count": 131,
   "id": "f5981737",
   "metadata": {},
   "outputs": [
    {
     "name": "stdout",
     "output_type": "stream",
     "text": [
      "Reject null hypothesis: Summary have different Wind Speed (km/h).\n"
     ]
    }
   ],
   "source": [
    "#Using Anova test if all summary having same wind speed\n",
    "groups1 = [group['Wind Speed (km/h)'] for name, group in data.groupby('Summary')]\n",
    "statistic, p_value = f_oneway(*groups1)\n",
    "alpha = 0.05\n",
    "if p_value < alpha:\n",
    "    print(\"Reject null hypothesis: Summary have different Wind Speed (km/h).\")\n",
    "else:\n",
    "    print(\"Fail to reject null hypothesis: Summary have similar Wind Speed (km/h).\")"
   ]
  },
  {
   "cell_type": "code",
   "execution_count": 132,
   "id": "d19af946",
   "metadata": {},
   "outputs": [],
   "source": [
    "#Implement one tail Z test to check if Apparent temp of overcast summary is higher than Apparent temp.of foggy summary.\n",
    "m7=data[data['Summary']=='Overcast']['Temperature (C)']\n",
    "m8=data[data['Summary']=='Foggy']['Temperature (C)']"
   ]
  },
  {
   "cell_type": "code",
   "execution_count": 133,
   "id": "f9e5dfdc",
   "metadata": {},
   "outputs": [],
   "source": [
    "mean_Foggy = np.mean(m7)\n",
    "std_Foggy = np.std(m7, ddof=1)  \n",
    "\n",
    "mean_Overcast = np.mean(m8)\n",
    "std_Overcast = np.std(m8, ddof=1)"
   ]
  },
  {
   "cell_type": "code",
   "execution_count": 134,
   "id": "e2a4cc88",
   "metadata": {},
   "outputs": [],
   "source": [
    "Null = 'The Temperature of Overcast Summary is less than or equal to the Temperature of Foggy Summary.'\n",
    "Alternative = 'The Temperature of Overcast Summary is higher than  the Temperature of Foggy Summary'"
   ]
  },
  {
   "cell_type": "code",
   "execution_count": 135,
   "id": "55eb08d8",
   "metadata": {},
   "outputs": [
    {
     "name": "stdout",
     "output_type": "stream",
     "text": [
      "Reject the null hypothesis. The Temperature of Overcast Summary is higher than  the Temperature of Foggy Summary\n"
     ]
    }
   ],
   "source": [
    "z = (mean_Foggy - mean_Overcast) / np.sqrt((std_Foggy**2 / len(m7)) + (std_Overcast**2 / len(m8)))\n",
    "critical_z = stats.norm.ppf(1 - alpha)\n",
    "if z > critical_z:\n",
    "    print(\"Reject the null hypothesis.\",Alternative)\n",
    "else:\n",
    "    print(\"Accept the null hypothesis.\",Null)"
   ]
  },
  {
   "cell_type": "markdown",
   "id": "5329ce39",
   "metadata": {
    "papermill": {
     "duration": 0.059952,
     "end_time": "2023-07-08T09:06:11.042314",
     "exception": false,
     "start_time": "2023-07-08T09:06:10.982362",
     "status": "completed"
    },
    "tags": []
   },
   "source": [
    "* #### Train-Test Split"
   ]
  },
  {
   "cell_type": "code",
   "execution_count": 136,
   "id": "41056425",
   "metadata": {
    "execution": {
     "iopub.execute_input": "2023-07-08T09:06:11.163151Z",
     "iopub.status.busy": "2023-07-08T09:06:11.162732Z",
     "iopub.status.idle": "2023-07-08T09:06:11.172128Z",
     "shell.execute_reply": "2023-07-08T09:06:11.171363Z"
    },
    "papermill": {
     "duration": 0.072965,
     "end_time": "2023-07-08T09:06:11.174574",
     "exception": false,
     "start_time": "2023-07-08T09:06:11.101609",
     "status": "completed"
    },
    "tags": []
   },
   "outputs": [
    {
     "data": {
      "text/plain": [
       "array([[0.000e+00, 1.442e+01, 5.800e-01, ..., 2.006e+03, 4.000e+00,\n",
       "        1.000e+01],\n",
       "       [0.000e+00, 1.426e+01, 5.900e-01, ..., 2.006e+03, 4.000e+00,\n",
       "        1.000e+01],\n",
       "       [0.000e+00, 1.377e+01, 6.000e-01, ..., 2.006e+03, 4.000e+00,\n",
       "        1.100e+01],\n",
       "       ...,\n",
       "       [0.000e+00, 1.502e+01, 9.000e-01, ..., 2.016e+03, 9.000e+00,\n",
       "        9.000e+00],\n",
       "       [0.000e+00, 1.387e+01, 9.300e-01, ..., 2.016e+03, 9.000e+00,\n",
       "        9.000e+00],\n",
       "       [0.000e+00, 1.607e+01, 8.800e-01, ..., 2.016e+03, 9.000e+00,\n",
       "        9.000e+00]])"
      ]
     },
     "execution_count": 136,
     "metadata": {},
     "output_type": "execute_result"
    }
   ],
   "source": [
    "# Creating X input set\n",
    "X = input_df.values\n",
    "X"
   ]
  },
  {
   "cell_type": "code",
   "execution_count": 137,
   "id": "64d2f4ca",
   "metadata": {
    "execution": {
     "iopub.execute_input": "2023-07-08T09:06:11.295136Z",
     "iopub.status.busy": "2023-07-08T09:06:11.294701Z",
     "iopub.status.idle": "2023-07-08T09:06:11.305613Z",
     "shell.execute_reply": "2023-07-08T09:06:11.304326Z"
    },
    "papermill": {
     "duration": 0.075379,
     "end_time": "2023-07-08T09:06:11.308653",
     "exception": false,
     "start_time": "2023-07-08T09:06:11.233274",
     "status": "completed"
    },
    "tags": []
   },
   "outputs": [],
   "source": [
    "# Splitting the data into training and test sets (80 - 20) \n",
    "x_train, x_test, y_train, y_test = train_test_split(X, y, test_size=0.20, random_state=42)"
   ]
  },
  {
   "cell_type": "markdown",
   "id": "dd72182b",
   "metadata": {
    "papermill": {
     "duration": 0.058039,
     "end_time": "2023-07-08T09:06:11.426600",
     "exception": false,
     "start_time": "2023-07-08T09:06:11.368561",
     "status": "completed"
    },
    "tags": []
   },
   "source": [
    "* #### Normalizing Input Features"
   ]
  },
  {
   "cell_type": "code",
   "execution_count": 138,
   "id": "a45989bb",
   "metadata": {
    "execution": {
     "iopub.execute_input": "2023-07-08T09:06:11.545113Z",
     "iopub.status.busy": "2023-07-08T09:06:11.544726Z",
     "iopub.status.idle": "2023-07-08T09:06:11.561803Z",
     "shell.execute_reply": "2023-07-08T09:06:11.560878Z"
    },
    "papermill": {
     "duration": 0.079744,
     "end_time": "2023-07-08T09:06:11.564454",
     "exception": false,
     "start_time": "2023-07-08T09:06:11.484710",
     "status": "completed"
    },
    "tags": []
   },
   "outputs": [],
   "source": [
    "# Apply scaling on the input_df DataFrame\n",
    "scaler = StandardScaler()\n",
    "x_train = scaler.fit_transform(x_train)\n",
    "x_test = scaler.transform(x_test)"
   ]
  },
  {
   "cell_type": "markdown",
   "id": "3cd5aa90",
   "metadata": {
    "papermill": {
     "duration": 0.05794,
     "end_time": "2023-07-08T09:06:11.796909",
     "exception": false,
     "start_time": "2023-07-08T09:06:11.738969",
     "status": "completed"
    },
    "tags": []
   },
   "source": [
    "###  Model Building"
   ]
  },
  {
   "cell_type": "markdown",
   "id": "d4bd1700",
   "metadata": {
    "papermill": {
     "duration": 0.057271,
     "end_time": "2023-07-08T09:06:11.913113",
     "exception": false,
     "start_time": "2023-07-08T09:06:11.855842",
     "status": "completed"
    },
    "tags": []
   },
   "source": [
    "* #### Parametric Algorithm 1: Logistic Regression Classifier"
   ]
  },
  {
   "cell_type": "code",
   "execution_count": 139,
   "id": "06090d08",
   "metadata": {},
   "outputs": [],
   "source": [
    "def calculate_classification_metrics(y_true, y_pred, algorithm):\n",
    "    \"\"\"\n",
    "    Return the classification Metrics\n",
    "    \n",
    "    y_true = actual values\n",
    "    y_pred = predicted values\n",
    "    y_pred_probability = probability values\n",
    "    algorithm = algorithm name\n",
    "    \"\"\"\n",
    "    accuracy = round(accuracy_score(y_true, y_pred), 3)\n",
    "    precision = round(precision_score(y_true, y_pred, average='weighted'), 3)\n",
    "    recall = round(recall_score(y_true, y_pred, average='weighted'), 3)\n",
    "    f1 = round(f1_score(y_true, y_pred, average='weighted'), 3)\n",
    "    print(\"Algorithm: \", algorithm)\n",
    "    print()\n",
    "    print(\"Accuracy:\", accuracy)\n",
    "    print(\"Precision:\", precision)\n",
    "    print(\"Recall:\", recall)\n",
    "    print(\"F1 Score:\", f1)\n",
    "    print()\n",
    "    cm = confusion_matrix(y_true, y_pred)\n",
    "    labels = ['Overcast', 'Clear','Foggy']\n",
    "    plt.figure(figsize=(10, 4))\n",
    "    sns.heatmap(cm, annot=True, fmt='d', cmap='Blues', xticklabels=labels, yticklabels=labels)\n",
    "    plt.title('Confusion Matrix')\n",
    "    plt.xlabel('Predicted')\n",
    "    plt.ylabel('Actual')\n",
    "    plt.show()\n",
    "    return accuracy, precision, recall, f1\n",
    "\n"
   ]
  },
  {
   "cell_type": "code",
   "execution_count": 140,
   "id": "9efd167a",
   "metadata": {
    "execution": {
     "iopub.execute_input": "2023-07-08T09:06:12.032066Z",
     "iopub.status.busy": "2023-07-08T09:06:12.031680Z",
     "iopub.status.idle": "2023-07-08T09:06:44.957639Z",
     "shell.execute_reply": "2023-07-08T09:06:44.955597Z"
    },
    "papermill": {
     "duration": 33.088624,
     "end_time": "2023-07-08T09:06:45.059645",
     "exception": false,
     "start_time": "2023-07-08T09:06:11.971021",
     "status": "completed"
    },
    "tags": []
   },
   "outputs": [
    {
     "name": "stdout",
     "output_type": "stream",
     "text": [
      "Best Hyperparameters: {'C': 10.0, 'multi_class': 'multinomial', 'penalty': 'l1', 'solver': 'saga'}\n",
      "\n"
     ]
    }
   ],
   "source": [
    "# Hyperparameter tuning\n",
    "parameters = {'solver': ['liblinear', 'saga'], \n",
    "              'multi_class':['ovr', 'multinomial'],\n",
    "              'C':[0.001, 0.01, 10.0],\n",
    "              'penalty': ['l1', 'l2']}\n",
    "# Model Creation and Training\n",
    "model_lr = LogisticRegression(n_jobs=-1)\n",
    "models_lr = GridSearchCV(estimator=model_lr, param_grid=parameters, cv=4)\n",
    "models_lr.fit(x_train, y_train)\n",
    "best_parameters = models_lr.best_params_\n",
    "print(\"Best Hyperparameters:\", best_parameters)\n",
    "print()\n",
    "# Predictions for train\n",
    "best_model_lr = models_lr.best_estimator_\n",
    "y_pred_lr = best_model_lr.predict(x_train)\n",
    "# Predictions for test\n",
    "y_pred_lr_new = best_model_lr.predict(x_test)\n"
   ]
  },
  {
   "cell_type": "code",
   "execution_count": 141,
   "id": "7f2b8d57",
   "metadata": {
    "execution": {
     "iopub.execute_input": "2023-07-08T09:06:45.182420Z",
     "iopub.status.busy": "2023-07-08T09:06:45.182025Z",
     "iopub.status.idle": "2023-07-08T09:06:45.592203Z",
     "shell.execute_reply": "2023-07-08T09:06:45.591097Z"
    },
    "papermill": {
     "duration": 0.475491,
     "end_time": "2023-07-08T09:06:45.594819",
     "exception": false,
     "start_time": "2023-07-08T09:06:45.119328",
     "status": "completed"
    },
    "scrolled": false,
    "tags": []
   },
   "outputs": [
    {
     "name": "stdout",
     "output_type": "stream",
     "text": [
      "Testing Performance\n",
      "Algorithm:  Logistic Regression\n",
      "\n",
      "Accuracy: 0.805\n",
      "Precision: 0.802\n",
      "Recall: 0.805\n",
      "F1 Score: 0.802\n",
      "\n"
     ]
    },
    {
     "data": {
      "image/png": "[encoded data removed]",
      "text/plain": [
       "<Figure size 720x288 with 2 Axes>"
      ]
     },
     "metadata": {},
     "output_type": "display_data"
    }
   ],
   "source": [
    "# Evaluation Metrics Calculation\n",
    "print(\"Testing Performance\")\n",
    "accuracy_lr, precision_lr, recall_lr, f1_lr = calculate_classification_metrics(y_test, y_pred_lr_new, \"Logistic Regression\")"
   ]
  },
  {
   "cell_type": "markdown",
   "id": "556965da",
   "metadata": {},
   "source": [
    "* #### Accuracy: Logistic Regression model gives 80.5% accuracy."
   ]
  },
  {
   "cell_type": "markdown",
   "id": "b8bc6960",
   "metadata": {
    "papermill": {
     "duration": 0.06003,
     "end_time": "2023-07-08T09:06:45.715613",
     "exception": false,
     "start_time": "2023-07-08T09:06:45.655583",
     "status": "completed"
    },
    "tags": []
   },
   "source": [
    "* #### Parametric Algorithm 2: Gaussian Naive Bayes Classifier"
   ]
  },
  {
   "cell_type": "code",
   "execution_count": 142,
   "id": "68ef76bc",
   "metadata": {
    "execution": {
     "iopub.execute_input": "2023-07-08T09:06:45.839230Z",
     "iopub.status.busy": "2023-07-08T09:06:45.838536Z",
     "iopub.status.idle": "2023-07-08T09:06:46.020914Z",
     "shell.execute_reply": "2023-07-08T09:06:46.018776Z"
    },
    "papermill": {
     "duration": 0.248402,
     "end_time": "2023-07-08T09:06:46.024210",
     "exception": false,
     "start_time": "2023-07-08T09:06:45.775808",
     "status": "completed"
    },
    "tags": []
   },
   "outputs": [
    {
     "name": "stdout",
     "output_type": "stream",
     "text": [
      "Best Hyperparameters: {'var_smoothing': 1e-09}\n",
      "\n"
     ]
    }
   ],
   "source": [
    "# Hyperparameter tuning\n",
    "parameters = {'var_smoothing':[1e-9, 1e-8, 1e-10]}\n",
    "# Model Creation and Training\n",
    "model_nb = GaussianNB()\n",
    "models_nb = GridSearchCV(estimator=model_nb, param_grid=parameters, cv=4)\n",
    "models_nb.fit(x_train, y_train)\n",
    "best_parameters = models_nb.best_params_\n",
    "print(\"Best Hyperparameters:\", best_parameters)\n",
    "print()\n",
    "# Predictions on training data\n",
    "best_model_nb = models_nb.best_estimator_\n",
    "y_pred_nb = best_model_nb.predict(x_train)\n",
    "# Predictions on test data\n",
    "y_pred_nb_new = best_model_nb.predict(x_test)"
   ]
  },
  {
   "cell_type": "code",
   "execution_count": 143,
   "id": "c896b2a8",
   "metadata": {
    "execution": {
     "iopub.execute_input": "2023-07-08T09:06:46.153816Z",
     "iopub.status.busy": "2023-07-08T09:06:46.153358Z",
     "iopub.status.idle": "2023-07-08T09:06:46.560784Z",
     "shell.execute_reply": "2023-07-08T09:06:46.559598Z"
    },
    "papermill": {
     "duration": 0.476233,
     "end_time": "2023-07-08T09:06:46.563501",
     "exception": false,
     "start_time": "2023-07-08T09:06:46.087268",
     "status": "completed"
    },
    "scrolled": false,
    "tags": []
   },
   "outputs": [
    {
     "name": "stdout",
     "output_type": "stream",
     "text": [
      "Testing Performance\n",
      "Algorithm:  Gaussian NB\n",
      "\n",
      "Accuracy: 0.756\n",
      "Precision: 0.763\n",
      "Recall: 0.756\n",
      "F1 Score: 0.741\n",
      "\n"
     ]
    },
    {
     "data": {
      "image/png": "[encoded data removed]",
      "text/plain": [
       "<Figure size 720x288 with 2 Axes>"
      ]
     },
     "metadata": {},
     "output_type": "display_data"
    }
   ],
   "source": [
    "# Evaluation Metrics Calculation\n",
    "print(\"Testing Performance\")\n",
    "accuracy_nb, precision_nb, recall_nb, f1_nb = calculate_classification_metrics(y_test, y_pred_nb_new, \"Gaussian NB\")"
   ]
  },
  {
   "cell_type": "markdown",
   "id": "5285fc41",
   "metadata": {},
   "source": [
    "* #### Accuracy: Gaussian Naive Bayes Classifier model gives 75.6% accuracy."
   ]
  },
  {
   "cell_type": "markdown",
   "id": "3952d4f5",
   "metadata": {
    "papermill": {
     "duration": 0.063663,
     "end_time": "2023-07-08T09:07:20.825793",
     "exception": false,
     "start_time": "2023-07-08T09:07:20.762130",
     "status": "completed"
    },
    "tags": []
   },
   "source": [
    "* #### Non-Parametric Algorithm 1: Decision Tree Classifier"
   ]
  },
  {
   "cell_type": "code",
   "execution_count": 144,
   "id": "20c8992c",
   "metadata": {
    "execution": {
     "iopub.execute_input": "2023-07-08T09:07:20.955479Z",
     "iopub.status.busy": "2023-07-08T09:07:20.954261Z",
     "iopub.status.idle": "2023-07-08T09:07:31.416343Z",
     "shell.execute_reply": "2023-07-08T09:07:31.415193Z"
    },
    "papermill": {
     "duration": 10.529174,
     "end_time": "2023-07-08T09:07:31.418875",
     "exception": false,
     "start_time": "2023-07-08T09:07:20.889701",
     "status": "completed"
    },
    "tags": []
   },
   "outputs": [
    {
     "name": "stdout",
     "output_type": "stream",
     "text": [
      "Best Hyperparameters: {'criterion': 'entropy', 'max_depth': None, 'min_samples_split': 2, 'splitter': 'best'}\n",
      "\n"
     ]
    }
   ],
   "source": [
    "# Hyperparameter tuning\n",
    "parameters = {'criterion':['gini', 'entropy', 'log_loss'], \n",
    "              'max_depth': [None, 5, 10],\n",
    "              'min_samples_split': [None, 2, 5],\n",
    "              'splitter':['best','random']}\n",
    "# Model Creation and Training\n",
    "model_dt = DecisionTreeClassifier()\n",
    "models_dt = GridSearchCV(estimator=model_dt, param_grid=parameters, cv=4)\n",
    "models_dt.fit(x_train, y_train)\n",
    "best_parameters = models_dt.best_params_\n",
    "print(\"Best Hyperparameters:\", best_parameters)\n",
    "print()\n",
    "# Predictions on train data\n",
    "best_model_dt = models_dt.best_estimator_\n",
    "y_pred_dt = best_model_dt.predict(x_train)\n",
    "# Predictions on test data\n",
    "y_pred_dt_new = best_model_dt.predict(x_test)"
   ]
  },
  {
   "cell_type": "code",
   "execution_count": 145,
   "id": "95c3428b",
   "metadata": {
    "execution": {
     "iopub.execute_input": "2023-07-08T09:07:31.550095Z",
     "iopub.status.busy": "2023-07-08T09:07:31.549282Z",
     "iopub.status.idle": "2023-07-08T09:07:31.895026Z",
     "shell.execute_reply": "2023-07-08T09:07:31.893922Z"
    },
    "papermill": {
     "duration": 0.414075,
     "end_time": "2023-07-08T09:07:31.897467",
     "exception": false,
     "start_time": "2023-07-08T09:07:31.483392",
     "status": "completed"
    },
    "scrolled": false,
    "tags": []
   },
   "outputs": [
    {
     "name": "stdout",
     "output_type": "stream",
     "text": [
      "Testing Performance\n",
      "Algorithm:  Decision Tree\n",
      "\n",
      "Accuracy: 0.894\n",
      "Precision: 0.894\n",
      "Recall: 0.894\n",
      "F1 Score: 0.894\n",
      "\n"
     ]
    },
    {
     "data": {
      "image/png": "[encoded data removed]",
      "text/plain": [
       "<Figure size 720x288 with 2 Axes>"
      ]
     },
     "metadata": {},
     "output_type": "display_data"
    }
   ],
   "source": [
    "# Evaluation Metrics Calculation\n",
    "print(\"Testing Performance\")\n",
    "accuracy_dt, precision_dt, recall_dt, f1_dt = calculate_classification_metrics(y_test, y_pred_dt_new, \"Decision Tree\")"
   ]
  },
  {
   "cell_type": "markdown",
   "id": "4821589e",
   "metadata": {},
   "source": [
    "* #### Accuracy:  Decision Tree Classifier model gives 89.3% accuracy"
   ]
  },
  {
   "cell_type": "markdown",
   "id": "020ecd09",
   "metadata": {
    "papermill": {
     "duration": 0.076986,
     "end_time": "2023-07-08T09:07:32.038948",
     "exception": false,
     "start_time": "2023-07-08T09:07:31.961962",
     "status": "completed"
    },
    "tags": []
   },
   "source": [
    "* #### Non-Parametric Algorithm 2: K Nearest Neighbours Classifier"
   ]
  },
  {
   "cell_type": "code",
   "execution_count": 146,
   "id": "e8bb9e4f",
   "metadata": {
    "execution": {
     "iopub.execute_input": "2023-07-08T09:07:32.175543Z",
     "iopub.status.busy": "2023-07-08T09:07:32.175139Z",
     "iopub.status.idle": "2023-07-08T09:08:58.917314Z",
     "shell.execute_reply": "2023-07-08T09:08:58.916374Z"
    },
    "papermill": {
     "duration": 86.815201,
     "end_time": "2023-07-08T09:08:58.920015",
     "exception": false,
     "start_time": "2023-07-08T09:07:32.104814",
     "status": "completed"
    },
    "tags": []
   },
   "outputs": [
    {
     "name": "stdout",
     "output_type": "stream",
     "text": [
      "Best Hyperparameters: {'algorithm': 'auto', 'p': 1, 'weights': 'distance'}\n",
      "\n"
     ]
    }
   ],
   "source": [
    "# Hyperparameter tuning\n",
    "parameters = {'weights': ['uniform', 'distance'],\n",
    "            'algorithm': ['auto', 'ball_tree','kd_tree','brute'],\n",
    "            'p': [1,2]}\n",
    "# Model Creation and Training\n",
    "model_knn = KNeighborsClassifier(n_neighbors=5)\n",
    "models_knn = GridSearchCV(estimator=model_knn, param_grid=parameters, cv=4)\n",
    "models_knn.fit(x_train, y_train)\n",
    "best_parameters = models_knn.best_params_\n",
    "print(\"Best Hyperparameters:\", best_parameters)\n",
    "print()\n",
    "# Predictions on train data\n",
    "best_model_knn = models_knn.best_estimator_\n",
    "y_pred_knn = best_model_knn.predict(x_train)\n",
    "# Predictions on test data\n",
    "y_pred_knn_new = best_model_knn.predict(x_test)"
   ]
  },
  {
   "cell_type": "code",
   "execution_count": 147,
   "id": "3eb65b8d",
   "metadata": {
    "execution": {
     "iopub.execute_input": "2023-07-08T09:08:59.053594Z",
     "iopub.status.busy": "2023-07-08T09:08:59.053123Z",
     "iopub.status.idle": "2023-07-08T09:08:59.427853Z",
     "shell.execute_reply": "2023-07-08T09:08:59.426516Z"
    },
    "papermill": {
     "duration": 0.4456,
     "end_time": "2023-07-08T09:08:59.430338",
     "exception": false,
     "start_time": "2023-07-08T09:08:58.984738",
     "status": "completed"
    },
    "scrolled": false,
    "tags": []
   },
   "outputs": [
    {
     "name": "stdout",
     "output_type": "stream",
     "text": [
      "Testing Performance\n",
      "Algorithm:  KNN\n",
      "\n",
      "Accuracy: 0.898\n",
      "Precision: 0.898\n",
      "Recall: 0.898\n",
      "F1 Score: 0.898\n",
      "\n"
     ]
    },
    {
     "data": {
      "image/png": "[encoded data removed]",
      "text/plain": [
       "<Figure size 720x288 with 2 Axes>"
      ]
     },
     "metadata": {},
     "output_type": "display_data"
    }
   ],
   "source": [
    "# Evaluation Metrics Calculation\n",
    "print(\"Testing Performance\")\n",
    "accuracy_knn, precision_knn, recall_knn, f1_knn = calculate_classification_metrics(y_test, y_pred_knn_new, \"KNN\")"
   ]
  },
  {
   "cell_type": "markdown",
   "id": "66c5b2e6",
   "metadata": {},
   "source": [
    "* #### Accuracy: K Nearest Neighbours Classifier model gives 89.8% accuracy"
   ]
  },
  {
   "cell_type": "markdown",
   "id": "c56da91c",
   "metadata": {
    "papermill": {
     "duration": 0.067033,
     "end_time": "2023-07-08T09:08:59.566334",
     "exception": false,
     "start_time": "2023-07-08T09:08:59.499301",
     "status": "completed"
    },
    "tags": []
   },
   "source": [
    "* #### Non-Parametric Algorithm 3: Random Forest Classifier"
   ]
  },
  {
   "cell_type": "code",
   "execution_count": 148,
   "id": "007ee284",
   "metadata": {
    "execution": {
     "iopub.execute_input": "2023-07-08T09:08:59.706836Z",
     "iopub.status.busy": "2023-07-08T09:08:59.706442Z",
     "iopub.status.idle": "2023-07-08T09:10:32.244851Z",
     "shell.execute_reply": "2023-07-08T09:10:32.243574Z"
    },
    "papermill": {
     "duration": 92.612429,
     "end_time": "2023-07-08T09:10:32.247173",
     "exception": false,
     "start_time": "2023-07-08T09:08:59.634744",
     "status": "completed"
    },
    "tags": []
   },
   "outputs": [
    {
     "name": "stdout",
     "output_type": "stream",
     "text": [
      "Best Hyperparameters: {'class_weight': None, 'max_depth': None, 'min_samples_split': 2}\n",
      "\n"
     ]
    }
   ],
   "source": [
    "# Hyperparameter tuning\n",
    "parameters = {'max_depth': [None, 5],\n",
    "            'class_weight': [None, 'balanced'],\n",
    "            'min_samples_split': [None, 2, 5]}\n",
    "# Model Creation and Training\n",
    "model_rf = RandomForestClassifier()\n",
    "models_rf = GridSearchCV(estimator=model_rf, param_grid=parameters, cv=4)\n",
    "models_rf.fit(x_train, y_train)\n",
    "best_parameters = models_rf.best_params_\n",
    "print(\"Best Hyperparameters:\", best_parameters)\n",
    "print()\n",
    "# Predictions on train data\n",
    "best_model_rf = models_rf.best_estimator_\n",
    "y_pred_rf = best_model_rf.predict(x_train)\n",
    "# Predictions on test data\n",
    "y_pred_rf_new = best_model_rf.predict(x_test)"
   ]
  },
  {
   "cell_type": "code",
   "execution_count": 149,
   "id": "0f4490bf",
   "metadata": {
    "execution": {
     "iopub.execute_input": "2023-07-08T09:10:32.388962Z",
     "iopub.status.busy": "2023-07-08T09:10:32.388159Z",
     "iopub.status.idle": "2023-07-08T09:10:32.748745Z",
     "shell.execute_reply": "2023-07-08T09:10:32.747537Z"
    },
    "papermill": {
     "duration": 0.434623,
     "end_time": "2023-07-08T09:10:32.751504",
     "exception": false,
     "start_time": "2023-07-08T09:10:32.316881",
     "status": "completed"
    },
    "scrolled": false,
    "tags": []
   },
   "outputs": [
    {
     "name": "stdout",
     "output_type": "stream",
     "text": [
      "Testing Performance\n",
      "Algorithm:  Random Forest\n",
      "\n",
      "Accuracy: 0.939\n",
      "Precision: 0.939\n",
      "Recall: 0.939\n",
      "F1 Score: 0.938\n",
      "\n"
     ]
    },
    {
     "data": {
      "image/png": "[encoded data removed]",
      "text/plain": [
       "<Figure size 720x288 with 2 Axes>"
      ]
     },
     "metadata": {},
     "output_type": "display_data"
    }
   ],
   "source": [
    "# Evaluation Metrics Calculation\n",
    "print(\"Testing Performance\")\n",
    "accuracy_rf, precision_rf, recall_rf, f1_rf = calculate_classification_metrics(y_test, y_pred_rf_new, \"Random Forest\")"
   ]
  },
  {
   "cell_type": "markdown",
   "id": "f809662c",
   "metadata": {},
   "source": [
    "* #### Accuracy: Random Forest Classifier model gives 94.0% accuracy"
   ]
  },
  {
   "cell_type": "code",
   "execution_count": 150,
   "id": "da1fbc18",
   "metadata": {
    "execution": {
     "iopub.execute_input": "2023-07-08T09:59:37.697492Z",
     "iopub.status.busy": "2023-07-08T09:59:37.696947Z",
     "iopub.status.idle": "2023-07-08T09:59:37.720498Z",
     "shell.execute_reply": "2023-07-08T09:59:37.719584Z"
    },
    "papermill": {
     "duration": 0.100918,
     "end_time": "2023-07-08T09:59:37.722771",
     "exception": false,
     "start_time": "2023-07-08T09:59:37.621853",
     "status": "completed"
    },
    "scrolled": true,
    "tags": []
   },
   "outputs": [
    {
     "name": "stdout",
     "output_type": "stream",
     "text": [
      "Testing Performances for Machine Learning Algorithms\n"
     ]
    },
    {
     "data": {
      "text/html": [
       "<div>\n",
       "<style scoped>\n",
       "    .dataframe tbody tr th:only-of-type {\n",
       "        vertical-align: middle;\n",
       "    }\n",
       "\n",
       "    .dataframe tbody tr th {\n",
       "        vertical-align: top;\n",
       "    }\n",
       "\n",
       "    .dataframe thead th {\n",
       "        text-align: right;\n",
       "    }\n",
       "</style>\n",
       "<table border=\"1\" class=\"dataframe\">\n",
       "  <thead>\n",
       "    <tr style=\"text-align: right;\">\n",
       "      <th></th>\n",
       "      <th>Accuracy</th>\n",
       "      <th>Precision</th>\n",
       "      <th>Recall</th>\n",
       "      <th>F1 Score</th>\n",
       "    </tr>\n",
       "    <tr>\n",
       "      <th>Algorithms</th>\n",
       "      <th></th>\n",
       "      <th></th>\n",
       "      <th></th>\n",
       "      <th></th>\n",
       "    </tr>\n",
       "  </thead>\n",
       "  <tbody>\n",
       "    <tr>\n",
       "      <th>Logistic Regression</th>\n",
       "      <td>0.805</td>\n",
       "      <td>0.802</td>\n",
       "      <td>0.805</td>\n",
       "      <td>0.802</td>\n",
       "    </tr>\n",
       "    <tr>\n",
       "      <th>Gaussian Naive Bayes</th>\n",
       "      <td>0.756</td>\n",
       "      <td>0.763</td>\n",
       "      <td>0.756</td>\n",
       "      <td>0.741</td>\n",
       "    </tr>\n",
       "    <tr>\n",
       "      <th>Decision Tree</th>\n",
       "      <td>0.894</td>\n",
       "      <td>0.894</td>\n",
       "      <td>0.894</td>\n",
       "      <td>0.894</td>\n",
       "    </tr>\n",
       "    <tr>\n",
       "      <th>KNN</th>\n",
       "      <td>0.898</td>\n",
       "      <td>0.898</td>\n",
       "      <td>0.898</td>\n",
       "      <td>0.898</td>\n",
       "    </tr>\n",
       "    <tr>\n",
       "      <th>Random Forest</th>\n",
       "      <td>0.939</td>\n",
       "      <td>0.939</td>\n",
       "      <td>0.939</td>\n",
       "      <td>0.938</td>\n",
       "    </tr>\n",
       "  </tbody>\n",
       "</table>\n",
       "</div>"
      ],
      "text/plain": [
       "                      Accuracy  Precision  Recall  F1 Score\n",
       "Algorithms                                                 \n",
       "Logistic Regression      0.805      0.802   0.805     0.802\n",
       "Gaussian Naive Bayes     0.756      0.763   0.756     0.741\n",
       "Decision Tree            0.894      0.894   0.894     0.894\n",
       "KNN                      0.898      0.898   0.898     0.898\n",
       "Random Forest            0.939      0.939   0.939     0.938"
      ]
     },
     "execution_count": 150,
     "metadata": {},
     "output_type": "execute_result"
    }
   ],
   "source": [
    "# Results\n",
    "print(\"Testing Performances for Machine Learning Algorithms\")\n",
    "result = pd.DataFrame({\"Algorithms\":['Logistic Regression', \"Gaussian Naive Bayes\", \"Decision Tree\", \"KNN\",\"Random Forest\"],\n",
    "                       \"Accuracy\":[accuracy_lr, accuracy_nb, accuracy_dt, accuracy_knn, accuracy_rf],\n",
    "                       \"Precision\":[precision_lr, precision_nb, precision_dt, precision_knn, precision_rf],\n",
    "                       \"Recall\":[recall_lr, recall_nb, recall_dt, recall_knn, recall_rf],\n",
    "                       \"F1 Score\":[f1_lr, f1_nb, f1_dt, f1_knn, f1_rf]}).set_index('Algorithms')\n",
    "result"
   ]
  },
  {
   "cell_type": "markdown",
   "id": "c86b0920",
   "metadata": {},
   "source": [
    "# Therefore, Here we see that the highest Accuracy is 94.0% and the best algorithm model is Random Forest Classifier.\n",
    "\n",
    "# We also observe that K Nearest Neighbours Classifier and Decision Tree Classifier gives good accuracy and its 89.8% and 89.3%."
   ]
  }
 ],
 "metadata": {
  "kernelspec": {
   "display_name": "Python 3 (ipykernel)",
   "language": "python",
   "name": "python3"
  },
  "language_info": {
   "codemirror_mode": {
    "name": "ipython",
    "version": 3
   },
   "file_extension": ".py",
   "mimetype": "text/x-python",
   "name": "python",
   "nbconvert_exporter": "python",
   "pygments_lexer": "ipython3",
   "version": "3.9.7"
  },
  "papermill": {
   "default_parameters": {},
   "duration": 4646.671975,
   "end_time": "2023-07-08T10:22:27.286945",
   "environment_variables": {},
   "exception": null,
   "input_path": "__notebook__.ipynb",
   "output_path": "__notebook__.ipynb",
   "parameters": {},
   "start_time": "2023-07-08T09:05:00.614970",
   "version": "2.4.0"
  }
 },
 "nbformat": 4,
 "nbformat_minor": 5
}
