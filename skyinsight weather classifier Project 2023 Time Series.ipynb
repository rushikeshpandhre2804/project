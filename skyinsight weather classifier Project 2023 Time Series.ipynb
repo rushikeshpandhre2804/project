{
 "cells": [
  {
   "cell_type": "markdown",
   "id": "32b1c7ba",
   "metadata": {
    "papermill": {
     "duration": 0.024627,
     "end_time": "2023-07-08T09:05:13.696862",
     "exception": false,
     "start_time": "2023-07-08T09:05:13.672235",
     "status": "completed"
    },
    "tags": []
   },
   "source": [
    " ## SkyInsight: Time Series Weather Forecasting System\n",
    "\n",
    "SkyInsight is a powerful system designed to accurately classify weather conditions as Overcast, Clear, or Foggy. This classifier employs advanced techniques from machine learning domains to achieve precise weather Forecasting.\n"
   ]
  },
  {
   "cell_type": "code",
   "execution_count": 1,
   "id": "8b4907a1",
   "metadata": {
    "execution": {
     "iopub.execute_input": "2023-07-08T09:05:13.749820Z",
     "iopub.status.busy": "2023-07-08T09:05:13.748945Z",
     "iopub.status.idle": "2023-07-08T09:05:24.160489Z",
     "shell.execute_reply": "2023-07-08T09:05:24.159261Z"
    },
    "papermill": {
     "duration": 10.441346,
     "end_time": "2023-07-08T09:05:24.163227",
     "exception": false,
     "start_time": "2023-07-08T09:05:13.721881",
     "status": "completed"
    },
    "tags": []
   },
   "outputs": [],
   "source": [
    "# Importing Libraries\n",
    "import pandas as pd\n",
    "import matplotlib.pyplot as plt\n",
    "import seaborn as sns\n",
    "import numpy as np\n",
    "import matplotlib.pyplot as plt\n",
    "import seaborn as sns\n",
    "from datetime import datetime\n",
    "from statsmodels.tsa.holtwinters import ExponentialSmoothing\n",
    "from statsmodels.tsa.stattools import adfuller\n",
    "from statsmodels.graphics.tsaplots import plot_acf, plot_pacf\n",
    "from statsmodels.tsa.arima_model import ARMA, ARIMA\n",
    "import warnings\n",
    "warnings.simplefilter('ignore')\n",
    "sns.set_theme(style=\"dark\")\n",
    "from sklearn.cluster import KMeans"
   ]
  },
  {
   "cell_type": "code",
   "execution_count": 2,
   "id": "e2553f8d",
   "metadata": {
    "execution": {
     "iopub.execute_input": "2023-07-08T09:05:24.413182Z",
     "iopub.status.busy": "2023-07-08T09:05:24.412779Z",
     "iopub.status.idle": "2023-07-08T09:05:25.015271Z",
     "shell.execute_reply": "2023-07-08T09:05:25.013969Z"
    },
    "papermill": {
     "duration": 0.632414,
     "end_time": "2023-07-08T09:05:25.017869",
     "exception": false,
     "start_time": "2023-07-08T09:05:24.385455",
     "status": "completed"
    },
    "scrolled": true,
    "tags": []
   },
   "outputs": [
    {
     "data": {
      "text/html": [
       "<div>\n",
       "<style scoped>\n",
       "    .dataframe tbody tr th:only-of-type {\n",
       "        vertical-align: middle;\n",
       "    }\n",
       "\n",
       "    .dataframe tbody tr th {\n",
       "        vertical-align: top;\n",
       "    }\n",
       "\n",
       "    .dataframe thead th {\n",
       "        text-align: right;\n",
       "    }\n",
       "</style>\n",
       "<table border=\"1\" class=\"dataframe\">\n",
       "  <thead>\n",
       "    <tr style=\"text-align: right;\">\n",
       "      <th></th>\n",
       "      <th>Formatted Date</th>\n",
       "      <th>Summary</th>\n",
       "      <th>Precip Type</th>\n",
       "      <th>Temperature (C)</th>\n",
       "      <th>Apparent Temperature (C)</th>\n",
       "      <th>Humidity</th>\n",
       "      <th>Wind Speed (km/h)</th>\n",
       "      <th>Wind Bearing (degrees)</th>\n",
       "      <th>Visibility (km)</th>\n",
       "      <th>Loud Cover</th>\n",
       "      <th>Pressure (millibars)</th>\n",
       "      <th>Daily Summary</th>\n",
       "    </tr>\n",
       "  </thead>\n",
       "  <tbody>\n",
       "    <tr>\n",
       "      <th>0</th>\n",
       "      <td>2006-04-01 00:00:00.000 +0200</td>\n",
       "      <td>Partly Cloudy</td>\n",
       "      <td>rain</td>\n",
       "      <td>9.472222</td>\n",
       "      <td>7.388889</td>\n",
       "      <td>0.89</td>\n",
       "      <td>14.1197</td>\n",
       "      <td>251.0</td>\n",
       "      <td>15.8263</td>\n",
       "      <td>0.0</td>\n",
       "      <td>1015.13</td>\n",
       "      <td>Partly cloudy throughout the day.</td>\n",
       "    </tr>\n",
       "    <tr>\n",
       "      <th>1</th>\n",
       "      <td>2006-04-01 01:00:00.000 +0200</td>\n",
       "      <td>Partly Cloudy</td>\n",
       "      <td>rain</td>\n",
       "      <td>9.355556</td>\n",
       "      <td>7.227778</td>\n",
       "      <td>0.86</td>\n",
       "      <td>14.2646</td>\n",
       "      <td>259.0</td>\n",
       "      <td>15.8263</td>\n",
       "      <td>0.0</td>\n",
       "      <td>1015.63</td>\n",
       "      <td>Partly cloudy throughout the day.</td>\n",
       "    </tr>\n",
       "    <tr>\n",
       "      <th>2</th>\n",
       "      <td>2006-04-01 02:00:00.000 +0200</td>\n",
       "      <td>Mostly Cloudy</td>\n",
       "      <td>rain</td>\n",
       "      <td>9.377778</td>\n",
       "      <td>9.377778</td>\n",
       "      <td>0.89</td>\n",
       "      <td>3.9284</td>\n",
       "      <td>204.0</td>\n",
       "      <td>14.9569</td>\n",
       "      <td>0.0</td>\n",
       "      <td>1015.94</td>\n",
       "      <td>Partly cloudy throughout the day.</td>\n",
       "    </tr>\n",
       "    <tr>\n",
       "      <th>3</th>\n",
       "      <td>2006-04-01 03:00:00.000 +0200</td>\n",
       "      <td>Partly Cloudy</td>\n",
       "      <td>rain</td>\n",
       "      <td>8.288889</td>\n",
       "      <td>5.944444</td>\n",
       "      <td>0.83</td>\n",
       "      <td>14.1036</td>\n",
       "      <td>269.0</td>\n",
       "      <td>15.8263</td>\n",
       "      <td>0.0</td>\n",
       "      <td>1016.41</td>\n",
       "      <td>Partly cloudy throughout the day.</td>\n",
       "    </tr>\n",
       "    <tr>\n",
       "      <th>4</th>\n",
       "      <td>2006-04-01 04:00:00.000 +0200</td>\n",
       "      <td>Mostly Cloudy</td>\n",
       "      <td>rain</td>\n",
       "      <td>8.755556</td>\n",
       "      <td>6.977778</td>\n",
       "      <td>0.83</td>\n",
       "      <td>11.0446</td>\n",
       "      <td>259.0</td>\n",
       "      <td>15.8263</td>\n",
       "      <td>0.0</td>\n",
       "      <td>1016.51</td>\n",
       "      <td>Partly cloudy throughout the day.</td>\n",
       "    </tr>\n",
       "  </tbody>\n",
       "</table>\n",
       "</div>"
      ],
      "text/plain": [
       "                  Formatted Date        Summary Precip Type  Temperature (C)  \\\n",
       "0  2006-04-01 00:00:00.000 +0200  Partly Cloudy        rain         9.472222   \n",
       "1  2006-04-01 01:00:00.000 +0200  Partly Cloudy        rain         9.355556   \n",
       "2  2006-04-01 02:00:00.000 +0200  Mostly Cloudy        rain         9.377778   \n",
       "3  2006-04-01 03:00:00.000 +0200  Partly Cloudy        rain         8.288889   \n",
       "4  2006-04-01 04:00:00.000 +0200  Mostly Cloudy        rain         8.755556   \n",
       "\n",
       "   Apparent Temperature (C)  Humidity  Wind Speed (km/h)  \\\n",
       "0                  7.388889      0.89            14.1197   \n",
       "1                  7.227778      0.86            14.2646   \n",
       "2                  9.377778      0.89             3.9284   \n",
       "3                  5.944444      0.83            14.1036   \n",
       "4                  6.977778      0.83            11.0446   \n",
       "\n",
       "   Wind Bearing (degrees)  Visibility (km)  Loud Cover  Pressure (millibars)  \\\n",
       "0                   251.0          15.8263         0.0               1015.13   \n",
       "1                   259.0          15.8263         0.0               1015.63   \n",
       "2                   204.0          14.9569         0.0               1015.94   \n",
       "3                   269.0          15.8263         0.0               1016.41   \n",
       "4                   259.0          15.8263         0.0               1016.51   \n",
       "\n",
       "                       Daily Summary  \n",
       "0  Partly cloudy throughout the day.  \n",
       "1  Partly cloudy throughout the day.  \n",
       "2  Partly cloudy throughout the day.  \n",
       "3  Partly cloudy throughout the day.  \n",
       "4  Partly cloudy throughout the day.  "
      ]
     },
     "execution_count": 2,
     "metadata": {},
     "output_type": "execute_result"
    }
   ],
   "source": [
    "# Fetching data\n",
    "data1 = pd.read_csv(r\"C:\\Users\\Rushkesh\\OneDrive\\Desktop\\Sys Project\\weatherHistory.csv\")\n",
    "data1.head()"
   ]
  },
  {
   "cell_type": "code",
   "execution_count": 3,
   "id": "40307dfe",
   "metadata": {
    "execution": {
     "iopub.execute_input": "2023-07-08T09:05:25.070884Z",
     "iopub.status.busy": "2023-07-08T09:05:25.070493Z",
     "iopub.status.idle": "2023-07-08T09:05:25.219973Z",
     "shell.execute_reply": "2023-07-08T09:05:25.219206Z"
    },
    "papermill": {
     "duration": 0.17861,
     "end_time": "2023-07-08T09:05:25.222416",
     "exception": false,
     "start_time": "2023-07-08T09:05:25.043806",
     "status": "completed"
    },
    "tags": []
   },
   "outputs": [
    {
     "name": "stdout",
     "output_type": "stream",
     "text": [
      "<class 'pandas.core.frame.DataFrame'>\n",
      "RangeIndex: 96453 entries, 0 to 96452\n",
      "Data columns (total 12 columns):\n",
      " #   Column                    Non-Null Count  Dtype  \n",
      "---  ------                    --------------  -----  \n",
      " 0   Formatted Date            96453 non-null  object \n",
      " 1   Summary                   96453 non-null  object \n",
      " 2   Precip Type               95936 non-null  object \n",
      " 3   Temperature (C)           96453 non-null  float64\n",
      " 4   Apparent Temperature (C)  96453 non-null  float64\n",
      " 5   Humidity                  96453 non-null  float64\n",
      " 6   Wind Speed (km/h)         96453 non-null  float64\n",
      " 7   Wind Bearing (degrees)    96453 non-null  float64\n",
      " 8   Visibility (km)           96453 non-null  float64\n",
      " 9   Loud Cover                96453 non-null  float64\n",
      " 10  Pressure (millibars)      96453 non-null  float64\n",
      " 11  Daily Summary             96453 non-null  object \n",
      "dtypes: float64(8), object(4)\n",
      "memory usage: 8.8+ MB\n"
     ]
    }
   ],
   "source": [
    "# Analyzing the Data types and Exploring the number of entities in a feature\n",
    "data1.info()"
   ]
  },
  {
   "cell_type": "code",
   "execution_count": 4,
   "id": "a9f622db",
   "metadata": {
    "execution": {
     "iopub.execute_input": "2023-07-08T09:05:25.276921Z",
     "iopub.status.busy": "2023-07-08T09:05:25.275939Z",
     "iopub.status.idle": "2023-07-08T09:05:25.346454Z",
     "shell.execute_reply": "2023-07-08T09:05:25.345298Z"
    },
    "papermill": {
     "duration": 0.100839,
     "end_time": "2023-07-08T09:05:25.349157",
     "exception": false,
     "start_time": "2023-07-08T09:05:25.248318",
     "status": "completed"
    },
    "tags": []
   },
   "outputs": [
    {
     "data": {
      "text/html": [
       "<div>\n",
       "<style scoped>\n",
       "    .dataframe tbody tr th:only-of-type {\n",
       "        vertical-align: middle;\n",
       "    }\n",
       "\n",
       "    .dataframe tbody tr th {\n",
       "        vertical-align: top;\n",
       "    }\n",
       "\n",
       "    .dataframe thead th {\n",
       "        text-align: right;\n",
       "    }\n",
       "</style>\n",
       "<table border=\"1\" class=\"dataframe\">\n",
       "  <thead>\n",
       "    <tr style=\"text-align: right;\">\n",
       "      <th></th>\n",
       "      <th>Temperature (C)</th>\n",
       "      <th>Apparent Temperature (C)</th>\n",
       "      <th>Humidity</th>\n",
       "      <th>Wind Speed (km/h)</th>\n",
       "      <th>Wind Bearing (degrees)</th>\n",
       "      <th>Visibility (km)</th>\n",
       "      <th>Loud Cover</th>\n",
       "      <th>Pressure (millibars)</th>\n",
       "    </tr>\n",
       "  </thead>\n",
       "  <tbody>\n",
       "    <tr>\n",
       "      <th>count</th>\n",
       "      <td>96453.000000</td>\n",
       "      <td>96453.000000</td>\n",
       "      <td>96453.000000</td>\n",
       "      <td>96453.000000</td>\n",
       "      <td>96453.000000</td>\n",
       "      <td>96453.000000</td>\n",
       "      <td>96453.0</td>\n",
       "      <td>96453.000000</td>\n",
       "    </tr>\n",
       "    <tr>\n",
       "      <th>mean</th>\n",
       "      <td>11.932678</td>\n",
       "      <td>10.855029</td>\n",
       "      <td>0.734899</td>\n",
       "      <td>10.810640</td>\n",
       "      <td>187.509232</td>\n",
       "      <td>10.347325</td>\n",
       "      <td>0.0</td>\n",
       "      <td>1003.235956</td>\n",
       "    </tr>\n",
       "    <tr>\n",
       "      <th>std</th>\n",
       "      <td>9.551546</td>\n",
       "      <td>10.696847</td>\n",
       "      <td>0.195473</td>\n",
       "      <td>6.913571</td>\n",
       "      <td>107.383428</td>\n",
       "      <td>4.192123</td>\n",
       "      <td>0.0</td>\n",
       "      <td>116.969906</td>\n",
       "    </tr>\n",
       "    <tr>\n",
       "      <th>min</th>\n",
       "      <td>-21.822222</td>\n",
       "      <td>-27.716667</td>\n",
       "      <td>0.000000</td>\n",
       "      <td>0.000000</td>\n",
       "      <td>0.000000</td>\n",
       "      <td>0.000000</td>\n",
       "      <td>0.0</td>\n",
       "      <td>0.000000</td>\n",
       "    </tr>\n",
       "    <tr>\n",
       "      <th>25%</th>\n",
       "      <td>4.688889</td>\n",
       "      <td>2.311111</td>\n",
       "      <td>0.600000</td>\n",
       "      <td>5.828200</td>\n",
       "      <td>116.000000</td>\n",
       "      <td>8.339800</td>\n",
       "      <td>0.0</td>\n",
       "      <td>1011.900000</td>\n",
       "    </tr>\n",
       "    <tr>\n",
       "      <th>50%</th>\n",
       "      <td>12.000000</td>\n",
       "      <td>12.000000</td>\n",
       "      <td>0.780000</td>\n",
       "      <td>9.965900</td>\n",
       "      <td>180.000000</td>\n",
       "      <td>10.046400</td>\n",
       "      <td>0.0</td>\n",
       "      <td>1016.450000</td>\n",
       "    </tr>\n",
       "    <tr>\n",
       "      <th>75%</th>\n",
       "      <td>18.838889</td>\n",
       "      <td>18.838889</td>\n",
       "      <td>0.890000</td>\n",
       "      <td>14.135800</td>\n",
       "      <td>290.000000</td>\n",
       "      <td>14.812000</td>\n",
       "      <td>0.0</td>\n",
       "      <td>1021.090000</td>\n",
       "    </tr>\n",
       "    <tr>\n",
       "      <th>max</th>\n",
       "      <td>39.905556</td>\n",
       "      <td>39.344444</td>\n",
       "      <td>1.000000</td>\n",
       "      <td>63.852600</td>\n",
       "      <td>359.000000</td>\n",
       "      <td>16.100000</td>\n",
       "      <td>0.0</td>\n",
       "      <td>1046.380000</td>\n",
       "    </tr>\n",
       "  </tbody>\n",
       "</table>\n",
       "</div>"
      ],
      "text/plain": [
       "       Temperature (C)  Apparent Temperature (C)      Humidity  \\\n",
       "count     96453.000000              96453.000000  96453.000000   \n",
       "mean         11.932678                 10.855029      0.734899   \n",
       "std           9.551546                 10.696847      0.195473   \n",
       "min         -21.822222                -27.716667      0.000000   \n",
       "25%           4.688889                  2.311111      0.600000   \n",
       "50%          12.000000                 12.000000      0.780000   \n",
       "75%          18.838889                 18.838889      0.890000   \n",
       "max          39.905556                 39.344444      1.000000   \n",
       "\n",
       "       Wind Speed (km/h)  Wind Bearing (degrees)  Visibility (km)  Loud Cover  \\\n",
       "count       96453.000000            96453.000000     96453.000000     96453.0   \n",
       "mean           10.810640              187.509232        10.347325         0.0   \n",
       "std             6.913571              107.383428         4.192123         0.0   \n",
       "min             0.000000                0.000000         0.000000         0.0   \n",
       "25%             5.828200              116.000000         8.339800         0.0   \n",
       "50%             9.965900              180.000000        10.046400         0.0   \n",
       "75%            14.135800              290.000000        14.812000         0.0   \n",
       "max            63.852600              359.000000        16.100000         0.0   \n",
       "\n",
       "       Pressure (millibars)  \n",
       "count          96453.000000  \n",
       "mean            1003.235956  \n",
       "std              116.969906  \n",
       "min                0.000000  \n",
       "25%             1011.900000  \n",
       "50%             1016.450000  \n",
       "75%             1021.090000  \n",
       "max             1046.380000  "
      ]
     },
     "execution_count": 4,
     "metadata": {},
     "output_type": "execute_result"
    }
   ],
   "source": [
    "# Checking Statistical Summary\n",
    "data1.describe()"
   ]
  },
  {
   "cell_type": "code",
   "execution_count": 5,
   "id": "cb9f099a",
   "metadata": {
    "execution": {
     "iopub.execute_input": "2023-07-08T09:05:25.404576Z",
     "iopub.status.busy": "2023-07-08T09:05:25.404144Z",
     "iopub.status.idle": "2023-07-08T09:05:25.425514Z",
     "shell.execute_reply": "2023-07-08T09:05:25.424328Z"
    },
    "papermill": {
     "duration": 0.052734,
     "end_time": "2023-07-08T09:05:25.428133",
     "exception": false,
     "start_time": "2023-07-08T09:05:25.375399",
     "status": "completed"
    },
    "tags": []
   },
   "outputs": [
    {
     "name": "stdout",
     "output_type": "stream",
     "text": [
      "Partly Cloudy                          31733\n",
      "Mostly Cloudy                          28094\n",
      "Overcast                               16597\n",
      "Clear                                  10890\n",
      "Foggy                                   7148\n",
      "Breezy and Overcast                      528\n",
      "Breezy and Mostly Cloudy                 516\n",
      "Breezy and Partly Cloudy                 386\n",
      "Dry and Partly Cloudy                     86\n",
      "Windy and Partly Cloudy                   67\n",
      "Light Rain                                63\n",
      "Breezy                                    54\n",
      "Windy and Overcast                        45\n",
      "Humid and Mostly Cloudy                   40\n",
      "Drizzle                                   39\n",
      "Breezy and Foggy                          35\n",
      "Windy and Mostly Cloudy                   35\n",
      "Dry                                       34\n",
      "Humid and Partly Cloudy                   17\n",
      "Dry and Mostly Cloudy                     14\n",
      "Rain                                      10\n",
      "Windy                                      8\n",
      "Humid and Overcast                         7\n",
      "Windy and Foggy                            4\n",
      "Windy and Dry                              1\n",
      "Dangerously Windy and Partly Cloudy        1\n",
      "Breezy and Dry                             1\n",
      "Name: Summary, dtype: int64\n"
     ]
    }
   ],
   "source": [
    "# Checking Target Variable\n",
    "print(data1[\"Summary\"].value_counts())"
   ]
  },
  {
   "cell_type": "code",
   "execution_count": 6,
   "id": "f154026b",
   "metadata": {
    "execution": {
     "iopub.execute_input": "2023-07-08T09:05:25.483819Z",
     "iopub.status.busy": "2023-07-08T09:05:25.483342Z",
     "iopub.status.idle": "2023-07-08T09:05:25.595910Z",
     "shell.execute_reply": "2023-07-08T09:05:25.594629Z"
    },
    "papermill": {
     "duration": 0.14362,
     "end_time": "2023-07-08T09:05:25.598412",
     "exception": false,
     "start_time": "2023-07-08T09:05:25.454792",
     "status": "completed"
    },
    "tags": []
   },
   "outputs": [
    {
     "name": "stdout",
     "output_type": "stream",
     "text": [
      "<class 'pandas.core.frame.DataFrame'>\n",
      "Int64Index: 34635 entries, 46 to 96436\n",
      "Data columns (total 12 columns):\n",
      " #   Column                    Non-Null Count  Dtype  \n",
      "---  ------                    --------------  -----  \n",
      " 0   Formatted Date            34635 non-null  object \n",
      " 1   Summary                   34635 non-null  object \n",
      " 2   Precip Type               34396 non-null  object \n",
      " 3   Temperature (C)           34635 non-null  float64\n",
      " 4   Apparent Temperature (C)  34635 non-null  float64\n",
      " 5   Humidity                  34635 non-null  float64\n",
      " 6   Wind Speed (km/h)         34635 non-null  float64\n",
      " 7   Wind Bearing (degrees)    34635 non-null  float64\n",
      " 8   Visibility (km)           34635 non-null  float64\n",
      " 9   Loud Cover                34635 non-null  float64\n",
      " 10  Pressure (millibars)      34635 non-null  float64\n",
      " 11  Daily Summary             34635 non-null  object \n",
      "dtypes: float64(8), object(4)\n",
      "memory usage: 3.4+ MB\n"
     ]
    }
   ],
   "source": [
    "# Reduced Data (Using only 3 classes)\n",
    "data = data1[(data1[\"Summary\"] == \"Overcast\") | (data1[\"Summary\"] == \"Clear\") | (data1[\"Summary\"] == \"Foggy\")]\n",
    "data.info()"
   ]
  },
  {
   "cell_type": "code",
   "execution_count": 7,
   "id": "cedfcff6",
   "metadata": {
    "execution": {
     "iopub.execute_input": "2023-07-08T09:05:25.813227Z",
     "iopub.status.busy": "2023-07-08T09:05:25.812533Z",
     "iopub.status.idle": "2023-07-08T09:05:25.866804Z",
     "shell.execute_reply": "2023-07-08T09:05:25.865874Z"
    },
    "papermill": {
     "duration": 0.085229,
     "end_time": "2023-07-08T09:05:25.869744",
     "exception": false,
     "start_time": "2023-07-08T09:05:25.784515",
     "status": "completed"
    },
    "tags": []
   },
   "outputs": [
    {
     "data": {
      "text/plain": [
       "Formatted Date                0\n",
       "Summary                       0\n",
       "Precip Type                 239\n",
       "Temperature (C)               0\n",
       "Apparent Temperature (C)      0\n",
       "Humidity                      0\n",
       "Wind Speed (km/h)             0\n",
       "Wind Bearing (degrees)        0\n",
       "Visibility (km)               0\n",
       "Loud Cover                    0\n",
       "Pressure (millibars)          0\n",
       "Daily Summary                 0\n",
       "dtype: int64"
      ]
     },
     "execution_count": 7,
     "metadata": {},
     "output_type": "execute_result"
    }
   ],
   "source": [
    "# Calculating Missing Values\n",
    "missing_values_count = data.isnull().sum()\n",
    "missing_values_count"
   ]
  },
  {
   "cell_type": "code",
   "execution_count": 8,
   "id": "697282a1",
   "metadata": {
    "execution": {
     "iopub.execute_input": "2023-07-08T09:05:25.927041Z",
     "iopub.status.busy": "2023-07-08T09:05:25.925990Z",
     "iopub.status.idle": "2023-07-08T09:05:26.027836Z",
     "shell.execute_reply": "2023-07-08T09:05:26.027006Z"
    },
    "papermill": {
     "duration": 0.132821,
     "end_time": "2023-07-08T09:05:26.030047",
     "exception": false,
     "start_time": "2023-07-08T09:05:25.897226",
     "status": "completed"
    },
    "tags": []
   },
   "outputs": [
    {
     "data": {
      "text/plain": [
       "Formatted Date              0\n",
       "Summary                     0\n",
       "Precip Type                 0\n",
       "Temperature (C)             0\n",
       "Apparent Temperature (C)    0\n",
       "Humidity                    0\n",
       "Wind Speed (km/h)           0\n",
       "Wind Bearing (degrees)      0\n",
       "Visibility (km)             0\n",
       "Loud Cover                  0\n",
       "Pressure (millibars)        0\n",
       "Daily Summary               0\n",
       "dtype: int64"
      ]
     },
     "execution_count": 8,
     "metadata": {},
     "output_type": "execute_result"
    }
   ],
   "source": [
    "# Since 359 is a reasonable count. Dropping the respective rows. If the count were smaller we would've filled it up with dummy values\n",
    "data.dropna(inplace=True) \n",
    "# Again checking for values\n",
    "missing_values_count = data.isnull().sum()\n",
    "missing_values_count"
   ]
  },
  {
   "cell_type": "code",
   "execution_count": 9,
   "id": "5dbd6d16",
   "metadata": {
    "execution": {
     "iopub.execute_input": "2023-07-08T09:05:26.141685Z",
     "iopub.status.busy": "2023-07-08T09:05:26.141267Z",
     "iopub.status.idle": "2023-07-08T09:05:26.181860Z",
     "shell.execute_reply": "2023-07-08T09:05:26.180541Z"
    },
    "papermill": {
     "duration": 0.072003,
     "end_time": "2023-07-08T09:05:26.184628",
     "exception": false,
     "start_time": "2023-07-08T09:05:26.112625",
     "status": "completed"
    },
    "tags": []
   },
   "outputs": [
    {
     "name": "stdout",
     "output_type": "stream",
     "text": [
      "Duplicated Values:  17\n"
     ]
    }
   ],
   "source": [
    "# Calculating number of duplicated values\n",
    "print(\"Duplicated Values: \",data.duplicated().sum())"
   ]
  },
  {
   "cell_type": "code",
   "execution_count": 10,
   "id": "cdab9894",
   "metadata": {
    "execution": {
     "iopub.execute_input": "2023-07-08T09:05:26.241378Z",
     "iopub.status.busy": "2023-07-08T09:05:26.240979Z",
     "iopub.status.idle": "2023-07-08T09:05:26.310280Z",
     "shell.execute_reply": "2023-07-08T09:05:26.308506Z"
    },
    "papermill": {
     "duration": 0.102551,
     "end_time": "2023-07-08T09:05:26.314897",
     "exception": false,
     "start_time": "2023-07-08T09:05:26.212346",
     "status": "completed"
    },
    "tags": []
   },
   "outputs": [
    {
     "name": "stdout",
     "output_type": "stream",
     "text": [
      "Duplicated Values:  0\n"
     ]
    }
   ],
   "source": [
    "# Removing duplicated values\n",
    "data.drop_duplicates(inplace=True)\n",
    "# Again checking for duplicated values\n",
    "print(\"Duplicated Values: \", data.duplicated().sum())"
   ]
  },
  {
   "cell_type": "code",
   "execution_count": 11,
   "id": "3ef25498",
   "metadata": {
    "execution": {
     "iopub.execute_input": "2023-07-08T09:05:26.437723Z",
     "iopub.status.busy": "2023-07-08T09:05:26.437309Z",
     "iopub.status.idle": "2023-07-08T09:05:26.476243Z",
     "shell.execute_reply": "2023-07-08T09:05:26.475272Z"
    },
    "papermill": {
     "duration": 0.071533,
     "end_time": "2023-07-08T09:05:26.479401",
     "exception": false,
     "start_time": "2023-07-08T09:05:26.407868",
     "status": "completed"
    },
    "tags": []
   },
   "outputs": [
    {
     "data": {
      "text/html": [
       "<div>\n",
       "<style scoped>\n",
       "    .dataframe tbody tr th:only-of-type {\n",
       "        vertical-align: middle;\n",
       "    }\n",
       "\n",
       "    .dataframe tbody tr th {\n",
       "        vertical-align: top;\n",
       "    }\n",
       "\n",
       "    .dataframe thead th {\n",
       "        text-align: right;\n",
       "    }\n",
       "</style>\n",
       "<table border=\"1\" class=\"dataframe\">\n",
       "  <thead>\n",
       "    <tr style=\"text-align: right;\">\n",
       "      <th></th>\n",
       "      <th>Formatted Date</th>\n",
       "      <th>Summary</th>\n",
       "      <th>Precip Type</th>\n",
       "      <th>Temperature (C)</th>\n",
       "      <th>Apparent Temperature (C)</th>\n",
       "      <th>Humidity</th>\n",
       "      <th>Wind Speed (km/h)</th>\n",
       "      <th>Wind Bearing (degrees)</th>\n",
       "      <th>Visibility (km)</th>\n",
       "      <th>Loud Cover</th>\n",
       "      <th>Pressure (millibars)</th>\n",
       "      <th>Daily Summary</th>\n",
       "    </tr>\n",
       "  </thead>\n",
       "  <tbody>\n",
       "    <tr>\n",
       "      <th>46</th>\n",
       "      <td>2006-04-10 22:00:00.000 +0200</td>\n",
       "      <td>Overcast</td>\n",
       "      <td>rain</td>\n",
       "      <td>14.42</td>\n",
       "      <td>14.42</td>\n",
       "      <td>0.58</td>\n",
       "      <td>20.01</td>\n",
       "      <td>159.0</td>\n",
       "      <td>15.83</td>\n",
       "      <td>0.0</td>\n",
       "      <td>1007.85</td>\n",
       "      <td>Mostly cloudy throughout the day.</td>\n",
       "    </tr>\n",
       "    <tr>\n",
       "      <th>47</th>\n",
       "      <td>2006-04-10 23:00:00.000 +0200</td>\n",
       "      <td>Overcast</td>\n",
       "      <td>rain</td>\n",
       "      <td>14.26</td>\n",
       "      <td>14.26</td>\n",
       "      <td>0.59</td>\n",
       "      <td>16.50</td>\n",
       "      <td>168.0</td>\n",
       "      <td>14.96</td>\n",
       "      <td>0.0</td>\n",
       "      <td>1007.89</td>\n",
       "      <td>Mostly cloudy throughout the day.</td>\n",
       "    </tr>\n",
       "    <tr>\n",
       "      <th>48</th>\n",
       "      <td>2006-04-11 00:00:00.000 +0200</td>\n",
       "      <td>Overcast</td>\n",
       "      <td>rain</td>\n",
       "      <td>13.77</td>\n",
       "      <td>13.77</td>\n",
       "      <td>0.60</td>\n",
       "      <td>17.10</td>\n",
       "      <td>160.0</td>\n",
       "      <td>15.83</td>\n",
       "      <td>0.0</td>\n",
       "      <td>1007.36</td>\n",
       "      <td>Foggy in the evening.</td>\n",
       "    </tr>\n",
       "    <tr>\n",
       "      <th>49</th>\n",
       "      <td>2006-04-11 01:00:00.000 +0200</td>\n",
       "      <td>Overcast</td>\n",
       "      <td>rain</td>\n",
       "      <td>13.28</td>\n",
       "      <td>13.28</td>\n",
       "      <td>0.63</td>\n",
       "      <td>14.36</td>\n",
       "      <td>160.0</td>\n",
       "      <td>15.83</td>\n",
       "      <td>0.0</td>\n",
       "      <td>1007.26</td>\n",
       "      <td>Foggy in the evening.</td>\n",
       "    </tr>\n",
       "    <tr>\n",
       "      <th>50</th>\n",
       "      <td>2006-04-11 02:00:00.000 +0200</td>\n",
       "      <td>Overcast</td>\n",
       "      <td>rain</td>\n",
       "      <td>8.63</td>\n",
       "      <td>5.47</td>\n",
       "      <td>0.87</td>\n",
       "      <td>22.04</td>\n",
       "      <td>32.0</td>\n",
       "      <td>6.70</td>\n",
       "      <td>0.0</td>\n",
       "      <td>1005.10</td>\n",
       "      <td>Foggy in the evening.</td>\n",
       "    </tr>\n",
       "  </tbody>\n",
       "</table>\n",
       "</div>"
      ],
      "text/plain": [
       "                   Formatted Date   Summary Precip Type  Temperature (C)  \\\n",
       "46  2006-04-10 22:00:00.000 +0200  Overcast        rain            14.42   \n",
       "47  2006-04-10 23:00:00.000 +0200  Overcast        rain            14.26   \n",
       "48  2006-04-11 00:00:00.000 +0200  Overcast        rain            13.77   \n",
       "49  2006-04-11 01:00:00.000 +0200  Overcast        rain            13.28   \n",
       "50  2006-04-11 02:00:00.000 +0200  Overcast        rain             8.63   \n",
       "\n",
       "    Apparent Temperature (C)  Humidity  Wind Speed (km/h)  \\\n",
       "46                     14.42      0.58              20.01   \n",
       "47                     14.26      0.59              16.50   \n",
       "48                     13.77      0.60              17.10   \n",
       "49                     13.28      0.63              14.36   \n",
       "50                      5.47      0.87              22.04   \n",
       "\n",
       "    Wind Bearing (degrees)  Visibility (km)  Loud Cover  Pressure (millibars)  \\\n",
       "46                   159.0            15.83         0.0               1007.85   \n",
       "47                   168.0            14.96         0.0               1007.89   \n",
       "48                   160.0            15.83         0.0               1007.36   \n",
       "49                   160.0            15.83         0.0               1007.26   \n",
       "50                    32.0             6.70         0.0               1005.10   \n",
       "\n",
       "                        Daily Summary  \n",
       "46  Mostly cloudy throughout the day.  \n",
       "47  Mostly cloudy throughout the day.  \n",
       "48              Foggy in the evening.  \n",
       "49              Foggy in the evening.  \n",
       "50              Foggy in the evening.  "
      ]
     },
     "execution_count": 11,
     "metadata": {},
     "output_type": "execute_result"
    }
   ],
   "source": [
    "# Rounding up the float64 data upto 2 decimals.\n",
    "float_cols = data.select_dtypes(include='float')\n",
    "data[float_cols.columns] = float_cols.round(2)\n",
    "data.head()"
   ]
  },
  {
   "cell_type": "code",
   "execution_count": 12,
   "id": "db8b5074",
   "metadata": {
    "execution": {
     "iopub.execute_input": "2023-07-08T09:05:26.543028Z",
     "iopub.status.busy": "2023-07-08T09:05:26.542037Z",
     "iopub.status.idle": "2023-07-08T09:05:33.336651Z",
     "shell.execute_reply": "2023-07-08T09:05:33.335571Z"
    },
    "papermill": {
     "duration": 6.828139,
     "end_time": "2023-07-08T09:05:33.339647",
     "exception": false,
     "start_time": "2023-07-08T09:05:26.511508",
     "status": "completed"
    },
    "tags": []
   },
   "outputs": [],
   "source": [
    "# Formatting Date Column. This can be used to identify any seasonality and trends\n",
    "data['Formatted Date'] = pd.to_datetime(data['Formatted Date'], errors='coerce')\n",
    "# Extracting the relevant components\n",
    "data[\"Time\"] = [d.time() for d in data['Formatted Date']]\n",
    "data[\"Time\"] = data[\"Time\"].astype(str)\n",
    "data[\"Time\"] = data[\"Time\"].str.split(':').str[0].astype(int)\n",
    "data[\"Date\"] = [d.date() for d in data['Formatted Date']]\n",
    "data[\"Date\"]= data[\"Date\"].astype(str)\n",
    "data[\"Year\"] = data[\"Date\"].str.split('-').str[0].astype(int)\n",
    "data[\"Month\"] = data[\"Date\"].str.split('-').str[1].astype(int)\n",
    "data[\"Day\"] = data[\"Date\"].str.split('-').str[2].astype(int)\n",
    "# Dropping the original column \n",
    "data = data.drop(columns=['Formatted Date','Date'], axis=1)"
   ]
  },
  {
   "cell_type": "markdown",
   "id": "90749f1a",
   "metadata": {
    "papermill": {
     "duration": 0.027343,
     "end_time": "2023-07-08T09:05:33.395461",
     "exception": false,
     "start_time": "2023-07-08T09:05:33.368118",
     "status": "completed"
    },
    "tags": []
   },
   "source": [
    "* #### Redundant Columns Treatment"
   ]
  },
  {
   "cell_type": "code",
   "execution_count": 13,
   "id": "8c90c796",
   "metadata": {
    "execution": {
     "iopub.execute_input": "2023-07-08T09:05:33.453316Z",
     "iopub.status.busy": "2023-07-08T09:05:33.452934Z",
     "iopub.status.idle": "2023-07-08T09:05:33.461545Z",
     "shell.execute_reply": "2023-07-08T09:05:33.460466Z"
    },
    "papermill": {
     "duration": 0.040487,
     "end_time": "2023-07-08T09:05:33.463687",
     "exception": false,
     "start_time": "2023-07-08T09:05:33.423200",
     "status": "completed"
    },
    "tags": []
   },
   "outputs": [
    {
     "data": {
      "text/plain": [
       "0.0    34379\n",
       "Name: Loud Cover, dtype: int64"
      ]
     },
     "execution_count": 13,
     "metadata": {},
     "output_type": "execute_result"
    }
   ],
   "source": [
    "# It can be seen that the feature \"Loud Cover\" have only value '0' and mean and other statistical overview also support the deduction. Hence, it is the redundant column\n",
    "data[\"Loud Cover\"].value_counts()"
   ]
  },
  {
   "cell_type": "code",
   "execution_count": 14,
   "id": "5273252a",
   "metadata": {
    "execution": {
     "iopub.execute_input": "2023-07-08T09:05:33.521582Z",
     "iopub.status.busy": "2023-07-08T09:05:33.521134Z",
     "iopub.status.idle": "2023-07-08T09:05:33.547212Z",
     "shell.execute_reply": "2023-07-08T09:05:33.546111Z"
    },
    "papermill": {
     "duration": 0.058181,
     "end_time": "2023-07-08T09:05:33.549741",
     "exception": false,
     "start_time": "2023-07-08T09:05:33.491560",
     "status": "completed"
    },
    "tags": []
   },
   "outputs": [
    {
     "data": {
      "text/html": [
       "<div>\n",
       "<style scoped>\n",
       "    .dataframe tbody tr th:only-of-type {\n",
       "        vertical-align: middle;\n",
       "    }\n",
       "\n",
       "    .dataframe tbody tr th {\n",
       "        vertical-align: top;\n",
       "    }\n",
       "\n",
       "    .dataframe thead th {\n",
       "        text-align: right;\n",
       "    }\n",
       "</style>\n",
       "<table border=\"1\" class=\"dataframe\">\n",
       "  <thead>\n",
       "    <tr style=\"text-align: right;\">\n",
       "      <th></th>\n",
       "      <th>Summary</th>\n",
       "      <th>Precip Type</th>\n",
       "      <th>Temperature (C)</th>\n",
       "      <th>Apparent Temperature (C)</th>\n",
       "      <th>Humidity</th>\n",
       "      <th>Wind Speed (km/h)</th>\n",
       "      <th>Wind Bearing (degrees)</th>\n",
       "      <th>Visibility (km)</th>\n",
       "      <th>Pressure (millibars)</th>\n",
       "      <th>Daily Summary</th>\n",
       "      <th>Time</th>\n",
       "      <th>Year</th>\n",
       "      <th>Month</th>\n",
       "      <th>Day</th>\n",
       "    </tr>\n",
       "  </thead>\n",
       "  <tbody>\n",
       "    <tr>\n",
       "      <th>46</th>\n",
       "      <td>Overcast</td>\n",
       "      <td>rain</td>\n",
       "      <td>14.42</td>\n",
       "      <td>14.42</td>\n",
       "      <td>0.58</td>\n",
       "      <td>20.01</td>\n",
       "      <td>159.0</td>\n",
       "      <td>15.83</td>\n",
       "      <td>1007.85</td>\n",
       "      <td>Mostly cloudy throughout the day.</td>\n",
       "      <td>22</td>\n",
       "      <td>2006</td>\n",
       "      <td>4</td>\n",
       "      <td>10</td>\n",
       "    </tr>\n",
       "    <tr>\n",
       "      <th>47</th>\n",
       "      <td>Overcast</td>\n",
       "      <td>rain</td>\n",
       "      <td>14.26</td>\n",
       "      <td>14.26</td>\n",
       "      <td>0.59</td>\n",
       "      <td>16.50</td>\n",
       "      <td>168.0</td>\n",
       "      <td>14.96</td>\n",
       "      <td>1007.89</td>\n",
       "      <td>Mostly cloudy throughout the day.</td>\n",
       "      <td>23</td>\n",
       "      <td>2006</td>\n",
       "      <td>4</td>\n",
       "      <td>10</td>\n",
       "    </tr>\n",
       "    <tr>\n",
       "      <th>48</th>\n",
       "      <td>Overcast</td>\n",
       "      <td>rain</td>\n",
       "      <td>13.77</td>\n",
       "      <td>13.77</td>\n",
       "      <td>0.60</td>\n",
       "      <td>17.10</td>\n",
       "      <td>160.0</td>\n",
       "      <td>15.83</td>\n",
       "      <td>1007.36</td>\n",
       "      <td>Foggy in the evening.</td>\n",
       "      <td>0</td>\n",
       "      <td>2006</td>\n",
       "      <td>4</td>\n",
       "      <td>11</td>\n",
       "    </tr>\n",
       "    <tr>\n",
       "      <th>49</th>\n",
       "      <td>Overcast</td>\n",
       "      <td>rain</td>\n",
       "      <td>13.28</td>\n",
       "      <td>13.28</td>\n",
       "      <td>0.63</td>\n",
       "      <td>14.36</td>\n",
       "      <td>160.0</td>\n",
       "      <td>15.83</td>\n",
       "      <td>1007.26</td>\n",
       "      <td>Foggy in the evening.</td>\n",
       "      <td>1</td>\n",
       "      <td>2006</td>\n",
       "      <td>4</td>\n",
       "      <td>11</td>\n",
       "    </tr>\n",
       "    <tr>\n",
       "      <th>50</th>\n",
       "      <td>Overcast</td>\n",
       "      <td>rain</td>\n",
       "      <td>8.63</td>\n",
       "      <td>5.47</td>\n",
       "      <td>0.87</td>\n",
       "      <td>22.04</td>\n",
       "      <td>32.0</td>\n",
       "      <td>6.70</td>\n",
       "      <td>1005.10</td>\n",
       "      <td>Foggy in the evening.</td>\n",
       "      <td>2</td>\n",
       "      <td>2006</td>\n",
       "      <td>4</td>\n",
       "      <td>11</td>\n",
       "    </tr>\n",
       "  </tbody>\n",
       "</table>\n",
       "</div>"
      ],
      "text/plain": [
       "     Summary Precip Type  Temperature (C)  Apparent Temperature (C)  Humidity  \\\n",
       "46  Overcast        rain            14.42                     14.42      0.58   \n",
       "47  Overcast        rain            14.26                     14.26      0.59   \n",
       "48  Overcast        rain            13.77                     13.77      0.60   \n",
       "49  Overcast        rain            13.28                     13.28      0.63   \n",
       "50  Overcast        rain             8.63                      5.47      0.87   \n",
       "\n",
       "    Wind Speed (km/h)  Wind Bearing (degrees)  Visibility (km)  \\\n",
       "46              20.01                   159.0            15.83   \n",
       "47              16.50                   168.0            14.96   \n",
       "48              17.10                   160.0            15.83   \n",
       "49              14.36                   160.0            15.83   \n",
       "50              22.04                    32.0             6.70   \n",
       "\n",
       "    Pressure (millibars)                      Daily Summary  Time  Year  \\\n",
       "46               1007.85  Mostly cloudy throughout the day.    22  2006   \n",
       "47               1007.89  Mostly cloudy throughout the day.    23  2006   \n",
       "48               1007.36              Foggy in the evening.     0  2006   \n",
       "49               1007.26              Foggy in the evening.     1  2006   \n",
       "50               1005.10              Foggy in the evening.     2  2006   \n",
       "\n",
       "    Month  Day  \n",
       "46      4   10  \n",
       "47      4   10  \n",
       "48      4   11  \n",
       "49      4   11  \n",
       "50      4   11  "
      ]
     },
     "execution_count": 14,
     "metadata": {},
     "output_type": "execute_result"
    }
   ],
   "source": [
    "# Removing 'Loud Cover'\n",
    "data.drop(columns=[\"Loud Cover\"], axis=1, inplace=True)\n",
    "data.head()"
   ]
  },
  {
   "cell_type": "markdown",
   "id": "aae07295",
   "metadata": {
    "papermill": {
     "duration": 0.027876,
     "end_time": "2023-07-08T09:05:33.606342",
     "exception": false,
     "start_time": "2023-07-08T09:05:33.578466",
     "status": "completed"
    },
    "tags": []
   },
   "source": [
    "* #### Outlier Treatment"
   ]
  },
  {
   "cell_type": "code",
   "execution_count": 15,
   "id": "69a5e590",
   "metadata": {
    "execution": {
     "iopub.execute_input": "2023-07-08T09:05:33.664535Z",
     "iopub.status.busy": "2023-07-08T09:05:33.664119Z",
     "iopub.status.idle": "2023-07-08T09:05:33.693213Z",
     "shell.execute_reply": "2023-07-08T09:05:33.691491Z"
    },
    "papermill": {
     "duration": 0.061424,
     "end_time": "2023-07-08T09:05:33.695804",
     "exception": false,
     "start_time": "2023-07-08T09:05:33.634380",
     "status": "completed"
    },
    "tags": []
   },
   "outputs": [
    {
     "name": "stdout",
     "output_type": "stream",
     "text": [
      "Numerical Columns:  ['Temperature (C)', 'Apparent Temperature (C)', 'Humidity', 'Wind Speed (km/h)', 'Wind Bearing (degrees)', 'Visibility (km)', 'Pressure (millibars)']\n",
      "\n",
      "Categorical Columns:  ['Summary', 'Precip Type', 'Daily Summary']\n",
      "\n",
      "Continuous Columns:  ['Temperature (C)', 'Apparent Temperature (C)', 'Humidity', 'Wind Speed (km/h)', 'Wind Bearing (degrees)', 'Visibility (km)', 'Pressure (millibars)']\n",
      "\n",
      "Discrete Columns:  []\n"
     ]
    }
   ],
   "source": [
    "# Different types of columns\n",
    "numeric_columns = list(data.select_dtypes(include=['float64', 'int64']).columns)\n",
    "categorical_columns = list(data.select_dtypes(include=['object']).columns)\n",
    "continuous_columns = [i for i in numeric_columns if len(list(data[i].unique()))>=25]\n",
    "discrete_columns = [i for i in numeric_columns if len(list(data[i].unique()))<25]\n",
    "print(\"Numerical Columns: \", numeric_columns)\n",
    "print()\n",
    "print(\"Categorical Columns: \", categorical_columns)\n",
    "print()\n",
    "print(\"Continuous Columns: \", continuous_columns)\n",
    "print()\n",
    "print(\"Discrete Columns: \", discrete_columns)"
   ]
  },
  {
   "cell_type": "code",
   "execution_count": 16,
   "id": "c286dfb8",
   "metadata": {},
   "outputs": [
    {
     "data": {
      "text/html": [
       "<div>\n",
       "<style scoped>\n",
       "    .dataframe tbody tr th:only-of-type {\n",
       "        vertical-align: middle;\n",
       "    }\n",
       "\n",
       "    .dataframe tbody tr th {\n",
       "        vertical-align: top;\n",
       "    }\n",
       "\n",
       "    .dataframe thead th {\n",
       "        text-align: right;\n",
       "    }\n",
       "</style>\n",
       "<table border=\"1\" class=\"dataframe\">\n",
       "  <thead>\n",
       "    <tr style=\"text-align: right;\">\n",
       "      <th></th>\n",
       "      <th>Summary</th>\n",
       "      <th>Precip Type</th>\n",
       "      <th>Temperature (C)</th>\n",
       "      <th>Apparent Temperature (C)</th>\n",
       "      <th>Humidity</th>\n",
       "      <th>Wind Speed (km/h)</th>\n",
       "      <th>Wind Bearing (degrees)</th>\n",
       "      <th>Visibility (km)</th>\n",
       "      <th>Loud Cover</th>\n",
       "      <th>Pressure (millibars)</th>\n",
       "      <th>Daily Summary</th>\n",
       "      <th>Date-Time</th>\n",
       "      <th>TZ</th>\n",
       "    </tr>\n",
       "  </thead>\n",
       "  <tbody>\n",
       "    <tr>\n",
       "      <th>0</th>\n",
       "      <td>Partly Cloudy</td>\n",
       "      <td>rain</td>\n",
       "      <td>9.472222</td>\n",
       "      <td>7.388889</td>\n",
       "      <td>0.89</td>\n",
       "      <td>14.1197</td>\n",
       "      <td>251.0</td>\n",
       "      <td>15.8263</td>\n",
       "      <td>0.0</td>\n",
       "      <td>1015.13</td>\n",
       "      <td>Partly cloudy throughout the day.</td>\n",
       "      <td>2006-04-01 00:00:00.000</td>\n",
       "      <td>0200</td>\n",
       "    </tr>\n",
       "    <tr>\n",
       "      <th>1</th>\n",
       "      <td>Partly Cloudy</td>\n",
       "      <td>rain</td>\n",
       "      <td>9.355556</td>\n",
       "      <td>7.227778</td>\n",
       "      <td>0.86</td>\n",
       "      <td>14.2646</td>\n",
       "      <td>259.0</td>\n",
       "      <td>15.8263</td>\n",
       "      <td>0.0</td>\n",
       "      <td>1015.63</td>\n",
       "      <td>Partly cloudy throughout the day.</td>\n",
       "      <td>2006-04-01 01:00:00.000</td>\n",
       "      <td>0200</td>\n",
       "    </tr>\n",
       "    <tr>\n",
       "      <th>2</th>\n",
       "      <td>Mostly Cloudy</td>\n",
       "      <td>rain</td>\n",
       "      <td>9.377778</td>\n",
       "      <td>9.377778</td>\n",
       "      <td>0.89</td>\n",
       "      <td>3.9284</td>\n",
       "      <td>204.0</td>\n",
       "      <td>14.9569</td>\n",
       "      <td>0.0</td>\n",
       "      <td>1015.94</td>\n",
       "      <td>Partly cloudy throughout the day.</td>\n",
       "      <td>2006-04-01 02:00:00.000</td>\n",
       "      <td>0200</td>\n",
       "    </tr>\n",
       "    <tr>\n",
       "      <th>3</th>\n",
       "      <td>Partly Cloudy</td>\n",
       "      <td>rain</td>\n",
       "      <td>8.288889</td>\n",
       "      <td>5.944444</td>\n",
       "      <td>0.83</td>\n",
       "      <td>14.1036</td>\n",
       "      <td>269.0</td>\n",
       "      <td>15.8263</td>\n",
       "      <td>0.0</td>\n",
       "      <td>1016.41</td>\n",
       "      <td>Partly cloudy throughout the day.</td>\n",
       "      <td>2006-04-01 03:00:00.000</td>\n",
       "      <td>0200</td>\n",
       "    </tr>\n",
       "    <tr>\n",
       "      <th>4</th>\n",
       "      <td>Mostly Cloudy</td>\n",
       "      <td>rain</td>\n",
       "      <td>8.755556</td>\n",
       "      <td>6.977778</td>\n",
       "      <td>0.83</td>\n",
       "      <td>11.0446</td>\n",
       "      <td>259.0</td>\n",
       "      <td>15.8263</td>\n",
       "      <td>0.0</td>\n",
       "      <td>1016.51</td>\n",
       "      <td>Partly cloudy throughout the day.</td>\n",
       "      <td>2006-04-01 04:00:00.000</td>\n",
       "      <td>0200</td>\n",
       "    </tr>\n",
       "  </tbody>\n",
       "</table>\n",
       "</div>"
      ],
      "text/plain": [
       "         Summary Precip Type  Temperature (C)  Apparent Temperature (C)  \\\n",
       "0  Partly Cloudy        rain         9.472222                  7.388889   \n",
       "1  Partly Cloudy        rain         9.355556                  7.227778   \n",
       "2  Mostly Cloudy        rain         9.377778                  9.377778   \n",
       "3  Partly Cloudy        rain         8.288889                  5.944444   \n",
       "4  Mostly Cloudy        rain         8.755556                  6.977778   \n",
       "\n",
       "   Humidity  Wind Speed (km/h)  Wind Bearing (degrees)  Visibility (km)  \\\n",
       "0      0.89            14.1197                   251.0          15.8263   \n",
       "1      0.86            14.2646                   259.0          15.8263   \n",
       "2      0.89             3.9284                   204.0          14.9569   \n",
       "3      0.83            14.1036                   269.0          15.8263   \n",
       "4      0.83            11.0446                   259.0          15.8263   \n",
       "\n",
       "   Loud Cover  Pressure (millibars)                      Daily Summary  \\\n",
       "0         0.0               1015.13  Partly cloudy throughout the day.   \n",
       "1         0.0               1015.63  Partly cloudy throughout the day.   \n",
       "2         0.0               1015.94  Partly cloudy throughout the day.   \n",
       "3         0.0               1016.41  Partly cloudy throughout the day.   \n",
       "4         0.0               1016.51  Partly cloudy throughout the day.   \n",
       "\n",
       "                  Date-Time    TZ  \n",
       "0  2006-04-01 00:00:00.000   0200  \n",
       "1  2006-04-01 01:00:00.000   0200  \n",
       "2  2006-04-01 02:00:00.000   0200  \n",
       "3  2006-04-01 03:00:00.000   0200  \n",
       "4  2006-04-01 04:00:00.000   0200  "
      ]
     },
     "execution_count": 16,
     "metadata": {},
     "output_type": "execute_result"
    }
   ],
   "source": [
    "data1[[\"Date-Time\",\"TZ\"]]=data1[\"Formatted Date\"].str.split(\"+\",expand=True)\n",
    "df1=data1.drop(columns=\"Formatted Date\")\n",
    "df1.head()"
   ]
  },
  {
   "cell_type": "code",
   "execution_count": 17,
   "id": "381c7731",
   "metadata": {},
   "outputs": [
    {
     "data": {
      "text/html": [
       "<div>\n",
       "<style scoped>\n",
       "    .dataframe tbody tr th:only-of-type {\n",
       "        vertical-align: middle;\n",
       "    }\n",
       "\n",
       "    .dataframe tbody tr th {\n",
       "        vertical-align: top;\n",
       "    }\n",
       "\n",
       "    .dataframe thead th {\n",
       "        text-align: right;\n",
       "    }\n",
       "</style>\n",
       "<table border=\"1\" class=\"dataframe\">\n",
       "  <thead>\n",
       "    <tr style=\"text-align: right;\">\n",
       "      <th></th>\n",
       "      <th>Date-Time</th>\n",
       "      <th>Summary</th>\n",
       "      <th>Precip Type</th>\n",
       "      <th>Temperature (C)</th>\n",
       "      <th>Apparent Temperature (C)</th>\n",
       "      <th>Humidity</th>\n",
       "      <th>Wind Speed (km/h)</th>\n",
       "      <th>Wind Bearing (degrees)</th>\n",
       "      <th>Visibility (km)</th>\n",
       "      <th>Loud Cover</th>\n",
       "      <th>Pressure (millibars)</th>\n",
       "      <th>Daily Summary</th>\n",
       "    </tr>\n",
       "  </thead>\n",
       "  <tbody>\n",
       "    <tr>\n",
       "      <th>0</th>\n",
       "      <td>2006-04-01 00:00:00.000</td>\n",
       "      <td>Partly Cloudy</td>\n",
       "      <td>rain</td>\n",
       "      <td>9.472222</td>\n",
       "      <td>7.388889</td>\n",
       "      <td>0.89</td>\n",
       "      <td>14.1197</td>\n",
       "      <td>251.0</td>\n",
       "      <td>15.8263</td>\n",
       "      <td>0.0</td>\n",
       "      <td>1015.13</td>\n",
       "      <td>Partly cloudy throughout the day.</td>\n",
       "    </tr>\n",
       "    <tr>\n",
       "      <th>1</th>\n",
       "      <td>2006-04-01 01:00:00.000</td>\n",
       "      <td>Partly Cloudy</td>\n",
       "      <td>rain</td>\n",
       "      <td>9.355556</td>\n",
       "      <td>7.227778</td>\n",
       "      <td>0.86</td>\n",
       "      <td>14.2646</td>\n",
       "      <td>259.0</td>\n",
       "      <td>15.8263</td>\n",
       "      <td>0.0</td>\n",
       "      <td>1015.63</td>\n",
       "      <td>Partly cloudy throughout the day.</td>\n",
       "    </tr>\n",
       "    <tr>\n",
       "      <th>2</th>\n",
       "      <td>2006-04-01 02:00:00.000</td>\n",
       "      <td>Mostly Cloudy</td>\n",
       "      <td>rain</td>\n",
       "      <td>9.377778</td>\n",
       "      <td>9.377778</td>\n",
       "      <td>0.89</td>\n",
       "      <td>3.9284</td>\n",
       "      <td>204.0</td>\n",
       "      <td>14.9569</td>\n",
       "      <td>0.0</td>\n",
       "      <td>1015.94</td>\n",
       "      <td>Partly cloudy throughout the day.</td>\n",
       "    </tr>\n",
       "    <tr>\n",
       "      <th>3</th>\n",
       "      <td>2006-04-01 03:00:00.000</td>\n",
       "      <td>Partly Cloudy</td>\n",
       "      <td>rain</td>\n",
       "      <td>8.288889</td>\n",
       "      <td>5.944444</td>\n",
       "      <td>0.83</td>\n",
       "      <td>14.1036</td>\n",
       "      <td>269.0</td>\n",
       "      <td>15.8263</td>\n",
       "      <td>0.0</td>\n",
       "      <td>1016.41</td>\n",
       "      <td>Partly cloudy throughout the day.</td>\n",
       "    </tr>\n",
       "    <tr>\n",
       "      <th>4</th>\n",
       "      <td>2006-04-01 04:00:00.000</td>\n",
       "      <td>Mostly Cloudy</td>\n",
       "      <td>rain</td>\n",
       "      <td>8.755556</td>\n",
       "      <td>6.977778</td>\n",
       "      <td>0.83</td>\n",
       "      <td>11.0446</td>\n",
       "      <td>259.0</td>\n",
       "      <td>15.8263</td>\n",
       "      <td>0.0</td>\n",
       "      <td>1016.51</td>\n",
       "      <td>Partly cloudy throughout the day.</td>\n",
       "    </tr>\n",
       "  </tbody>\n",
       "</table>\n",
       "</div>"
      ],
      "text/plain": [
       "                  Date-Time        Summary Precip Type  Temperature (C)  \\\n",
       "0  2006-04-01 00:00:00.000   Partly Cloudy        rain         9.472222   \n",
       "1  2006-04-01 01:00:00.000   Partly Cloudy        rain         9.355556   \n",
       "2  2006-04-01 02:00:00.000   Mostly Cloudy        rain         9.377778   \n",
       "3  2006-04-01 03:00:00.000   Partly Cloudy        rain         8.288889   \n",
       "4  2006-04-01 04:00:00.000   Mostly Cloudy        rain         8.755556   \n",
       "\n",
       "   Apparent Temperature (C)  Humidity  Wind Speed (km/h)  \\\n",
       "0                  7.388889      0.89            14.1197   \n",
       "1                  7.227778      0.86            14.2646   \n",
       "2                  9.377778      0.89             3.9284   \n",
       "3                  5.944444      0.83            14.1036   \n",
       "4                  6.977778      0.83            11.0446   \n",
       "\n",
       "   Wind Bearing (degrees)  Visibility (km)  Loud Cover  Pressure (millibars)  \\\n",
       "0                   251.0          15.8263         0.0               1015.13   \n",
       "1                   259.0          15.8263         0.0               1015.63   \n",
       "2                   204.0          14.9569         0.0               1015.94   \n",
       "3                   269.0          15.8263         0.0               1016.41   \n",
       "4                   259.0          15.8263         0.0               1016.51   \n",
       "\n",
       "                       Daily Summary  \n",
       "0  Partly cloudy throughout the day.  \n",
       "1  Partly cloudy throughout the day.  \n",
       "2  Partly cloudy throughout the day.  \n",
       "3  Partly cloudy throughout the day.  \n",
       "4  Partly cloudy throughout the day.  "
      ]
     },
     "execution_count": 17,
     "metadata": {},
     "output_type": "execute_result"
    }
   ],
   "source": [
    "columns_order=[\"Date-Time\",\"TZ\",\"Summary\",\"Precip Type\",\"Temperature (C)\",\"Apparent Temperature (C)\",\n",
    "                \"Humidity\",\"Wind Speed (km/h)\",\"Wind Bearing (degrees)\",\"Visibility (km)\",\"Loud Cover\",\n",
    "                \"Pressure (millibars)\", \"Daily Summary\"]\n",
    "df2=df1.reindex(columns=columns_order)\n",
    "df3=df2.drop(columns=\"TZ\")\n",
    "df3.head()"
   ]
  },
  {
   "cell_type": "code",
   "execution_count": 18,
   "id": "6ca644f9",
   "metadata": {},
   "outputs": [
    {
     "name": "stdout",
     "output_type": "stream",
     "text": [
      "<class 'pandas.core.frame.DataFrame'>\n",
      "RangeIndex: 96453 entries, 0 to 96452\n",
      "Data columns (total 12 columns):\n",
      " #   Column                    Non-Null Count  Dtype         \n",
      "---  ------                    --------------  -----         \n",
      " 0   Date-Time                 96453 non-null  datetime64[ns]\n",
      " 1   Summary                   96453 non-null  object        \n",
      " 2   Precip Type               95936 non-null  object        \n",
      " 3   Temperature (C)           96453 non-null  float64       \n",
      " 4   Apparent Temperature (C)  96453 non-null  float64       \n",
      " 5   Humidity                  96453 non-null  float64       \n",
      " 6   Wind Speed (km/h)         96453 non-null  float64       \n",
      " 7   Wind Bearing (degrees)    96453 non-null  float64       \n",
      " 8   Visibility (km)           96453 non-null  float64       \n",
      " 9   Loud Cover                96453 non-null  float64       \n",
      " 10  Pressure (millibars)      96453 non-null  float64       \n",
      " 11  Daily Summary             96453 non-null  object        \n",
      "dtypes: datetime64[ns](1), float64(8), object(3)\n",
      "memory usage: 8.8+ MB\n"
     ]
    }
   ],
   "source": [
    "df3[\"Date-Time\"]=pd.to_datetime(df3[\"Date-Time\"])\n",
    "df3.info()"
   ]
  },
  {
   "cell_type": "code",
   "execution_count": 19,
   "id": "5c6c0ec9",
   "metadata": {
    "scrolled": true
   },
   "outputs": [
    {
     "data": {
      "text/html": [
       "<div>\n",
       "<style scoped>\n",
       "    .dataframe tbody tr th:only-of-type {\n",
       "        vertical-align: middle;\n",
       "    }\n",
       "\n",
       "    .dataframe tbody tr th {\n",
       "        vertical-align: top;\n",
       "    }\n",
       "\n",
       "    .dataframe thead th {\n",
       "        text-align: right;\n",
       "    }\n",
       "</style>\n",
       "<table border=\"1\" class=\"dataframe\">\n",
       "  <thead>\n",
       "    <tr style=\"text-align: right;\">\n",
       "      <th></th>\n",
       "      <th>Date-Time</th>\n",
       "      <th>Summary</th>\n",
       "      <th>Precip Type</th>\n",
       "      <th>Temperature (C)</th>\n",
       "      <th>Apparent Temperature (C)</th>\n",
       "      <th>Humidity</th>\n",
       "      <th>Wind Speed (km/h)</th>\n",
       "      <th>Wind Bearing (degrees)</th>\n",
       "      <th>Visibility (km)</th>\n",
       "      <th>Loud Cover</th>\n",
       "      <th>Pressure (millibars)</th>\n",
       "      <th>Daily Summary</th>\n",
       "      <th>Year</th>\n",
       "      <th>Month</th>\n",
       "      <th>day</th>\n",
       "    </tr>\n",
       "  </thead>\n",
       "  <tbody>\n",
       "    <tr>\n",
       "      <th>0</th>\n",
       "      <td>2006-04-01 00:00:00</td>\n",
       "      <td>Partly Cloudy</td>\n",
       "      <td>rain</td>\n",
       "      <td>9.472222</td>\n",
       "      <td>7.388889</td>\n",
       "      <td>0.89</td>\n",
       "      <td>14.1197</td>\n",
       "      <td>251.0</td>\n",
       "      <td>15.8263</td>\n",
       "      <td>0.0</td>\n",
       "      <td>1015.13</td>\n",
       "      <td>Partly cloudy throughout the day.</td>\n",
       "      <td>2006</td>\n",
       "      <td>April</td>\n",
       "      <td>1</td>\n",
       "    </tr>\n",
       "    <tr>\n",
       "      <th>1</th>\n",
       "      <td>2006-04-01 01:00:00</td>\n",
       "      <td>Partly Cloudy</td>\n",
       "      <td>rain</td>\n",
       "      <td>9.355556</td>\n",
       "      <td>7.227778</td>\n",
       "      <td>0.86</td>\n",
       "      <td>14.2646</td>\n",
       "      <td>259.0</td>\n",
       "      <td>15.8263</td>\n",
       "      <td>0.0</td>\n",
       "      <td>1015.63</td>\n",
       "      <td>Partly cloudy throughout the day.</td>\n",
       "      <td>2006</td>\n",
       "      <td>April</td>\n",
       "      <td>1</td>\n",
       "    </tr>\n",
       "    <tr>\n",
       "      <th>2</th>\n",
       "      <td>2006-04-01 02:00:00</td>\n",
       "      <td>Mostly Cloudy</td>\n",
       "      <td>rain</td>\n",
       "      <td>9.377778</td>\n",
       "      <td>9.377778</td>\n",
       "      <td>0.89</td>\n",
       "      <td>3.9284</td>\n",
       "      <td>204.0</td>\n",
       "      <td>14.9569</td>\n",
       "      <td>0.0</td>\n",
       "      <td>1015.94</td>\n",
       "      <td>Partly cloudy throughout the day.</td>\n",
       "      <td>2006</td>\n",
       "      <td>April</td>\n",
       "      <td>1</td>\n",
       "    </tr>\n",
       "    <tr>\n",
       "      <th>3</th>\n",
       "      <td>2006-04-01 03:00:00</td>\n",
       "      <td>Partly Cloudy</td>\n",
       "      <td>rain</td>\n",
       "      <td>8.288889</td>\n",
       "      <td>5.944444</td>\n",
       "      <td>0.83</td>\n",
       "      <td>14.1036</td>\n",
       "      <td>269.0</td>\n",
       "      <td>15.8263</td>\n",
       "      <td>0.0</td>\n",
       "      <td>1016.41</td>\n",
       "      <td>Partly cloudy throughout the day.</td>\n",
       "      <td>2006</td>\n",
       "      <td>April</td>\n",
       "      <td>1</td>\n",
       "    </tr>\n",
       "    <tr>\n",
       "      <th>4</th>\n",
       "      <td>2006-04-01 04:00:00</td>\n",
       "      <td>Mostly Cloudy</td>\n",
       "      <td>rain</td>\n",
       "      <td>8.755556</td>\n",
       "      <td>6.977778</td>\n",
       "      <td>0.83</td>\n",
       "      <td>11.0446</td>\n",
       "      <td>259.0</td>\n",
       "      <td>15.8263</td>\n",
       "      <td>0.0</td>\n",
       "      <td>1016.51</td>\n",
       "      <td>Partly cloudy throughout the day.</td>\n",
       "      <td>2006</td>\n",
       "      <td>April</td>\n",
       "      <td>1</td>\n",
       "    </tr>\n",
       "  </tbody>\n",
       "</table>\n",
       "</div>"
      ],
      "text/plain": [
       "            Date-Time        Summary Precip Type  Temperature (C)  \\\n",
       "0 2006-04-01 00:00:00  Partly Cloudy        rain         9.472222   \n",
       "1 2006-04-01 01:00:00  Partly Cloudy        rain         9.355556   \n",
       "2 2006-04-01 02:00:00  Mostly Cloudy        rain         9.377778   \n",
       "3 2006-04-01 03:00:00  Partly Cloudy        rain         8.288889   \n",
       "4 2006-04-01 04:00:00  Mostly Cloudy        rain         8.755556   \n",
       "\n",
       "   Apparent Temperature (C)  Humidity  Wind Speed (km/h)  \\\n",
       "0                  7.388889      0.89            14.1197   \n",
       "1                  7.227778      0.86            14.2646   \n",
       "2                  9.377778      0.89             3.9284   \n",
       "3                  5.944444      0.83            14.1036   \n",
       "4                  6.977778      0.83            11.0446   \n",
       "\n",
       "   Wind Bearing (degrees)  Visibility (km)  Loud Cover  Pressure (millibars)  \\\n",
       "0                   251.0          15.8263         0.0               1015.13   \n",
       "1                   259.0          15.8263         0.0               1015.63   \n",
       "2                   204.0          14.9569         0.0               1015.94   \n",
       "3                   269.0          15.8263         0.0               1016.41   \n",
       "4                   259.0          15.8263         0.0               1016.51   \n",
       "\n",
       "                       Daily Summary  Year  Month  day  \n",
       "0  Partly cloudy throughout the day.  2006  April    1  \n",
       "1  Partly cloudy throughout the day.  2006  April    1  \n",
       "2  Partly cloudy throughout the day.  2006  April    1  \n",
       "3  Partly cloudy throughout the day.  2006  April    1  \n",
       "4  Partly cloudy throughout the day.  2006  April    1  "
      ]
     },
     "execution_count": 19,
     "metadata": {},
     "output_type": "execute_result"
    }
   ],
   "source": [
    "df3[\"Year\"]=pd.DatetimeIndex(df3[\"Date-Time\"]).year\n",
    "df3[\"Month\"]=df3[\"Date-Time\"].dt.month_name()\n",
    "df3[\"day\"]=df3[\"Date-Time\"].dt.day\n",
    "df3.head()"
   ]
  },
  {
   "cell_type": "code",
   "execution_count": 20,
   "id": "b8f93097",
   "metadata": {},
   "outputs": [
    {
     "data": {
      "image/png": "[encoded data removed]",
      "text/plain": [
       "<Figure size 864x432 with 1 Axes>"
      ]
     },
     "metadata": {},
     "output_type": "display_data"
    }
   ],
   "source": [
    "# Set the figure size\n",
    "plt.figure(figsize=(12, 6))\n",
    "\n",
    "# Line plot for temperature over time\n",
    "sns.lineplot(x='Date-Time', y='Temperature (C)', data=df3)\n",
    "plt.title('Temperature Over Time')\n",
    "plt.xlabel('Date')\n",
    "plt.ylabel('Temperature (°C)')\n",
    "plt.xticks(rotation=45)\n",
    "plt.show()\n"
   ]
  },
  {
   "cell_type": "markdown",
   "id": "9e7aed15",
   "metadata": {},
   "source": [
    "* In this plot we see that the our Temperature coloum present in seasonality"
   ]
  },
  {
   "cell_type": "code",
   "execution_count": 21,
   "id": "7aaba977",
   "metadata": {},
   "outputs": [],
   "source": [
    "from statsmodels.tsa.arima.model import ARIMA\n",
    "from pmdarima import auto_arima\n",
    "# Fit an ARIMA model to temperature data\n",
    "model = ARIMA(df3['Apparent Temperature (C)'], order=(1, 1, 1))\n",
    "model_fit = model.fit()"
   ]
  },
  {
   "cell_type": "code",
   "execution_count": 22,
   "id": "863a025f",
   "metadata": {},
   "outputs": [
    {
     "name": "stdout",
     "output_type": "stream",
     "text": [
      "20.009540178969985\n",
      "19.712848087217285\n",
      "19.507825467432966\n"
     ]
    }
   ],
   "source": [
    "# Make future temperature predictions\n",
    "forecast_steps = 3 # Number of steps to forecast\n",
    "forecast, stderr, conf_int = model_fit.forecast(steps=3)\n",
    "print(forecast)\n",
    "print(stderr)\n",
    "print(conf_int)"
   ]
  },
  {
   "cell_type": "code",
   "execution_count": 23,
   "id": "3f229a41",
   "metadata": {},
   "outputs": [
    {
     "data": {
      "image/png": "[encoded data removed]",
      "text/plain": [
       "<Figure size 864x432 with 1 Axes>"
      ]
     },
     "metadata": {},
     "output_type": "display_data"
    }
   ],
   "source": [
    "# Plot the original data and the forecasted values\n",
    "plt.figure(figsize=(12, 6))\n",
    "plt.plot(df3['Date-Time'], df3['Apparent Temperature (C)'], label='Observed', color='blue')\n",
    "plt.plot(df3['Date-Time'].iloc[-1:], forecast, label='Forecast', color='red')\n",
    "plt.fill_between(df3['Date-Time'].iloc[-1:], forecast - stderr, forecast + stderr, color='pink', alpha=0.5)\n",
    "plt.xlabel('Date')\n",
    "plt.ylabel('Temperature (°C)')\n",
    "plt.title('Temperature Forecast with ARIMA')\n",
    "plt.legend()\n",
    "plt.show()"
   ]
  },
  {
   "cell_type": "code",
   "execution_count": 24,
   "id": "38f87f7d",
   "metadata": {},
   "outputs": [
    {
     "name": "stdout",
     "output_type": "stream",
     "text": [
      "0.6206820977236034\n",
      "0.6278596175560922\n",
      "0.6326823398601521\n"
     ]
    },
    {
     "data": {
      "image/png": "[encoded data removed]",
      "text/plain": [
       "<Figure size 864x432 with 1 Axes>"
      ]
     },
     "metadata": {},
     "output_type": "display_data"
    }
   ],
   "source": [
    "from statsmodels.tsa.arima.model import ARIMA\n",
    "from pmdarima import auto_arima\n",
    "# Fit an ARIMA model to temperature data\n",
    "model = ARIMA(df3['Humidity'], order=(1, 1, 1))\n",
    "model_fit = model.fit()\n",
    "\n",
    "# Make future temperature predictions\n",
    "forecast_steps = 3  # Number of steps to forecast\n",
    "forecast, stderr, conf_int = model_fit.forecast(steps=forecast_steps)\n",
    "print(forecast)\n",
    "print(stderr)\n",
    "print(conf_int)\n",
    "\n",
    "# Plot the original data and the forecasted values\n",
    "plt.figure(figsize=(12, 6))\n",
    "plt.plot(df3['Date-Time'], df3['Humidity'], label='Observed', color='blue')\n",
    "plt.plot(df3['Date-Time'].iloc[-1:], forecast, label='Forecast', color='green')\n",
    "plt.fill_between(df3['Date-Time'].iloc[-1:], forecast - stderr, forecast + stderr, color='pink', alpha=0.5)\n",
    "plt.xlabel('Date')\n",
    "plt.ylabel('Humidity')\n",
    "plt.title('Humidity Forecast with ARIMA')\n",
    "plt.legend()\n",
    "plt.show()\n"
   ]
  },
  {
   "cell_type": "code",
   "execution_count": 25,
   "id": "dcc03c18",
   "metadata": {},
   "outputs": [
    {
     "name": "stdout",
     "output_type": "stream",
     "text": [
      "1015.131169948548\n",
      "1015.2343903380395\n",
      "1015.2240344500173\n"
     ]
    },
    {
     "data": {
      "image/png": "[encoded data removed]",
      "text/plain": [
       "<Figure size 864x432 with 1 Axes>"
      ]
     },
     "metadata": {},
     "output_type": "display_data"
    }
   ],
   "source": [
    "from statsmodels.tsa.arima.model import ARIMA\n",
    "from pmdarima import auto_arima\n",
    "# Fit an ARIMA model to temperature data\n",
    "model = ARIMA(df3['Pressure (millibars)'], order=(1, 1, 1))\n",
    "model_fit = model.fit()\n",
    "\n",
    "# Make future temperature predictions\n",
    "forecast_steps = 3  # Number of steps to forecast\n",
    "forecast, stderr, conf_int = model_fit.forecast(steps=forecast_steps)\n",
    "print(forecast)\n",
    "print(stderr)\n",
    "print(conf_int)\n",
    "\n",
    "# Plot the original data and the forecasted values\n",
    "plt.figure(figsize=(12, 6))\n",
    "plt.plot(df3['Date-Time'], df3['Pressure (millibars)'], label='Observed', color='blue')\n",
    "plt.plot(df3['Date-Time'].iloc[-1:], forecast, label='Forecast', color='green')\n",
    "plt.fill_between(df3['Date-Time'].iloc[-1:], forecast - stderr, forecast + stderr, color='pink', alpha=0.5)\n",
    "plt.xlabel('Date')\n",
    "plt.ylabel('Pressure (millibars)')\n",
    "plt.title('Pressure (millibars) Forecast with ARIMA')\n",
    "plt.legend()\n",
    "plt.show()"
   ]
  },
  {
   "cell_type": "code",
   "execution_count": 26,
   "id": "9a292d09",
   "metadata": {
    "scrolled": true
   },
   "outputs": [
    {
     "name": "stdout",
     "output_type": "stream",
     "text": [
      "15.49117467627665\n",
      "15.469325651649688\n",
      "15.452991191793283\n"
     ]
    },
    {
     "data": {
      "image/png": "[encoded data removed]",
      "text/plain": [
       "<Figure size 864x432 with 1 Axes>"
      ]
     },
     "metadata": {},
     "output_type": "display_data"
    }
   ],
   "source": [
    "from statsmodels.tsa.arima.model import ARIMA\n",
    "from pmdarima import auto_arima\n",
    "# Fit an ARIMA model to temperature data\n",
    "model = ARIMA(df3['Visibility (km)'], order=(1, 1, 1))\n",
    "model_fit = model.fit()\n",
    "\n",
    "# Make future temperature predictions\n",
    "forecast_steps = 3  # Number of steps to forecast\n",
    "forecast, stderr, conf_int = model_fit.forecast(steps=forecast_steps)\n",
    "print(forecast)\n",
    "print(stderr)\n",
    "print(conf_int)\n",
    "\n",
    "# Plot the original data and the forecasted values\n",
    "plt.figure(figsize=(12, 6))\n",
    "plt.plot(df3['Date-Time'], df3['Visibility (km)'], label='Observed', color='blue')\n",
    "plt.plot(df3['Date-Time'].iloc[-1:], forecast, label='Forecast', color='green')\n",
    "plt.fill_between(df3['Date-Time'].iloc[-1:], forecast - stderr, forecast + stderr, color='pink', alpha=0.5)\n",
    "plt.xlabel('Date')\n",
    "plt.ylabel('Visibility (km)')\n",
    "plt.title('Visibility (km) Forecast with ARIMA')\n",
    "plt.legend()\n",
    "plt.show()"
   ]
  },
  {
   "cell_type": "code",
   "execution_count": 27,
   "id": "27c34497",
   "metadata": {},
   "outputs": [
    {
     "data": {
      "image/png": "[encoded data removed]",
      "text/plain": [
       "<Figure size 432x288 with 1 Axes>"
      ]
     },
     "metadata": {},
     "output_type": "display_data"
    }
   ],
   "source": [
    "plot_acf(df3['Visibility (km)'], lags=20);"
   ]
  },
  {
   "cell_type": "code",
   "execution_count": 28,
   "id": "3fd781d6",
   "metadata": {},
   "outputs": [
    {
     "data": {
      "image/png": "[encoded data removed]",
      "text/plain": [
       "<Figure size 432x288 with 1 Axes>"
      ]
     },
     "metadata": {},
     "output_type": "display_data"
    }
   ],
   "source": [
    "plot_pacf(df3['Visibility (km)'], lags=20);"
   ]
  },
  {
   "cell_type": "code",
   "execution_count": 29,
   "id": "85ff960a",
   "metadata": {},
   "outputs": [
    {
     "data": {
      "image/png": "[encoded data removed]",
      "text/plain": [
       "<Figure size 432x288 with 1 Axes>"
      ]
     },
     "metadata": {},
     "output_type": "display_data"
    },
    {
     "data": {
      "image/png": "[encoded data removed]",
      "text/plain": [
       "<Figure size 432x288 with 1 Axes>"
      ]
     },
     "metadata": {},
     "output_type": "display_data"
    }
   ],
   "source": [
    "plot_acf(df3['Temperature (C)'], lags=20);\n",
    "plot_pacf(df3['Temperature (C)'], lags=20);"
   ]
  },
  {
   "cell_type": "markdown",
   "id": "22719f77",
   "metadata": {},
   "source": [
    "* In this above model we find out the forcast value of all variable also standard Error and Confidance interval in all variable."
   ]
  },
  {
   "cell_type": "code",
   "execution_count": null,
   "id": "059ba144",
   "metadata": {},
   "outputs": [],
   "source": []
  }
 ],
 "metadata": {
  "kernelspec": {
   "display_name": "Python 3 (ipykernel)",
   "language": "python",
   "name": "python3"
  },
  "language_info": {
   "codemirror_mode": {
    "name": "ipython",
    "version": 3
   },
   "file_extension": ".py",
   "mimetype": "text/x-python",
   "name": "python",
   "nbconvert_exporter": "python",
   "pygments_lexer": "ipython3",
   "version": "3.9.7"
  },
  "papermill": {
   "default_parameters": {},
   "duration": 4646.671975,
   "end_time": "2023-07-08T10:22:27.286945",
   "environment_variables": {},
   "exception": null,
   "input_path": "__notebook__.ipynb",
   "output_path": "__notebook__.ipynb",
   "parameters": {},
   "start_time": "2023-07-08T09:05:00.614970",
   "version": "2.4.0"
  }
 },
 "nbformat": 4,
 "nbformat_minor": 5
}
